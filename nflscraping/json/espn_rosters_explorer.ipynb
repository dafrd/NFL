{
 "cells": [
  {
   "cell_type": "code",
   "execution_count": 1,
   "metadata": {},
   "outputs": [],
   "source": [
    "import json\n",
    "import pandas as pd\n",
    "\n",
    "with open('./espn_players_urls.json') as rosters:\n",
    "    data = json.load(rosters)\n",
    "\n",
    "#print(data)\n"
   ]
  },
  {
   "cell_type": "code",
   "execution_count": 3,
   "metadata": {},
   "outputs": [
    {
     "data": {
      "text/html": [
       "<div>\n",
       "<style scoped>\n",
       "    .dataframe tbody tr th:only-of-type {\n",
       "        vertical-align: middle;\n",
       "    }\n",
       "\n",
       "    .dataframe tbody tr th {\n",
       "        vertical-align: top;\n",
       "    }\n",
       "\n",
       "    .dataframe thead th {\n",
       "        text-align: right;\n",
       "    }\n",
       "</style>\n",
       "<table border=\"1\" class=\"dataframe\">\n",
       "  <thead>\n",
       "    <tr style=\"text-align: right;\">\n",
       "      <th></th>\n",
       "      <th>0</th>\n",
       "    </tr>\n",
       "  </thead>\n",
       "  <tbody>\n",
       "    <tr>\n",
       "      <th>0</th>\n",
       "      <td>https://www.espn.com/nfl/player/_/id/2515962/d...</td>\n",
       "    </tr>\n",
       "    <tr>\n",
       "      <th>1</th>\n",
       "      <td>http://www.espn.com/nfl/player/_/id/3042499/tr...</td>\n",
       "    </tr>\n",
       "    <tr>\n",
       "      <th>2</th>\n",
       "      <td>https://www.espn.com/nfl/player/_/id/11609/wes...</td>\n",
       "    </tr>\n",
       "    <tr>\n",
       "      <th>3</th>\n",
       "      <td>https://www.espn.com/nfl/player/_/id/2310331/t...</td>\n",
       "    </tr>\n",
       "    <tr>\n",
       "      <th>4</th>\n",
       "      <td>https://www.espn.com/nfl/player/_/id/12613/jai...</td>\n",
       "    </tr>\n",
       "    <tr>\n",
       "      <th>...</th>\n",
       "      <td>...</td>\n",
       "    </tr>\n",
       "    <tr>\n",
       "      <th>4188</th>\n",
       "      <td>https://www.espn.com/nfl/player/_/id/3127051/d...</td>\n",
       "    </tr>\n",
       "    <tr>\n",
       "      <th>4189</th>\n",
       "      <td>https://www.espn.com/nfl/player/_/id/14141/and...</td>\n",
       "    </tr>\n",
       "    <tr>\n",
       "      <th>4190</th>\n",
       "      <td>https://www.espn.com/nfl/player/_/id/16742/jus...</td>\n",
       "    </tr>\n",
       "    <tr>\n",
       "      <th>4191</th>\n",
       "      <td>https://www.espn.com/nfl/player/_/id/2508079/j...</td>\n",
       "    </tr>\n",
       "    <tr>\n",
       "      <th>4192</th>\n",
       "      <td>http://www.espn.com/nfl/player/_/id/3134310/ke...</td>\n",
       "    </tr>\n",
       "  </tbody>\n",
       "</table>\n",
       "<p>4193 rows × 1 columns</p>\n",
       "</div>"
      ],
      "text/plain": [
       "                                                      0\n",
       "0     https://www.espn.com/nfl/player/_/id/2515962/d...\n",
       "1     http://www.espn.com/nfl/player/_/id/3042499/tr...\n",
       "2     https://www.espn.com/nfl/player/_/id/11609/wes...\n",
       "3     https://www.espn.com/nfl/player/_/id/2310331/t...\n",
       "4     https://www.espn.com/nfl/player/_/id/12613/jai...\n",
       "...                                                 ...\n",
       "4188  https://www.espn.com/nfl/player/_/id/3127051/d...\n",
       "4189  https://www.espn.com/nfl/player/_/id/14141/and...\n",
       "4190  https://www.espn.com/nfl/player/_/id/16742/jus...\n",
       "4191  https://www.espn.com/nfl/player/_/id/2508079/j...\n",
       "4192  http://www.espn.com/nfl/player/_/id/3134310/ke...\n",
       "\n",
       "[4193 rows x 1 columns]"
      ]
     },
     "execution_count": 3,
     "metadata": {},
     "output_type": "execute_result"
    }
   ],
   "source": [
    "df = pd.read_json('./espn_players_urls.json')\n",
    "df"
   ]
  },
  {
   "cell_type": "code",
   "execution_count": 1,
   "metadata": {},
   "outputs": [
    {
     "ename": "NameError",
     "evalue": "name 'df' is not defined",
     "output_type": "error",
     "traceback": [
      "\u001b[1;31m---------------------------------------------------------------------------\u001b[0m",
      "\u001b[1;31mNameError\u001b[0m                                 Traceback (most recent call last)",
      "\u001b[1;32mc:\\Users\\frede\\OneDrive\\Desktop\\Data\\Projets\\nfl\\nflscraping\\json\\roster_explorer.ipynb Cellule 3\u001b[0m in \u001b[0;36m<cell line: 1>\u001b[1;34m()\u001b[0m\n\u001b[1;32m----> <a href='vscode-notebook-cell:/c%3A/Users/frede/OneDrive/Desktop/Data/Projets/nfl/nflscraping/json/roster_explorer.ipynb#W2sZmlsZQ%3D%3D?line=0'>1</a>\u001b[0m df\u001b[39m.\u001b[39mloc[(df\u001b[39m.\u001b[39mplayer_name\u001b[39m==\u001b[39m\u001b[39m'\u001b[39m\u001b[39mBen Roethlisberger\u001b[39m\u001b[39m'\u001b[39m) \u001b[39m&\u001b[39m (df\u001b[39m.\u001b[39mgame_id\u001b[39m==\u001b[39m\u001b[39m401030698\u001b[39m)]\n",
      "\u001b[1;31mNameError\u001b[0m: name 'df' is not defined"
     ]
    }
   ],
   "source": [
    "df.loc[(df.player_name=='Ben Roethlisberger') & (df.game_id==401030698)] "
   ]
  }
 ],
 "metadata": {
  "kernelspec": {
   "display_name": "Python 3.10.5 64-bit (windows store)",
   "language": "python",
   "name": "python3"
  },
  "language_info": {
   "codemirror_mode": {
    "name": "ipython",
    "version": 3
   },
   "file_extension": ".py",
   "mimetype": "text/x-python",
   "name": "python",
   "nbconvert_exporter": "python",
   "pygments_lexer": "ipython3",
   "version": "3.10.5"
  },
  "orig_nbformat": 4,
  "vscode": {
   "interpreter": {
    "hash": "650fa92be31bf650066ac4047dcada211305a7063c331efd6a8c08465b54e9de"
   }
  }
 },
 "nbformat": 4,
 "nbformat_minor": 2
}
