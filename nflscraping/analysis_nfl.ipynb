{
 "cells": [
  {
   "cell_type": "code",
   "execution_count": 35,
   "metadata": {},
   "outputs": [],
   "source": [
    "import pandas as pd\n",
    "import numpy as np\n",
    "import seaborn as sns\n",
    "import matplotlib.pyplot as plt\n",
    "import plotly.io as pio\n",
    "import plotly.express as px\n",
    "import os"
   ]
  },
  {
   "cell_type": "code",
   "execution_count": 34,
   "metadata": {},
   "outputs": [
    {
     "data": {
      "text/html": [
       "<div>\n",
       "<style scoped>\n",
       "    .dataframe tbody tr th:only-of-type {\n",
       "        vertical-align: middle;\n",
       "    }\n",
       "\n",
       "    .dataframe tbody tr th {\n",
       "        vertical-align: top;\n",
       "    }\n",
       "\n",
       "    .dataframe thead th {\n",
       "        text-align: right;\n",
       "    }\n",
       "</style>\n",
       "<table border=\"1\" class=\"dataframe\">\n",
       "  <thead>\n",
       "    <tr style=\"text-align: right;\">\n",
       "      <th></th>\n",
       "      <th>season</th>\n",
       "      <th>week</th>\n",
       "      <th>awayteam</th>\n",
       "      <th>hometeam</th>\n",
       "      <th>awayscore</th>\n",
       "      <th>homescore</th>\n",
       "      <th>score_abs</th>\n",
       "      <th>winner_home</th>\n",
       "      <th>winner_away</th>\n",
       "    </tr>\n",
       "  </thead>\n",
       "  <tbody>\n",
       "    <tr>\n",
       "      <th>0</th>\n",
       "      <td>2018</td>\n",
       "      <td>2</td>\n",
       "      <td>Ravens</td>\n",
       "      <td>Bengals</td>\n",
       "      <td>23</td>\n",
       "      <td>34</td>\n",
       "      <td>11</td>\n",
       "      <td>1</td>\n",
       "      <td>0</td>\n",
       "    </tr>\n",
       "    <tr>\n",
       "      <th>1</th>\n",
       "      <td>2018</td>\n",
       "      <td>2</td>\n",
       "      <td>Panthers</td>\n",
       "      <td>Falcons</td>\n",
       "      <td>24</td>\n",
       "      <td>31</td>\n",
       "      <td>7</td>\n",
       "      <td>1</td>\n",
       "      <td>0</td>\n",
       "    </tr>\n",
       "    <tr>\n",
       "      <th>2</th>\n",
       "      <td>2018</td>\n",
       "      <td>2</td>\n",
       "      <td>Chargers</td>\n",
       "      <td>Bills</td>\n",
       "      <td>31</td>\n",
       "      <td>20</td>\n",
       "      <td>-11</td>\n",
       "      <td>0</td>\n",
       "      <td>1</td>\n",
       "    </tr>\n",
       "    <tr>\n",
       "      <th>3</th>\n",
       "      <td>2018</td>\n",
       "      <td>2</td>\n",
       "      <td>Texans</td>\n",
       "      <td>Titans</td>\n",
       "      <td>17</td>\n",
       "      <td>20</td>\n",
       "      <td>3</td>\n",
       "      <td>1</td>\n",
       "      <td>0</td>\n",
       "    </tr>\n",
       "    <tr>\n",
       "      <th>4</th>\n",
       "      <td>2017</td>\n",
       "      <td>2</td>\n",
       "      <td>Texans</td>\n",
       "      <td>Bengals</td>\n",
       "      <td>13</td>\n",
       "      <td>9</td>\n",
       "      <td>-4</td>\n",
       "      <td>0</td>\n",
       "      <td>1</td>\n",
       "    </tr>\n",
       "  </tbody>\n",
       "</table>\n",
       "</div>"
      ],
      "text/plain": [
       "   season  week  awayteam hometeam  awayscore  homescore  score_abs  \\\n",
       "0    2018     2    Ravens  Bengals         23         34         11   \n",
       "1    2018     2  Panthers  Falcons         24         31          7   \n",
       "2    2018     2  Chargers    Bills         31         20        -11   \n",
       "3    2018     2    Texans   Titans         17         20          3   \n",
       "4    2017     2    Texans  Bengals         13          9         -4   \n",
       "\n",
       "   winner_home  winner_away  \n",
       "0            1            0  \n",
       "1            1            0  \n",
       "2            0            1  \n",
       "3            1            0  \n",
       "4            0            1  "
      ]
     },
     "metadata": {},
     "output_type": "display_data"
    },
    {
     "data": {
      "text/html": [
       "<div>\n",
       "<style scoped>\n",
       "    .dataframe tbody tr th:only-of-type {\n",
       "        vertical-align: middle;\n",
       "    }\n",
       "\n",
       "    .dataframe tbody tr th {\n",
       "        vertical-align: top;\n",
       "    }\n",
       "\n",
       "    .dataframe thead th {\n",
       "        text-align: right;\n",
       "    }\n",
       "</style>\n",
       "<table border=\"1\" class=\"dataframe\">\n",
       "  <thead>\n",
       "    <tr style=\"text-align: right;\">\n",
       "      <th></th>\n",
       "      <th>season</th>\n",
       "      <th>week</th>\n",
       "      <th>awayscore</th>\n",
       "      <th>homescore</th>\n",
       "      <th>score_abs</th>\n",
       "      <th>winner_home</th>\n",
       "      <th>winner_away</th>\n",
       "    </tr>\n",
       "  </thead>\n",
       "  <tbody>\n",
       "    <tr>\n",
       "      <th>count</th>\n",
       "      <td>1289.000000</td>\n",
       "      <td>1289.000000</td>\n",
       "      <td>1289.000000</td>\n",
       "      <td>1289.000000</td>\n",
       "      <td>1289.000000</td>\n",
       "      <td>1289.000000</td>\n",
       "      <td>1289.000000</td>\n",
       "    </tr>\n",
       "    <tr>\n",
       "      <th>mean</th>\n",
       "      <td>2019.027153</td>\n",
       "      <td>9.175330</td>\n",
       "      <td>22.494182</td>\n",
       "      <td>23.759503</td>\n",
       "      <td>1.265322</td>\n",
       "      <td>0.539178</td>\n",
       "      <td>0.460822</td>\n",
       "    </tr>\n",
       "    <tr>\n",
       "      <th>std</th>\n",
       "      <td>1.422984</td>\n",
       "      <td>5.062066</td>\n",
       "      <td>10.139945</td>\n",
       "      <td>10.328135</td>\n",
       "      <td>14.768326</td>\n",
       "      <td>0.498656</td>\n",
       "      <td>0.498656</td>\n",
       "    </tr>\n",
       "    <tr>\n",
       "      <th>min</th>\n",
       "      <td>2017.000000</td>\n",
       "      <td>1.000000</td>\n",
       "      <td>0.000000</td>\n",
       "      <td>0.000000</td>\n",
       "      <td>-49.000000</td>\n",
       "      <td>0.000000</td>\n",
       "      <td>0.000000</td>\n",
       "    </tr>\n",
       "    <tr>\n",
       "      <th>25%</th>\n",
       "      <td>2018.000000</td>\n",
       "      <td>5.000000</td>\n",
       "      <td>16.000000</td>\n",
       "      <td>17.000000</td>\n",
       "      <td>-7.000000</td>\n",
       "      <td>0.000000</td>\n",
       "      <td>0.000000</td>\n",
       "    </tr>\n",
       "    <tr>\n",
       "      <th>50%</th>\n",
       "      <td>2019.000000</td>\n",
       "      <td>9.000000</td>\n",
       "      <td>23.000000</td>\n",
       "      <td>24.000000</td>\n",
       "      <td>2.000000</td>\n",
       "      <td>1.000000</td>\n",
       "      <td>0.000000</td>\n",
       "    </tr>\n",
       "    <tr>\n",
       "      <th>75%</th>\n",
       "      <td>2020.000000</td>\n",
       "      <td>14.000000</td>\n",
       "      <td>30.000000</td>\n",
       "      <td>31.000000</td>\n",
       "      <td>10.000000</td>\n",
       "      <td>1.000000</td>\n",
       "      <td>1.000000</td>\n",
       "    </tr>\n",
       "    <tr>\n",
       "      <th>max</th>\n",
       "      <td>2021.000000</td>\n",
       "      <td>18.000000</td>\n",
       "      <td>59.000000</td>\n",
       "      <td>57.000000</td>\n",
       "      <td>44.000000</td>\n",
       "      <td>1.000000</td>\n",
       "      <td>1.000000</td>\n",
       "    </tr>\n",
       "  </tbody>\n",
       "</table>\n",
       "</div>"
      ],
      "text/plain": [
       "            season         week    awayscore    homescore    score_abs  \\\n",
       "count  1289.000000  1289.000000  1289.000000  1289.000000  1289.000000   \n",
       "mean   2019.027153     9.175330    22.494182    23.759503     1.265322   \n",
       "std       1.422984     5.062066    10.139945    10.328135    14.768326   \n",
       "min    2017.000000     1.000000     0.000000     0.000000   -49.000000   \n",
       "25%    2018.000000     5.000000    16.000000    17.000000    -7.000000   \n",
       "50%    2019.000000     9.000000    23.000000    24.000000     2.000000   \n",
       "75%    2020.000000    14.000000    30.000000    31.000000    10.000000   \n",
       "max    2021.000000    18.000000    59.000000    57.000000    44.000000   \n",
       "\n",
       "       winner_home  winner_away  \n",
       "count  1289.000000  1289.000000  \n",
       "mean      0.539178     0.460822  \n",
       "std       0.498656     0.498656  \n",
       "min       0.000000     0.000000  \n",
       "25%       0.000000     0.000000  \n",
       "50%       1.000000     0.000000  \n",
       "75%       1.000000     1.000000  \n",
       "max       1.000000     1.000000  "
      ]
     },
     "metadata": {},
     "output_type": "display_data"
    }
   ],
   "source": [
    "df = pd.read_csv(\"working_files/scores_prep.csv\", index_col=0)\n",
    "display(df.head())\n",
    "display(df.describe())"
   ]
  },
  {
   "cell_type": "code",
   "execution_count": 24,
   "metadata": {},
   "outputs": [
    {
     "data": {
      "text/html": [
       "<div>\n",
       "<style scoped>\n",
       "    .dataframe tbody tr th:only-of-type {\n",
       "        vertical-align: middle;\n",
       "    }\n",
       "\n",
       "    .dataframe tbody tr th {\n",
       "        vertical-align: top;\n",
       "    }\n",
       "\n",
       "    .dataframe thead th {\n",
       "        text-align: right;\n",
       "    }\n",
       "</style>\n",
       "<table border=\"1\" class=\"dataframe\">\n",
       "  <thead>\n",
       "    <tr style=\"text-align: right;\">\n",
       "      <th></th>\n",
       "      <th></th>\n",
       "      <th>week</th>\n",
       "      <th>awayteam</th>\n",
       "      <th>awayscore</th>\n",
       "      <th>homescore</th>\n",
       "      <th>score_abs</th>\n",
       "      <th>winner_home</th>\n",
       "      <th>winner_away</th>\n",
       "    </tr>\n",
       "    <tr>\n",
       "      <th>season</th>\n",
       "      <th>hometeam</th>\n",
       "      <th></th>\n",
       "      <th></th>\n",
       "      <th></th>\n",
       "      <th></th>\n",
       "      <th></th>\n",
       "      <th></th>\n",
       "      <th></th>\n",
       "    </tr>\n",
       "  </thead>\n",
       "  <tbody>\n",
       "    <tr>\n",
       "      <th rowspan=\"4\" valign=\"top\">2018</th>\n",
       "      <th>Bengals</th>\n",
       "      <td>2</td>\n",
       "      <td>Ravens</td>\n",
       "      <td>23</td>\n",
       "      <td>34</td>\n",
       "      <td>11</td>\n",
       "      <td>1</td>\n",
       "      <td>0</td>\n",
       "    </tr>\n",
       "    <tr>\n",
       "      <th>Falcons</th>\n",
       "      <td>2</td>\n",
       "      <td>Panthers</td>\n",
       "      <td>24</td>\n",
       "      <td>31</td>\n",
       "      <td>7</td>\n",
       "      <td>1</td>\n",
       "      <td>0</td>\n",
       "    </tr>\n",
       "    <tr>\n",
       "      <th>Bills</th>\n",
       "      <td>2</td>\n",
       "      <td>Chargers</td>\n",
       "      <td>31</td>\n",
       "      <td>20</td>\n",
       "      <td>-11</td>\n",
       "      <td>0</td>\n",
       "      <td>1</td>\n",
       "    </tr>\n",
       "    <tr>\n",
       "      <th>Titans</th>\n",
       "      <td>2</td>\n",
       "      <td>Texans</td>\n",
       "      <td>17</td>\n",
       "      <td>20</td>\n",
       "      <td>3</td>\n",
       "      <td>1</td>\n",
       "      <td>0</td>\n",
       "    </tr>\n",
       "    <tr>\n",
       "      <th>2017</th>\n",
       "      <th>Bengals</th>\n",
       "      <td>2</td>\n",
       "      <td>Texans</td>\n",
       "      <td>13</td>\n",
       "      <td>9</td>\n",
       "      <td>-4</td>\n",
       "      <td>0</td>\n",
       "      <td>1</td>\n",
       "    </tr>\n",
       "    <tr>\n",
       "      <th>...</th>\n",
       "      <th>...</th>\n",
       "      <td>...</td>\n",
       "      <td>...</td>\n",
       "      <td>...</td>\n",
       "      <td>...</td>\n",
       "      <td>...</td>\n",
       "      <td>...</td>\n",
       "      <td>...</td>\n",
       "    </tr>\n",
       "    <tr>\n",
       "      <th rowspan=\"5\" valign=\"top\">2021</th>\n",
       "      <th>Rams</th>\n",
       "      <td>18</td>\n",
       "      <td>49ers</td>\n",
       "      <td>27</td>\n",
       "      <td>24</td>\n",
       "      <td>-3</td>\n",
       "      <td>0</td>\n",
       "      <td>1</td>\n",
       "    </tr>\n",
       "    <tr>\n",
       "      <th>Dolphins</th>\n",
       "      <td>18</td>\n",
       "      <td>Patriots</td>\n",
       "      <td>24</td>\n",
       "      <td>33</td>\n",
       "      <td>9</td>\n",
       "      <td>1</td>\n",
       "      <td>0</td>\n",
       "    </tr>\n",
       "    <tr>\n",
       "      <th>Cardinals</th>\n",
       "      <td>18</td>\n",
       "      <td>Seahawks</td>\n",
       "      <td>38</td>\n",
       "      <td>30</td>\n",
       "      <td>-8</td>\n",
       "      <td>0</td>\n",
       "      <td>1</td>\n",
       "    </tr>\n",
       "    <tr>\n",
       "      <th>Buccaneers</th>\n",
       "      <td>18</td>\n",
       "      <td>Panthers</td>\n",
       "      <td>17</td>\n",
       "      <td>41</td>\n",
       "      <td>24</td>\n",
       "      <td>1</td>\n",
       "      <td>0</td>\n",
       "    </tr>\n",
       "    <tr>\n",
       "      <th>Raiders</th>\n",
       "      <td>18</td>\n",
       "      <td>Chargers</td>\n",
       "      <td>32</td>\n",
       "      <td>35</td>\n",
       "      <td>3</td>\n",
       "      <td>1</td>\n",
       "      <td>0</td>\n",
       "    </tr>\n",
       "  </tbody>\n",
       "</table>\n",
       "<p>1289 rows × 7 columns</p>\n",
       "</div>"
      ],
      "text/plain": [
       "                   week  awayteam  awayscore  homescore  score_abs  \\\n",
       "season hometeam                                                      \n",
       "2018   Bengals        2    Ravens         23         34         11   \n",
       "       Falcons        2  Panthers         24         31          7   \n",
       "       Bills          2  Chargers         31         20        -11   \n",
       "       Titans         2    Texans         17         20          3   \n",
       "2017   Bengals        2    Texans         13          9         -4   \n",
       "...                 ...       ...        ...        ...        ...   \n",
       "2021   Rams          18     49ers         27         24         -3   \n",
       "       Dolphins      18  Patriots         24         33          9   \n",
       "       Cardinals     18  Seahawks         38         30         -8   \n",
       "       Buccaneers    18  Panthers         17         41         24   \n",
       "       Raiders       18  Chargers         32         35          3   \n",
       "\n",
       "                   winner_home  winner_away  \n",
       "season hometeam                              \n",
       "2018   Bengals               1            0  \n",
       "       Falcons               1            0  \n",
       "       Bills                 0            1  \n",
       "       Titans                1            0  \n",
       "2017   Bengals               0            1  \n",
       "...                        ...          ...  \n",
       "2021   Rams                  0            1  \n",
       "       Dolphins              1            0  \n",
       "       Cardinals             0            1  \n",
       "       Buccaneers            1            0  \n",
       "       Raiders               1            0  \n",
       "\n",
       "[1289 rows x 7 columns]"
      ]
     },
     "execution_count": 24,
     "metadata": {},
     "output_type": "execute_result"
    }
   ],
   "source": [
    "df = df.set_index([\"season\", \"hometeam\"])\n",
    "df.sort_index()\n",
    "df"
   ]
  },
  {
   "cell_type": "code",
   "execution_count": 33,
   "metadata": {},
   "outputs": [
    {
     "name": "stderr",
     "output_type": "stream",
     "text": [
      "C:\\Users\\itrem\\AppData\\Local\\Temp\\ipykernel_4568\\3221118013.py:1: FutureWarning: Indexing with multiple keys (implicitly converted to a tuple of keys) will be deprecated, use a list instead.\n",
      "  y = df.groupby(level=[\"season\", \"hometeam\"])[\"winner_home\", \"winner_away\"].sum()\n"
     ]
    }
   ],
   "source": [
    "y = df.groupby(level=[\"season\", \"hometeam\"])[\"winner_home\", \"winner_away\"].sum()\n",
    "\n",
    "os.makedirs('working_files', exist_ok=True)  \n",
    "y.to_csv('working_files/wins_per_season.csv') "
   ]
  },
  {
   "cell_type": "code",
   "execution_count": 25,
   "metadata": {},
   "outputs": [
    {
     "ename": "IndexError",
     "evalue": "list index out of range",
     "output_type": "error",
     "traceback": [
      "\u001b[1;31m---------------------------------------------------------------------------\u001b[0m",
      "\u001b[1;31mIndexError\u001b[0m                                Traceback (most recent call last)",
      "\u001b[1;32mc:\\Users\\itrem\\OneDrive\\Dev\\jedha\\nfl\\NFL\\nflscraping\\analysis_nfl.ipynb Celda 4\u001b[0m in \u001b[0;36m<cell line: 1>\u001b[1;34m()\u001b[0m\n\u001b[1;32m----> <a href='vscode-notebook-cell:/c%3A/Users/itrem/OneDrive/Dev/jedha/nfl/NFL/nflscraping/analysis_nfl.ipynb#W3sZmlsZQ%3D%3D?line=0'>1</a>\u001b[0m team_stats \u001b[39m=\u001b[39m df\u001b[39m.\u001b[39;49mgroupby(level\u001b[39m=\u001b[39;49m[\u001b[39m3\u001b[39;49m, \u001b[39m0\u001b[39;49m])\u001b[39m.\u001b[39msum()\n\u001b[0;32m      <a href='vscode-notebook-cell:/c%3A/Users/itrem/OneDrive/Dev/jedha/nfl/NFL/nflscraping/analysis_nfl.ipynb#W3sZmlsZQ%3D%3D?line=1'>2</a>\u001b[0m team_stats\u001b[39m.\u001b[39minsert(team_stats\u001b[39m.\u001b[39mshape[\u001b[39m1\u001b[39m],\u001b[39m\"\u001b[39m\u001b[39mwin_home_ratio\u001b[39m\u001b[39m\"\u001b[39m, (team_stats\u001b[39m.\u001b[39mwinner_home \u001b[39m/\u001b[39m (team_stats\u001b[39m.\u001b[39mwinner_home \u001b[39m+\u001b[39m team_stats\u001b[39m.\u001b[39mwinner_away)\u001b[39m*\u001b[39m\u001b[39m100\u001b[39m))\n\u001b[0;32m      <a href='vscode-notebook-cell:/c%3A/Users/itrem/OneDrive/Dev/jedha/nfl/NFL/nflscraping/analysis_nfl.ipynb#W3sZmlsZQ%3D%3D?line=4'>5</a>\u001b[0m \u001b[39m#team_stats.sort_values(by=\"win_ratio\", ascending=False)\u001b[39;00m\n",
      "File \u001b[1;32mc:\\Users\\itrem\\AppData\\Local\\Programs\\Python\\Python310\\lib\\site-packages\\pandas\\core\\frame.py:7718\u001b[0m, in \u001b[0;36mDataFrame.groupby\u001b[1;34m(self, by, axis, level, as_index, sort, group_keys, squeeze, observed, dropna)\u001b[0m\n\u001b[0;32m   7713\u001b[0m axis \u001b[39m=\u001b[39m \u001b[39mself\u001b[39m\u001b[39m.\u001b[39m_get_axis_number(axis)\n\u001b[0;32m   7715\u001b[0m \u001b[39m# https://github.com/python/mypy/issues/7642\u001b[39;00m\n\u001b[0;32m   7716\u001b[0m \u001b[39m# error: Argument \"squeeze\" to \"DataFrameGroupBy\" has incompatible type\u001b[39;00m\n\u001b[0;32m   7717\u001b[0m \u001b[39m# \"Union[bool, NoDefault]\"; expected \"bool\"\u001b[39;00m\n\u001b[1;32m-> 7718\u001b[0m \u001b[39mreturn\u001b[39;00m DataFrameGroupBy(\n\u001b[0;32m   7719\u001b[0m     obj\u001b[39m=\u001b[39;49m\u001b[39mself\u001b[39;49m,\n\u001b[0;32m   7720\u001b[0m     keys\u001b[39m=\u001b[39;49mby,\n\u001b[0;32m   7721\u001b[0m     axis\u001b[39m=\u001b[39;49maxis,\n\u001b[0;32m   7722\u001b[0m     level\u001b[39m=\u001b[39;49mlevel,\n\u001b[0;32m   7723\u001b[0m     as_index\u001b[39m=\u001b[39;49mas_index,\n\u001b[0;32m   7724\u001b[0m     sort\u001b[39m=\u001b[39;49msort,\n\u001b[0;32m   7725\u001b[0m     group_keys\u001b[39m=\u001b[39;49mgroup_keys,\n\u001b[0;32m   7726\u001b[0m     squeeze\u001b[39m=\u001b[39;49msqueeze,  \u001b[39m# type: ignore[arg-type]\u001b[39;49;00m\n\u001b[0;32m   7727\u001b[0m     observed\u001b[39m=\u001b[39;49mobserved,\n\u001b[0;32m   7728\u001b[0m     dropna\u001b[39m=\u001b[39;49mdropna,\n\u001b[0;32m   7729\u001b[0m )\n",
      "File \u001b[1;32mc:\\Users\\itrem\\AppData\\Local\\Programs\\Python\\Python310\\lib\\site-packages\\pandas\\core\\groupby\\groupby.py:882\u001b[0m, in \u001b[0;36mGroupBy.__init__\u001b[1;34m(self, obj, keys, axis, level, grouper, exclusions, selection, as_index, sort, group_keys, squeeze, observed, mutated, dropna)\u001b[0m\n\u001b[0;32m    879\u001b[0m \u001b[39mif\u001b[39;00m grouper \u001b[39mis\u001b[39;00m \u001b[39mNone\u001b[39;00m:\n\u001b[0;32m    880\u001b[0m     \u001b[39mfrom\u001b[39;00m \u001b[39mpandas\u001b[39;00m\u001b[39m.\u001b[39;00m\u001b[39mcore\u001b[39;00m\u001b[39m.\u001b[39;00m\u001b[39mgroupby\u001b[39;00m\u001b[39m.\u001b[39;00m\u001b[39mgrouper\u001b[39;00m \u001b[39mimport\u001b[39;00m get_grouper\n\u001b[1;32m--> 882\u001b[0m     grouper, exclusions, obj \u001b[39m=\u001b[39m get_grouper(\n\u001b[0;32m    883\u001b[0m         obj,\n\u001b[0;32m    884\u001b[0m         keys,\n\u001b[0;32m    885\u001b[0m         axis\u001b[39m=\u001b[39;49maxis,\n\u001b[0;32m    886\u001b[0m         level\u001b[39m=\u001b[39;49mlevel,\n\u001b[0;32m    887\u001b[0m         sort\u001b[39m=\u001b[39;49msort,\n\u001b[0;32m    888\u001b[0m         observed\u001b[39m=\u001b[39;49mobserved,\n\u001b[0;32m    889\u001b[0m         mutated\u001b[39m=\u001b[39;49m\u001b[39mself\u001b[39;49m\u001b[39m.\u001b[39;49mmutated,\n\u001b[0;32m    890\u001b[0m         dropna\u001b[39m=\u001b[39;49m\u001b[39mself\u001b[39;49m\u001b[39m.\u001b[39;49mdropna,\n\u001b[0;32m    891\u001b[0m     )\n\u001b[0;32m    893\u001b[0m \u001b[39mself\u001b[39m\u001b[39m.\u001b[39mobj \u001b[39m=\u001b[39m obj\n\u001b[0;32m    894\u001b[0m \u001b[39mself\u001b[39m\u001b[39m.\u001b[39maxis \u001b[39m=\u001b[39m obj\u001b[39m.\u001b[39m_get_axis_number(axis)\n",
      "File \u001b[1;32mc:\\Users\\itrem\\AppData\\Local\\Programs\\Python\\Python310\\lib\\site-packages\\pandas\\core\\groupby\\grouper.py:893\u001b[0m, in \u001b[0;36mget_grouper\u001b[1;34m(obj, key, axis, level, sort, observed, mutated, validate, dropna)\u001b[0m\n\u001b[0;32m    888\u001b[0m         in_axis \u001b[39m=\u001b[39m \u001b[39mFalse\u001b[39;00m\n\u001b[0;32m    890\u001b[0m     \u001b[39m# create the Grouping\u001b[39;00m\n\u001b[0;32m    891\u001b[0m     \u001b[39m# allow us to passing the actual Grouping as the gpr\u001b[39;00m\n\u001b[0;32m    892\u001b[0m     ping \u001b[39m=\u001b[39m (\n\u001b[1;32m--> 893\u001b[0m         Grouping(\n\u001b[0;32m    894\u001b[0m             group_axis,\n\u001b[0;32m    895\u001b[0m             gpr,\n\u001b[0;32m    896\u001b[0m             obj\u001b[39m=\u001b[39;49mobj,\n\u001b[0;32m    897\u001b[0m             level\u001b[39m=\u001b[39;49mlevel,\n\u001b[0;32m    898\u001b[0m             sort\u001b[39m=\u001b[39;49msort,\n\u001b[0;32m    899\u001b[0m             observed\u001b[39m=\u001b[39;49mobserved,\n\u001b[0;32m    900\u001b[0m             in_axis\u001b[39m=\u001b[39;49min_axis,\n\u001b[0;32m    901\u001b[0m             dropna\u001b[39m=\u001b[39;49mdropna,\n\u001b[0;32m    902\u001b[0m         )\n\u001b[0;32m    903\u001b[0m         \u001b[39mif\u001b[39;00m \u001b[39mnot\u001b[39;00m \u001b[39misinstance\u001b[39m(gpr, Grouping)\n\u001b[0;32m    904\u001b[0m         \u001b[39melse\u001b[39;00m gpr\n\u001b[0;32m    905\u001b[0m     )\n\u001b[0;32m    907\u001b[0m     groupings\u001b[39m.\u001b[39mappend(ping)\n\u001b[0;32m    909\u001b[0m \u001b[39mif\u001b[39;00m \u001b[39mlen\u001b[39m(groupings) \u001b[39m==\u001b[39m \u001b[39m0\u001b[39m \u001b[39mand\u001b[39;00m \u001b[39mlen\u001b[39m(obj):\n",
      "File \u001b[1;32mc:\\Users\\itrem\\AppData\\Local\\Programs\\Python\\Python310\\lib\\site-packages\\pandas\\core\\groupby\\grouper.py:505\u001b[0m, in \u001b[0;36mGrouping.__init__\u001b[1;34m(self, index, grouper, obj, level, sort, observed, in_axis, dropna)\u001b[0m\n\u001b[0;32m    497\u001b[0m     mapper \u001b[39m=\u001b[39m \u001b[39mself\u001b[39m\u001b[39m.\u001b[39mgrouping_vector\n\u001b[0;32m    498\u001b[0m     \u001b[39m# In extant tests, the new self.grouping_vector matches\u001b[39;00m\n\u001b[0;32m    499\u001b[0m     \u001b[39m#  `index.get_level_values(ilevel)` whenever\u001b[39;00m\n\u001b[0;32m    500\u001b[0m     \u001b[39m#  mapper is None and isinstance(index, MultiIndex)\u001b[39;00m\n\u001b[0;32m    501\u001b[0m     (\n\u001b[0;32m    502\u001b[0m         \u001b[39mself\u001b[39m\u001b[39m.\u001b[39mgrouping_vector,  \u001b[39m# Index\u001b[39;00m\n\u001b[0;32m    503\u001b[0m         \u001b[39mself\u001b[39m\u001b[39m.\u001b[39m_codes,\n\u001b[0;32m    504\u001b[0m         \u001b[39mself\u001b[39m\u001b[39m.\u001b[39m_group_index,\n\u001b[1;32m--> 505\u001b[0m     ) \u001b[39m=\u001b[39m index\u001b[39m.\u001b[39;49m_get_grouper_for_level(mapper, level\u001b[39m=\u001b[39;49milevel)\n\u001b[0;32m    507\u001b[0m \u001b[39m# a passed Grouper like, directly get the grouper in the same way\u001b[39;00m\n\u001b[0;32m    508\u001b[0m \u001b[39m# as single grouper groupby, use the group_info to get codes\u001b[39;00m\n\u001b[0;32m    509\u001b[0m \u001b[39melif\u001b[39;00m \u001b[39misinstance\u001b[39m(\u001b[39mself\u001b[39m\u001b[39m.\u001b[39mgrouping_vector, Grouper):\n\u001b[0;32m    510\u001b[0m     \u001b[39m# get the new grouper; we already have disambiguated\u001b[39;00m\n\u001b[0;32m    511\u001b[0m     \u001b[39m# what key/level refer to exactly, don't need to\u001b[39;00m\n\u001b[0;32m    512\u001b[0m     \u001b[39m# check again as we have by this point converted these\u001b[39;00m\n\u001b[0;32m    513\u001b[0m     \u001b[39m# to an actual value (rather than a pd.Grouper)\u001b[39;00m\n",
      "File \u001b[1;32mc:\\Users\\itrem\\AppData\\Local\\Programs\\Python\\Python310\\lib\\site-packages\\pandas\\core\\indexes\\multi.py:1483\u001b[0m, in \u001b[0;36mMultiIndex._get_grouper_for_level\u001b[1;34m(self, mapper, level)\u001b[0m\n\u001b[0;32m   1481\u001b[0m \u001b[39m@doc\u001b[39m(Index\u001b[39m.\u001b[39m_get_grouper_for_level)\n\u001b[0;32m   1482\u001b[0m \u001b[39mdef\u001b[39;00m \u001b[39m_get_grouper_for_level\u001b[39m(\u001b[39mself\u001b[39m, mapper, \u001b[39m*\u001b[39m, level):\n\u001b[1;32m-> 1483\u001b[0m     indexer \u001b[39m=\u001b[39m \u001b[39mself\u001b[39;49m\u001b[39m.\u001b[39;49mcodes[level]\n\u001b[0;32m   1484\u001b[0m     level_index \u001b[39m=\u001b[39m \u001b[39mself\u001b[39m\u001b[39m.\u001b[39mlevels[level]\n\u001b[0;32m   1486\u001b[0m     \u001b[39mif\u001b[39;00m mapper \u001b[39mis\u001b[39;00m \u001b[39mnot\u001b[39;00m \u001b[39mNone\u001b[39;00m:\n\u001b[0;32m   1487\u001b[0m         \u001b[39m# Handle group mapping function and return\u001b[39;00m\n",
      "File \u001b[1;32mc:\\Users\\itrem\\AppData\\Local\\Programs\\Python\\Python310\\lib\\site-packages\\pandas\\core\\indexes\\frozen.py:70\u001b[0m, in \u001b[0;36mFrozenList.__getitem__\u001b[1;34m(self, n)\u001b[0m\n\u001b[0;32m     68\u001b[0m \u001b[39mif\u001b[39;00m \u001b[39misinstance\u001b[39m(n, \u001b[39mslice\u001b[39m):\n\u001b[0;32m     69\u001b[0m     \u001b[39mreturn\u001b[39;00m \u001b[39mtype\u001b[39m(\u001b[39mself\u001b[39m)(\u001b[39msuper\u001b[39m()\u001b[39m.\u001b[39m\u001b[39m__getitem__\u001b[39m(n))\n\u001b[1;32m---> 70\u001b[0m \u001b[39mreturn\u001b[39;00m \u001b[39msuper\u001b[39;49m()\u001b[39m.\u001b[39;49m\u001b[39m__getitem__\u001b[39;49m(n)\n",
      "\u001b[1;31mIndexError\u001b[0m: list index out of range"
     ]
    }
   ],
   "source": [
    "\n",
    "team_stats = df.groupby(level=[3, 0]).sum()\n",
    "team_stats.insert(team_stats.shape[1],\"win_home_ratio\", (team_stats.winner_home / (team_stats.winner_home + team_stats.winner_away)*100))\n",
    "\n",
    "\n",
    "#team_stats.sort_values(by=\"win_ratio\", ascending=False)\n",
    "\n",
    "\n",
    "display(team_stats)\n",
    "\n",
    "display(team_stats.describe(include=\"all\"))"
   ]
  },
  {
   "cell_type": "code",
   "execution_count": 22,
   "metadata": {},
   "outputs": [
    {
     "data": {
      "text/html": [
       "<div>\n",
       "<style scoped>\n",
       "    .dataframe tbody tr th:only-of-type {\n",
       "        vertical-align: middle;\n",
       "    }\n",
       "\n",
       "    .dataframe tbody tr th {\n",
       "        vertical-align: top;\n",
       "    }\n",
       "\n",
       "    .dataframe thead th {\n",
       "        text-align: right;\n",
       "    }\n",
       "</style>\n",
       "<table border=\"1\" class=\"dataframe\">\n",
       "  <thead>\n",
       "    <tr style=\"text-align: right;\">\n",
       "      <th></th>\n",
       "      <th>season</th>\n",
       "      <th>week</th>\n",
       "      <th>awayscore</th>\n",
       "      <th>homescore</th>\n",
       "      <th>score_abs</th>\n",
       "      <th>winner_home</th>\n",
       "      <th>winner_away</th>\n",
       "      <th>win_ratio</th>\n",
       "    </tr>\n",
       "  </thead>\n",
       "  <tbody>\n",
       "    <tr>\n",
       "      <th>count</th>\n",
       "      <td>32.000000</td>\n",
       "      <td>32.000000</td>\n",
       "      <td>32.000000</td>\n",
       "      <td>32.000000</td>\n",
       "      <td>32.000000</td>\n",
       "      <td>32.000000</td>\n",
       "      <td>32.000000</td>\n",
       "      <td>32.000000</td>\n",
       "    </tr>\n",
       "    <tr>\n",
       "      <th>mean</th>\n",
       "      <td>336532.593750</td>\n",
       "      <td>1526.375000</td>\n",
       "      <td>3521.843750</td>\n",
       "      <td>3886.875000</td>\n",
       "      <td>365.031250</td>\n",
       "      <td>94.187500</td>\n",
       "      <td>73.156250</td>\n",
       "      <td>56.288229</td>\n",
       "    </tr>\n",
       "    <tr>\n",
       "      <th>std</th>\n",
       "      <td>3364.405032</td>\n",
       "      <td>32.920971</td>\n",
       "      <td>292.043535</td>\n",
       "      <td>380.795326</td>\n",
       "      <td>568.733822</td>\n",
       "      <td>16.416824</td>\n",
       "      <td>16.488724</td>\n",
       "      <td>9.804974</td>\n",
       "    </tr>\n",
       "    <tr>\n",
       "      <th>min</th>\n",
       "      <td>321847.000000</td>\n",
       "      <td>1465.000000</td>\n",
       "      <td>2908.000000</td>\n",
       "      <td>3074.000000</td>\n",
       "      <td>-576.000000</td>\n",
       "      <td>70.000000</td>\n",
       "      <td>33.000000</td>\n",
       "      <td>41.666667</td>\n",
       "    </tr>\n",
       "    <tr>\n",
       "      <th>25%</th>\n",
       "      <td>335834.000000</td>\n",
       "      <td>1509.000000</td>\n",
       "      <td>3390.000000</td>\n",
       "      <td>3620.000000</td>\n",
       "      <td>26.750000</td>\n",
       "      <td>82.750000</td>\n",
       "      <td>65.500000</td>\n",
       "      <td>50.224535</td>\n",
       "    </tr>\n",
       "    <tr>\n",
       "      <th>50%</th>\n",
       "      <td>337848.000000</td>\n",
       "      <td>1520.500000</td>\n",
       "      <td>3535.500000</td>\n",
       "      <td>3801.000000</td>\n",
       "      <td>215.000000</td>\n",
       "      <td>91.000000</td>\n",
       "      <td>76.500000</td>\n",
       "      <td>54.327369</td>\n",
       "    </tr>\n",
       "    <tr>\n",
       "      <th>75%</th>\n",
       "      <td>337855.000000</td>\n",
       "      <td>1547.500000</td>\n",
       "      <td>3693.000000</td>\n",
       "      <td>4216.250000</td>\n",
       "      <td>721.250000</td>\n",
       "      <td>103.000000</td>\n",
       "      <td>83.500000</td>\n",
       "      <td>61.129221</td>\n",
       "    </tr>\n",
       "    <tr>\n",
       "      <th>max</th>\n",
       "      <td>339869.000000</td>\n",
       "      <td>1590.000000</td>\n",
       "      <td>4178.000000</td>\n",
       "      <td>4706.000000</td>\n",
       "      <td>1749.000000</td>\n",
       "      <td>135.000000</td>\n",
       "      <td>98.000000</td>\n",
       "      <td>80.357143</td>\n",
       "    </tr>\n",
       "  </tbody>\n",
       "</table>\n",
       "</div>"
      ],
      "text/plain": [
       "              season         week    awayscore    homescore    score_abs  \\\n",
       "count      32.000000    32.000000    32.000000    32.000000    32.000000   \n",
       "mean   336532.593750  1526.375000  3521.843750  3886.875000   365.031250   \n",
       "std      3364.405032    32.920971   292.043535   380.795326   568.733822   \n",
       "min    321847.000000  1465.000000  2908.000000  3074.000000  -576.000000   \n",
       "25%    335834.000000  1509.000000  3390.000000  3620.000000    26.750000   \n",
       "50%    337848.000000  1520.500000  3535.500000  3801.000000   215.000000   \n",
       "75%    337855.000000  1547.500000  3693.000000  4216.250000   721.250000   \n",
       "max    339869.000000  1590.000000  4178.000000  4706.000000  1749.000000   \n",
       "\n",
       "       winner_home  winner_away  win_ratio  \n",
       "count    32.000000    32.000000  32.000000  \n",
       "mean     94.187500    73.156250  56.288229  \n",
       "std      16.416824    16.488724   9.804974  \n",
       "min      70.000000    33.000000  41.666667  \n",
       "25%      82.750000    65.500000  50.224535  \n",
       "50%      91.000000    76.500000  54.327369  \n",
       "75%     103.000000    83.500000  61.129221  \n",
       "max     135.000000    98.000000  80.357143  "
      ]
     },
     "execution_count": 22,
     "metadata": {},
     "output_type": "execute_result"
    }
   ],
   "source": []
  },
  {
   "cell_type": "code",
   "execution_count": 11,
   "metadata": {},
   "outputs": [
    {
     "ename": "ValueError",
     "evalue": "could not convert string to float: 'Ravens'",
     "output_type": "error",
     "traceback": [
      "\u001b[1;31m---------------------------------------------------------------------------\u001b[0m",
      "\u001b[1;31mValueError\u001b[0m                                Traceback (most recent call last)",
      "\u001b[1;32mc:\\Users\\itrem\\OneDrive\\Dev\\jedha\\nfl\\NFL\\nflscraping\\analysis_nfl.ipynb Celda 5\u001b[0m in \u001b[0;36m<cell line: 1>\u001b[1;34m()\u001b[0m\n\u001b[1;32m----> <a href='vscode-notebook-cell:/c%3A/Users/itrem/OneDrive/Dev/jedha/nfl/NFL/nflscraping/analysis_nfl.ipynb#W6sZmlsZQ%3D%3D?line=0'>1</a>\u001b[0m ax \u001b[39m=\u001b[39m sns\u001b[39m.\u001b[39;49mheatmap(df)\n",
      "File \u001b[1;32mc:\\Users\\itrem\\AppData\\Local\\Programs\\Python\\Python310\\lib\\site-packages\\seaborn\\_decorators.py:46\u001b[0m, in \u001b[0;36m_deprecate_positional_args.<locals>.inner_f\u001b[1;34m(*args, **kwargs)\u001b[0m\n\u001b[0;32m     36\u001b[0m     warnings\u001b[39m.\u001b[39mwarn(\n\u001b[0;32m     37\u001b[0m         \u001b[39m\"\u001b[39m\u001b[39mPass the following variable\u001b[39m\u001b[39m{}\u001b[39;00m\u001b[39m as \u001b[39m\u001b[39m{}\u001b[39;00m\u001b[39mkeyword arg\u001b[39m\u001b[39m{}\u001b[39;00m\u001b[39m: \u001b[39m\u001b[39m{}\u001b[39;00m\u001b[39m. \u001b[39m\u001b[39m\"\u001b[39m\n\u001b[0;32m     38\u001b[0m         \u001b[39m\"\u001b[39m\u001b[39mFrom version 0.12, the only valid positional argument \u001b[39m\u001b[39m\"\u001b[39m\n\u001b[1;32m   (...)\u001b[0m\n\u001b[0;32m     43\u001b[0m         \u001b[39mFutureWarning\u001b[39;00m\n\u001b[0;32m     44\u001b[0m     )\n\u001b[0;32m     45\u001b[0m kwargs\u001b[39m.\u001b[39mupdate({k: arg \u001b[39mfor\u001b[39;00m k, arg \u001b[39min\u001b[39;00m \u001b[39mzip\u001b[39m(sig\u001b[39m.\u001b[39mparameters, args)})\n\u001b[1;32m---> 46\u001b[0m \u001b[39mreturn\u001b[39;00m f(\u001b[39m*\u001b[39m\u001b[39m*\u001b[39mkwargs)\n",
      "File \u001b[1;32mc:\\Users\\itrem\\AppData\\Local\\Programs\\Python\\Python310\\lib\\site-packages\\seaborn\\matrix.py:540\u001b[0m, in \u001b[0;36mheatmap\u001b[1;34m(data, vmin, vmax, cmap, center, robust, annot, fmt, annot_kws, linewidths, linecolor, cbar, cbar_kws, cbar_ax, square, xticklabels, yticklabels, mask, ax, **kwargs)\u001b[0m\n\u001b[0;32m    362\u001b[0m \u001b[39m\"\"\"Plot rectangular data as a color-encoded matrix.\u001b[39;00m\n\u001b[0;32m    363\u001b[0m \n\u001b[0;32m    364\u001b[0m \u001b[39mThis is an Axes-level function and will draw the heatmap into the\u001b[39;00m\n\u001b[1;32m   (...)\u001b[0m\n\u001b[0;32m    537\u001b[0m \u001b[39m    ...     ax = sns.heatmap(corr, mask=mask, vmax=.3, square=True)\u001b[39;00m\n\u001b[0;32m    538\u001b[0m \u001b[39m\"\"\"\u001b[39;00m\n\u001b[0;32m    539\u001b[0m \u001b[39m# Initialize the plotter object\u001b[39;00m\n\u001b[1;32m--> 540\u001b[0m plotter \u001b[39m=\u001b[39m _HeatMapper(data, vmin, vmax, cmap, center, robust, annot, fmt,\n\u001b[0;32m    541\u001b[0m                       annot_kws, cbar, cbar_kws, xticklabels,\n\u001b[0;32m    542\u001b[0m                       yticklabels, mask)\n\u001b[0;32m    544\u001b[0m \u001b[39m# Add the pcolormesh kwargs here\u001b[39;00m\n\u001b[0;32m    545\u001b[0m kwargs[\u001b[39m\"\u001b[39m\u001b[39mlinewidths\u001b[39m\u001b[39m\"\u001b[39m] \u001b[39m=\u001b[39m linewidths\n",
      "File \u001b[1;32mc:\\Users\\itrem\\AppData\\Local\\Programs\\Python\\Python310\\lib\\site-packages\\seaborn\\matrix.py:159\u001b[0m, in \u001b[0;36m_HeatMapper.__init__\u001b[1;34m(self, data, vmin, vmax, cmap, center, robust, annot, fmt, annot_kws, cbar, cbar_kws, xticklabels, yticklabels, mask)\u001b[0m\n\u001b[0;32m    156\u001b[0m \u001b[39mself\u001b[39m\u001b[39m.\u001b[39mylabel \u001b[39m=\u001b[39m ylabel \u001b[39mif\u001b[39;00m ylabel \u001b[39mis\u001b[39;00m \u001b[39mnot\u001b[39;00m \u001b[39mNone\u001b[39;00m \u001b[39melse\u001b[39;00m \u001b[39m\"\u001b[39m\u001b[39m\"\u001b[39m\n\u001b[0;32m    158\u001b[0m \u001b[39m# Determine good default values for the colormapping\u001b[39;00m\n\u001b[1;32m--> 159\u001b[0m \u001b[39mself\u001b[39;49m\u001b[39m.\u001b[39;49m_determine_cmap_params(plot_data, vmin, vmax,\n\u001b[0;32m    160\u001b[0m                             cmap, center, robust)\n\u001b[0;32m    162\u001b[0m \u001b[39m# Sort out the annotations\u001b[39;00m\n\u001b[0;32m    163\u001b[0m \u001b[39mif\u001b[39;00m annot \u001b[39mis\u001b[39;00m \u001b[39mNone\u001b[39;00m \u001b[39mor\u001b[39;00m annot \u001b[39mis\u001b[39;00m \u001b[39mFalse\u001b[39;00m:\n",
      "File \u001b[1;32mc:\\Users\\itrem\\AppData\\Local\\Programs\\Python\\Python310\\lib\\site-packages\\seaborn\\matrix.py:193\u001b[0m, in \u001b[0;36m_HeatMapper._determine_cmap_params\u001b[1;34m(self, plot_data, vmin, vmax, cmap, center, robust)\u001b[0m\n\u001b[0;32m    190\u001b[0m \u001b[39m\"\"\"Use some heuristics to set good defaults for colorbar and range.\"\"\"\u001b[39;00m\n\u001b[0;32m    192\u001b[0m \u001b[39m# plot_data is a np.ma.array instance\u001b[39;00m\n\u001b[1;32m--> 193\u001b[0m calc_data \u001b[39m=\u001b[39m plot_data\u001b[39m.\u001b[39;49mastype(\u001b[39mfloat\u001b[39;49m)\u001b[39m.\u001b[39mfilled(np\u001b[39m.\u001b[39mnan)\n\u001b[0;32m    194\u001b[0m \u001b[39mif\u001b[39;00m vmin \u001b[39mis\u001b[39;00m \u001b[39mNone\u001b[39;00m:\n\u001b[0;32m    195\u001b[0m     \u001b[39mif\u001b[39;00m robust:\n",
      "\u001b[1;31mValueError\u001b[0m: could not convert string to float: 'Ravens'"
     ]
    }
   ],
   "source": [
    "sns.relplot"
   ]
  },
  {
   "cell_type": "code",
   "execution_count": 37,
   "metadata": {},
   "outputs": [
    {
     "data": {
      "text/html": [
       "<div>\n",
       "<style scoped>\n",
       "    .dataframe tbody tr th:only-of-type {\n",
       "        vertical-align: middle;\n",
       "    }\n",
       "\n",
       "    .dataframe tbody tr th {\n",
       "        vertical-align: top;\n",
       "    }\n",
       "\n",
       "    .dataframe thead th {\n",
       "        text-align: right;\n",
       "    }\n",
       "</style>\n",
       "<table border=\"1\" class=\"dataframe\">\n",
       "  <thead>\n",
       "    <tr style=\"text-align: right;\">\n",
       "      <th></th>\n",
       "      <th>season</th>\n",
       "      <th>hometeam</th>\n",
       "      <th>winner_home</th>\n",
       "      <th>winner_away</th>\n",
       "    </tr>\n",
       "  </thead>\n",
       "  <tbody>\n",
       "    <tr>\n",
       "      <th>0</th>\n",
       "      <td>2017</td>\n",
       "      <td>49ers</td>\n",
       "      <td>3</td>\n",
       "      <td>5</td>\n",
       "    </tr>\n",
       "    <tr>\n",
       "      <th>1</th>\n",
       "      <td>2017</td>\n",
       "      <td>Bears</td>\n",
       "      <td>3</td>\n",
       "      <td>5</td>\n",
       "    </tr>\n",
       "    <tr>\n",
       "      <th>2</th>\n",
       "      <td>2017</td>\n",
       "      <td>Bengals</td>\n",
       "      <td>4</td>\n",
       "      <td>4</td>\n",
       "    </tr>\n",
       "    <tr>\n",
       "      <th>3</th>\n",
       "      <td>2017</td>\n",
       "      <td>Bills</td>\n",
       "      <td>6</td>\n",
       "      <td>2</td>\n",
       "    </tr>\n",
       "    <tr>\n",
       "      <th>4</th>\n",
       "      <td>2017</td>\n",
       "      <td>Broncos</td>\n",
       "      <td>3</td>\n",
       "      <td>4</td>\n",
       "    </tr>\n",
       "  </tbody>\n",
       "</table>\n",
       "</div>"
      ],
      "text/plain": [
       "   season hometeam  winner_home  winner_away\n",
       "0    2017    49ers            3            5\n",
       "1    2017    Bears            3            5\n",
       "2    2017  Bengals            4            4\n",
       "3    2017    Bills            6            2\n",
       "4    2017  Broncos            3            4"
      ]
     },
     "execution_count": 37,
     "metadata": {},
     "output_type": "execute_result"
    }
   ],
   "source": [
    "df = pd.read_csv(\"../nflscraping/working_files/wins_per_season.csv\")\n",
    "df.head()"
   ]
  },
  {
   "cell_type": "code",
   "execution_count": 39,
   "metadata": {},
   "outputs": [
    {
     "data": {
      "application/vnd.plotly.v1+json": {
       "config": {
        "plotlyServerURL": "https://plot.ly"
       },
       "data": [
        {
         "hovertemplate": "<b>%{hovertext}</b><br><br>hometeam=49ers<br>season=%{x}<br>winner_home=%{marker.size}<extra></extra>",
         "hovertext": [
          "49ers"
         ],
         "ids": [
          "49ers"
         ],
         "legendgroup": "49ers",
         "marker": {
          "color": "#636efa",
          "size": [
           3
          ],
          "sizemode": "area",
          "sizeref": 0.002644628099173554,
          "symbol": "circle"
         },
         "mode": "markers",
         "name": "49ers",
         "orientation": "v",
         "showlegend": true,
         "type": "scatter",
         "x": [
          2017
         ],
         "xaxis": "x",
         "y": [
          3
         ],
         "yaxis": "y"
        },
        {
         "hovertemplate": "<b>%{hovertext}</b><br><br>hometeam=Bears<br>season=%{x}<br>winner_home=%{marker.size}<extra></extra>",
         "hovertext": [
          "Bears"
         ],
         "ids": [
          "Bears"
         ],
         "legendgroup": "Bears",
         "marker": {
          "color": "#EF553B",
          "size": [
           3
          ],
          "sizemode": "area",
          "sizeref": 0.002644628099173554,
          "symbol": "circle"
         },
         "mode": "markers",
         "name": "Bears",
         "orientation": "v",
         "showlegend": true,
         "type": "scatter",
         "x": [
          2017
         ],
         "xaxis": "x",
         "y": [
          3
         ],
         "yaxis": "y"
        },
        {
         "hovertemplate": "<b>%{hovertext}</b><br><br>hometeam=Bengals<br>season=%{x}<br>winner_home=%{marker.size}<extra></extra>",
         "hovertext": [
          "Bengals"
         ],
         "ids": [
          "Bengals"
         ],
         "legendgroup": "Bengals",
         "marker": {
          "color": "#00cc96",
          "size": [
           4
          ],
          "sizemode": "area",
          "sizeref": 0.002644628099173554,
          "symbol": "circle"
         },
         "mode": "markers",
         "name": "Bengals",
         "orientation": "v",
         "showlegend": true,
         "type": "scatter",
         "x": [
          2017
         ],
         "xaxis": "x",
         "y": [
          4
         ],
         "yaxis": "y"
        },
        {
         "hovertemplate": "<b>%{hovertext}</b><br><br>hometeam=Bills<br>season=%{x}<br>winner_home=%{marker.size}<extra></extra>",
         "hovertext": [
          "Bills"
         ],
         "ids": [
          "Bills"
         ],
         "legendgroup": "Bills",
         "marker": {
          "color": "#ab63fa",
          "size": [
           6
          ],
          "sizemode": "area",
          "sizeref": 0.002644628099173554,
          "symbol": "circle"
         },
         "mode": "markers",
         "name": "Bills",
         "orientation": "v",
         "showlegend": true,
         "type": "scatter",
         "x": [
          2017
         ],
         "xaxis": "x",
         "y": [
          6
         ],
         "yaxis": "y"
        },
        {
         "hovertemplate": "<b>%{hovertext}</b><br><br>hometeam=Broncos<br>season=%{x}<br>winner_home=%{marker.size}<extra></extra>",
         "hovertext": [
          "Broncos"
         ],
         "ids": [
          "Broncos"
         ],
         "legendgroup": "Broncos",
         "marker": {
          "color": "#FFA15A",
          "size": [
           3
          ],
          "sizemode": "area",
          "sizeref": 0.002644628099173554,
          "symbol": "circle"
         },
         "mode": "markers",
         "name": "Broncos",
         "orientation": "v",
         "showlegend": true,
         "type": "scatter",
         "x": [
          2017
         ],
         "xaxis": "x",
         "y": [
          3
         ],
         "yaxis": "y"
        },
        {
         "hovertemplate": "<b>%{hovertext}</b><br><br>hometeam=Browns<br>season=%{x}<br>winner_home=%{marker.size}<extra></extra>",
         "hovertext": [
          "Browns"
         ],
         "ids": [
          "Browns"
         ],
         "legendgroup": "Browns",
         "marker": {
          "color": "#19d3f3",
          "size": [
           0
          ],
          "sizemode": "area",
          "sizeref": 0.002644628099173554,
          "symbol": "circle"
         },
         "mode": "markers",
         "name": "Browns",
         "orientation": "v",
         "showlegend": true,
         "type": "scatter",
         "x": [
          2017
         ],
         "xaxis": "x",
         "y": [
          0
         ],
         "yaxis": "y"
        },
        {
         "hovertemplate": "<b>%{hovertext}</b><br><br>hometeam=Buccaneers<br>season=%{x}<br>winner_home=%{marker.size}<extra></extra>",
         "hovertext": [
          "Buccaneers"
         ],
         "ids": [
          "Buccaneers"
         ],
         "legendgroup": "Buccaneers",
         "marker": {
          "color": "#FF6692",
          "size": [
           4
          ],
          "sizemode": "area",
          "sizeref": 0.002644628099173554,
          "symbol": "circle"
         },
         "mode": "markers",
         "name": "Buccaneers",
         "orientation": "v",
         "showlegend": true,
         "type": "scatter",
         "x": [
          2017
         ],
         "xaxis": "x",
         "y": [
          4
         ],
         "yaxis": "y"
        },
        {
         "hovertemplate": "<b>%{hovertext}</b><br><br>hometeam=Cardinals<br>season=%{x}<br>winner_home=%{marker.size}<extra></extra>",
         "hovertext": [
          "Cardinals"
         ],
         "ids": [
          "Cardinals"
         ],
         "legendgroup": "Cardinals",
         "marker": {
          "color": "#B6E880",
          "size": [
           5
          ],
          "sizemode": "area",
          "sizeref": 0.002644628099173554,
          "symbol": "circle"
         },
         "mode": "markers",
         "name": "Cardinals",
         "orientation": "v",
         "showlegend": true,
         "type": "scatter",
         "x": [
          2017
         ],
         "xaxis": "x",
         "y": [
          5
         ],
         "yaxis": "y"
        },
        {
         "hovertemplate": "<b>%{hovertext}</b><br><br>hometeam=Chargers<br>season=%{x}<br>winner_home=%{marker.size}<extra></extra>",
         "hovertext": [
          "Chargers"
         ],
         "ids": [
          "Chargers"
         ],
         "legendgroup": "Chargers",
         "marker": {
          "color": "#FF97FF",
          "size": [
           5
          ],
          "sizemode": "area",
          "sizeref": 0.002644628099173554,
          "symbol": "circle"
         },
         "mode": "markers",
         "name": "Chargers",
         "orientation": "v",
         "showlegend": true,
         "type": "scatter",
         "x": [
          2017
         ],
         "xaxis": "x",
         "y": [
          5
         ],
         "yaxis": "y"
        },
        {
         "hovertemplate": "<b>%{hovertext}</b><br><br>hometeam=Chiefs<br>season=%{x}<br>winner_home=%{marker.size}<extra></extra>",
         "hovertext": [
          "Chiefs"
         ],
         "ids": [
          "Chiefs"
         ],
         "legendgroup": "Chiefs",
         "marker": {
          "color": "#FECB52",
          "size": [
           6
          ],
          "sizemode": "area",
          "sizeref": 0.002644628099173554,
          "symbol": "circle"
         },
         "mode": "markers",
         "name": "Chiefs",
         "orientation": "v",
         "showlegend": true,
         "type": "scatter",
         "x": [
          2017
         ],
         "xaxis": "x",
         "y": [
          6
         ],
         "yaxis": "y"
        },
        {
         "hovertemplate": "<b>%{hovertext}</b><br><br>hometeam=Colts<br>season=%{x}<br>winner_home=%{marker.size}<extra></extra>",
         "hovertext": [
          "Colts"
         ],
         "ids": [
          "Colts"
         ],
         "legendgroup": "Colts",
         "marker": {
          "color": "#636efa",
          "size": [
           3
          ],
          "sizemode": "area",
          "sizeref": 0.002644628099173554,
          "symbol": "circle"
         },
         "mode": "markers",
         "name": "Colts",
         "orientation": "v",
         "showlegend": true,
         "type": "scatter",
         "x": [
          2017
         ],
         "xaxis": "x",
         "y": [
          3
         ],
         "yaxis": "y"
        },
        {
         "hovertemplate": "<b>%{hovertext}</b><br><br>hometeam=Cowboys<br>season=%{x}<br>winner_home=%{marker.size}<extra></extra>",
         "hovertext": [
          "Cowboys"
         ],
         "ids": [
          "Cowboys"
         ],
         "legendgroup": "Cowboys",
         "marker": {
          "color": "#EF553B",
          "size": [
           3
          ],
          "sizemode": "area",
          "sizeref": 0.002644628099173554,
          "symbol": "circle"
         },
         "mode": "markers",
         "name": "Cowboys",
         "orientation": "v",
         "showlegend": true,
         "type": "scatter",
         "x": [
          2017
         ],
         "xaxis": "x",
         "y": [
          3
         ],
         "yaxis": "y"
        },
        {
         "hovertemplate": "<b>%{hovertext}</b><br><br>hometeam=Dolphins<br>season=%{x}<br>winner_home=%{marker.size}<extra></extra>",
         "hovertext": [
          "Dolphins"
         ],
         "ids": [
          "Dolphins"
         ],
         "legendgroup": "Dolphins",
         "marker": {
          "color": "#00cc96",
          "size": [
           4
          ],
          "sizemode": "area",
          "sizeref": 0.002644628099173554,
          "symbol": "circle"
         },
         "mode": "markers",
         "name": "Dolphins",
         "orientation": "v",
         "showlegend": true,
         "type": "scatter",
         "x": [
          2017
         ],
         "xaxis": "x",
         "y": [
          4
         ],
         "yaxis": "y"
        },
        {
         "hovertemplate": "<b>%{hovertext}</b><br><br>hometeam=Eagles<br>season=%{x}<br>winner_home=%{marker.size}<extra></extra>",
         "hovertext": [
          "Eagles"
         ],
         "ids": [
          "Eagles"
         ],
         "legendgroup": "Eagles",
         "marker": {
          "color": "#ab63fa",
          "size": [
           7
          ],
          "sizemode": "area",
          "sizeref": 0.002644628099173554,
          "symbol": "circle"
         },
         "mode": "markers",
         "name": "Eagles",
         "orientation": "v",
         "showlegend": true,
         "type": "scatter",
         "x": [
          2017
         ],
         "xaxis": "x",
         "y": [
          7
         ],
         "yaxis": "y"
        },
        {
         "hovertemplate": "<b>%{hovertext}</b><br><br>hometeam=Falcons<br>season=%{x}<br>winner_home=%{marker.size}<extra></extra>",
         "hovertext": [
          "Falcons"
         ],
         "ids": [
          "Falcons"
         ],
         "legendgroup": "Falcons",
         "marker": {
          "color": "#FFA15A",
          "size": [
           5
          ],
          "sizemode": "area",
          "sizeref": 0.002644628099173554,
          "symbol": "circle"
         },
         "mode": "markers",
         "name": "Falcons",
         "orientation": "v",
         "showlegend": true,
         "type": "scatter",
         "x": [
          2017
         ],
         "xaxis": "x",
         "y": [
          5
         ],
         "yaxis": "y"
        },
        {
         "hovertemplate": "<b>%{hovertext}</b><br><br>hometeam=Giants<br>season=%{x}<br>winner_home=%{marker.size}<extra></extra>",
         "hovertext": [
          "Giants"
         ],
         "ids": [
          "Giants"
         ],
         "legendgroup": "Giants",
         "marker": {
          "color": "#19d3f3",
          "size": [
           2
          ],
          "sizemode": "area",
          "sizeref": 0.002644628099173554,
          "symbol": "circle"
         },
         "mode": "markers",
         "name": "Giants",
         "orientation": "v",
         "showlegend": true,
         "type": "scatter",
         "x": [
          2017
         ],
         "xaxis": "x",
         "y": [
          2
         ],
         "yaxis": "y"
        },
        {
         "hovertemplate": "<b>%{hovertext}</b><br><br>hometeam=Jaguars<br>season=%{x}<br>winner_home=%{marker.size}<extra></extra>",
         "hovertext": [
          "Jaguars"
         ],
         "ids": [
          "Jaguars"
         ],
         "legendgroup": "Jaguars",
         "marker": {
          "color": "#FF6692",
          "size": [
           6
          ],
          "sizemode": "area",
          "sizeref": 0.002644628099173554,
          "symbol": "circle"
         },
         "mode": "markers",
         "name": "Jaguars",
         "orientation": "v",
         "showlegend": true,
         "type": "scatter",
         "x": [
          2017
         ],
         "xaxis": "x",
         "y": [
          6
         ],
         "yaxis": "y"
        },
        {
         "hovertemplate": "<b>%{hovertext}</b><br><br>hometeam=Jets<br>season=%{x}<br>winner_home=%{marker.size}<extra></extra>",
         "hovertext": [
          "Jets"
         ],
         "ids": [
          "Jets"
         ],
         "legendgroup": "Jets",
         "marker": {
          "color": "#B6E880",
          "size": [
           4
          ],
          "sizemode": "area",
          "sizeref": 0.002644628099173554,
          "symbol": "circle"
         },
         "mode": "markers",
         "name": "Jets",
         "orientation": "v",
         "showlegend": true,
         "type": "scatter",
         "x": [
          2017
         ],
         "xaxis": "x",
         "y": [
          4
         ],
         "yaxis": "y"
        },
        {
         "hovertemplate": "<b>%{hovertext}</b><br><br>hometeam=Lions<br>season=%{x}<br>winner_home=%{marker.size}<extra></extra>",
         "hovertext": [
          "Lions"
         ],
         "ids": [
          "Lions"
         ],
         "legendgroup": "Lions",
         "marker": {
          "color": "#FF97FF",
          "size": [
           4
          ],
          "sizemode": "area",
          "sizeref": 0.002644628099173554,
          "symbol": "circle"
         },
         "mode": "markers",
         "name": "Lions",
         "orientation": "v",
         "showlegend": true,
         "type": "scatter",
         "x": [
          2017
         ],
         "xaxis": "x",
         "y": [
          4
         ],
         "yaxis": "y"
        },
        {
         "hovertemplate": "<b>%{hovertext}</b><br><br>hometeam=Packers<br>season=%{x}<br>winner_home=%{marker.size}<extra></extra>",
         "hovertext": [
          "Packers"
         ],
         "ids": [
          "Packers"
         ],
         "legendgroup": "Packers",
         "marker": {
          "color": "#FECB52",
          "size": [
           4
          ],
          "sizemode": "area",
          "sizeref": 0.002644628099173554,
          "symbol": "circle"
         },
         "mode": "markers",
         "name": "Packers",
         "orientation": "v",
         "showlegend": true,
         "type": "scatter",
         "x": [
          2017
         ],
         "xaxis": "x",
         "y": [
          4
         ],
         "yaxis": "y"
        },
        {
         "hovertemplate": "<b>%{hovertext}</b><br><br>hometeam=Panthers<br>season=%{x}<br>winner_home=%{marker.size}<extra></extra>",
         "hovertext": [
          "Panthers"
         ],
         "ids": [
          "Panthers"
         ],
         "legendgroup": "Panthers",
         "marker": {
          "color": "#636efa",
          "size": [
           6
          ],
          "sizemode": "area",
          "sizeref": 0.002644628099173554,
          "symbol": "circle"
         },
         "mode": "markers",
         "name": "Panthers",
         "orientation": "v",
         "showlegend": true,
         "type": "scatter",
         "x": [
          2017
         ],
         "xaxis": "x",
         "y": [
          6
         ],
         "yaxis": "y"
        },
        {
         "hovertemplate": "<b>%{hovertext}</b><br><br>hometeam=Patriots<br>season=%{x}<br>winner_home=%{marker.size}<extra></extra>",
         "hovertext": [
          "Patriots"
         ],
         "ids": [
          "Patriots"
         ],
         "legendgroup": "Patriots",
         "marker": {
          "color": "#EF553B",
          "size": [
           6
          ],
          "sizemode": "area",
          "sizeref": 0.002644628099173554,
          "symbol": "circle"
         },
         "mode": "markers",
         "name": "Patriots",
         "orientation": "v",
         "showlegend": true,
         "type": "scatter",
         "x": [
          2017
         ],
         "xaxis": "x",
         "y": [
          6
         ],
         "yaxis": "y"
        },
        {
         "hovertemplate": "<b>%{hovertext}</b><br><br>hometeam=Raiders<br>season=%{x}<br>winner_home=%{marker.size}<extra></extra>",
         "hovertext": [
          "Raiders"
         ],
         "ids": [
          "Raiders"
         ],
         "legendgroup": "Raiders",
         "marker": {
          "color": "#00cc96",
          "size": [
           4
          ],
          "sizemode": "area",
          "sizeref": 0.002644628099173554,
          "symbol": "circle"
         },
         "mode": "markers",
         "name": "Raiders",
         "orientation": "v",
         "showlegend": true,
         "type": "scatter",
         "x": [
          2017
         ],
         "xaxis": "x",
         "y": [
          4
         ],
         "yaxis": "y"
        },
        {
         "hovertemplate": "<b>%{hovertext}</b><br><br>hometeam=Rams<br>season=%{x}<br>winner_home=%{marker.size}<extra></extra>",
         "hovertext": [
          "Rams"
         ],
         "ids": [
          "Rams"
         ],
         "legendgroup": "Rams",
         "marker": {
          "color": "#ab63fa",
          "size": [
           4
          ],
          "sizemode": "area",
          "sizeref": 0.002644628099173554,
          "symbol": "circle"
         },
         "mode": "markers",
         "name": "Rams",
         "orientation": "v",
         "showlegend": true,
         "type": "scatter",
         "x": [
          2017
         ],
         "xaxis": "x",
         "y": [
          4
         ],
         "yaxis": "y"
        },
        {
         "hovertemplate": "<b>%{hovertext}</b><br><br>hometeam=Ravens<br>season=%{x}<br>winner_home=%{marker.size}<extra></extra>",
         "hovertext": [
          "Ravens"
         ],
         "ids": [
          "Ravens"
         ],
         "legendgroup": "Ravens",
         "marker": {
          "color": "#FFA15A",
          "size": [
           5
          ],
          "sizemode": "area",
          "sizeref": 0.002644628099173554,
          "symbol": "circle"
         },
         "mode": "markers",
         "name": "Ravens",
         "orientation": "v",
         "showlegend": true,
         "type": "scatter",
         "x": [
          2017
         ],
         "xaxis": "x",
         "y": [
          5
         ],
         "yaxis": "y"
        },
        {
         "hovertemplate": "<b>%{hovertext}</b><br><br>hometeam=Saints<br>season=%{x}<br>winner_home=%{marker.size}<extra></extra>",
         "hovertext": [
          "Saints"
         ],
         "ids": [
          "Saints"
         ],
         "legendgroup": "Saints",
         "marker": {
          "color": "#19d3f3",
          "size": [
           7
          ],
          "sizemode": "area",
          "sizeref": 0.002644628099173554,
          "symbol": "circle"
         },
         "mode": "markers",
         "name": "Saints",
         "orientation": "v",
         "showlegend": true,
         "type": "scatter",
         "x": [
          2017
         ],
         "xaxis": "x",
         "y": [
          7
         ],
         "yaxis": "y"
        },
        {
         "hovertemplate": "<b>%{hovertext}</b><br><br>hometeam=Seahawks<br>season=%{x}<br>winner_home=%{marker.size}<extra></extra>",
         "hovertext": [
          "Seahawks"
         ],
         "ids": [
          "Seahawks"
         ],
         "legendgroup": "Seahawks",
         "marker": {
          "color": "#FF6692",
          "size": [
           4
          ],
          "sizemode": "area",
          "sizeref": 0.002644628099173554,
          "symbol": "circle"
         },
         "mode": "markers",
         "name": "Seahawks",
         "orientation": "v",
         "showlegend": true,
         "type": "scatter",
         "x": [
          2017
         ],
         "xaxis": "x",
         "y": [
          4
         ],
         "yaxis": "y"
        },
        {
         "hovertemplate": "<b>%{hovertext}</b><br><br>hometeam=Steelers<br>season=%{x}<br>winner_home=%{marker.size}<extra></extra>",
         "hovertext": [
          "Steelers"
         ],
         "ids": [
          "Steelers"
         ],
         "legendgroup": "Steelers",
         "marker": {
          "color": "#B6E880",
          "size": [
           6
          ],
          "sizemode": "area",
          "sizeref": 0.002644628099173554,
          "symbol": "circle"
         },
         "mode": "markers",
         "name": "Steelers",
         "orientation": "v",
         "showlegend": true,
         "type": "scatter",
         "x": [
          2017
         ],
         "xaxis": "x",
         "y": [
          6
         ],
         "yaxis": "y"
        },
        {
         "hovertemplate": "<b>%{hovertext}</b><br><br>hometeam=Texans<br>season=%{x}<br>winner_home=%{marker.size}<extra></extra>",
         "hovertext": [
          "Texans"
         ],
         "ids": [
          "Texans"
         ],
         "legendgroup": "Texans",
         "marker": {
          "color": "#FF97FF",
          "size": [
           3
          ],
          "sizemode": "area",
          "sizeref": 0.002644628099173554,
          "symbol": "circle"
         },
         "mode": "markers",
         "name": "Texans",
         "orientation": "v",
         "showlegend": true,
         "type": "scatter",
         "x": [
          2017
         ],
         "xaxis": "x",
         "y": [
          3
         ],
         "yaxis": "y"
        },
        {
         "hovertemplate": "<b>%{hovertext}</b><br><br>hometeam=Titans<br>season=%{x}<br>winner_home=%{marker.size}<extra></extra>",
         "hovertext": [
          "Titans"
         ],
         "ids": [
          "Titans"
         ],
         "legendgroup": "Titans",
         "marker": {
          "color": "#FECB52",
          "size": [
           6
          ],
          "sizemode": "area",
          "sizeref": 0.002644628099173554,
          "symbol": "circle"
         },
         "mode": "markers",
         "name": "Titans",
         "orientation": "v",
         "showlegend": true,
         "type": "scatter",
         "x": [
          2017
         ],
         "xaxis": "x",
         "y": [
          6
         ],
         "yaxis": "y"
        },
        {
         "hovertemplate": "<b>%{hovertext}</b><br><br>hometeam=Vikings<br>season=%{x}<br>winner_home=%{marker.size}<extra></extra>",
         "hovertext": [
          "Vikings"
         ],
         "ids": [
          "Vikings"
         ],
         "legendgroup": "Vikings",
         "marker": {
          "color": "#636efa",
          "size": [
           6
          ],
          "sizemode": "area",
          "sizeref": 0.002644628099173554,
          "symbol": "circle"
         },
         "mode": "markers",
         "name": "Vikings",
         "orientation": "v",
         "showlegend": true,
         "type": "scatter",
         "x": [
          2017
         ],
         "xaxis": "x",
         "y": [
          6
         ],
         "yaxis": "y"
        },
        {
         "hovertemplate": "<b>%{hovertext}</b><br><br>hometeam=Washington<br>season=%{x}<br>winner_home=%{marker.size}<extra></extra>",
         "hovertext": [
          "Washington"
         ],
         "ids": [
          "Washington"
         ],
         "legendgroup": "Washington",
         "marker": {
          "color": "#EF553B",
          "size": [
           5
          ],
          "sizemode": "area",
          "sizeref": 0.002644628099173554,
          "symbol": "circle"
         },
         "mode": "markers",
         "name": "Washington",
         "orientation": "v",
         "showlegend": true,
         "type": "scatter",
         "x": [
          2017
         ],
         "xaxis": "x",
         "y": [
          5
         ],
         "yaxis": "y"
        }
       ],
       "frames": [
        {
         "data": [
          {
           "hovertemplate": "<b>%{hovertext}</b><br><br>hometeam=49ers<br>season=%{x}<br>winner_home=%{marker.size}<extra></extra>",
           "hovertext": [
            "49ers"
           ],
           "ids": [
            "49ers"
           ],
           "legendgroup": "49ers",
           "marker": {
            "color": "#636efa",
            "size": [
             3
            ],
            "sizemode": "area",
            "sizeref": 0.002644628099173554,
            "symbol": "circle"
           },
           "mode": "markers",
           "name": "49ers",
           "orientation": "v",
           "showlegend": true,
           "type": "scatter",
           "x": [
            2017
           ],
           "xaxis": "x",
           "y": [
            3
           ],
           "yaxis": "y"
          },
          {
           "hovertemplate": "<b>%{hovertext}</b><br><br>hometeam=Bears<br>season=%{x}<br>winner_home=%{marker.size}<extra></extra>",
           "hovertext": [
            "Bears"
           ],
           "ids": [
            "Bears"
           ],
           "legendgroup": "Bears",
           "marker": {
            "color": "#EF553B",
            "size": [
             3
            ],
            "sizemode": "area",
            "sizeref": 0.002644628099173554,
            "symbol": "circle"
           },
           "mode": "markers",
           "name": "Bears",
           "orientation": "v",
           "showlegend": true,
           "type": "scatter",
           "x": [
            2017
           ],
           "xaxis": "x",
           "y": [
            3
           ],
           "yaxis": "y"
          },
          {
           "hovertemplate": "<b>%{hovertext}</b><br><br>hometeam=Bengals<br>season=%{x}<br>winner_home=%{marker.size}<extra></extra>",
           "hovertext": [
            "Bengals"
           ],
           "ids": [
            "Bengals"
           ],
           "legendgroup": "Bengals",
           "marker": {
            "color": "#00cc96",
            "size": [
             4
            ],
            "sizemode": "area",
            "sizeref": 0.002644628099173554,
            "symbol": "circle"
           },
           "mode": "markers",
           "name": "Bengals",
           "orientation": "v",
           "showlegend": true,
           "type": "scatter",
           "x": [
            2017
           ],
           "xaxis": "x",
           "y": [
            4
           ],
           "yaxis": "y"
          },
          {
           "hovertemplate": "<b>%{hovertext}</b><br><br>hometeam=Bills<br>season=%{x}<br>winner_home=%{marker.size}<extra></extra>",
           "hovertext": [
            "Bills"
           ],
           "ids": [
            "Bills"
           ],
           "legendgroup": "Bills",
           "marker": {
            "color": "#ab63fa",
            "size": [
             6
            ],
            "sizemode": "area",
            "sizeref": 0.002644628099173554,
            "symbol": "circle"
           },
           "mode": "markers",
           "name": "Bills",
           "orientation": "v",
           "showlegend": true,
           "type": "scatter",
           "x": [
            2017
           ],
           "xaxis": "x",
           "y": [
            6
           ],
           "yaxis": "y"
          },
          {
           "hovertemplate": "<b>%{hovertext}</b><br><br>hometeam=Broncos<br>season=%{x}<br>winner_home=%{marker.size}<extra></extra>",
           "hovertext": [
            "Broncos"
           ],
           "ids": [
            "Broncos"
           ],
           "legendgroup": "Broncos",
           "marker": {
            "color": "#FFA15A",
            "size": [
             3
            ],
            "sizemode": "area",
            "sizeref": 0.002644628099173554,
            "symbol": "circle"
           },
           "mode": "markers",
           "name": "Broncos",
           "orientation": "v",
           "showlegend": true,
           "type": "scatter",
           "x": [
            2017
           ],
           "xaxis": "x",
           "y": [
            3
           ],
           "yaxis": "y"
          },
          {
           "hovertemplate": "<b>%{hovertext}</b><br><br>hometeam=Browns<br>season=%{x}<br>winner_home=%{marker.size}<extra></extra>",
           "hovertext": [
            "Browns"
           ],
           "ids": [
            "Browns"
           ],
           "legendgroup": "Browns",
           "marker": {
            "color": "#19d3f3",
            "size": [
             0
            ],
            "sizemode": "area",
            "sizeref": 0.002644628099173554,
            "symbol": "circle"
           },
           "mode": "markers",
           "name": "Browns",
           "orientation": "v",
           "showlegend": true,
           "type": "scatter",
           "x": [
            2017
           ],
           "xaxis": "x",
           "y": [
            0
           ],
           "yaxis": "y"
          },
          {
           "hovertemplate": "<b>%{hovertext}</b><br><br>hometeam=Buccaneers<br>season=%{x}<br>winner_home=%{marker.size}<extra></extra>",
           "hovertext": [
            "Buccaneers"
           ],
           "ids": [
            "Buccaneers"
           ],
           "legendgroup": "Buccaneers",
           "marker": {
            "color": "#FF6692",
            "size": [
             4
            ],
            "sizemode": "area",
            "sizeref": 0.002644628099173554,
            "symbol": "circle"
           },
           "mode": "markers",
           "name": "Buccaneers",
           "orientation": "v",
           "showlegend": true,
           "type": "scatter",
           "x": [
            2017
           ],
           "xaxis": "x",
           "y": [
            4
           ],
           "yaxis": "y"
          },
          {
           "hovertemplate": "<b>%{hovertext}</b><br><br>hometeam=Cardinals<br>season=%{x}<br>winner_home=%{marker.size}<extra></extra>",
           "hovertext": [
            "Cardinals"
           ],
           "ids": [
            "Cardinals"
           ],
           "legendgroup": "Cardinals",
           "marker": {
            "color": "#B6E880",
            "size": [
             5
            ],
            "sizemode": "area",
            "sizeref": 0.002644628099173554,
            "symbol": "circle"
           },
           "mode": "markers",
           "name": "Cardinals",
           "orientation": "v",
           "showlegend": true,
           "type": "scatter",
           "x": [
            2017
           ],
           "xaxis": "x",
           "y": [
            5
           ],
           "yaxis": "y"
          },
          {
           "hovertemplate": "<b>%{hovertext}</b><br><br>hometeam=Chargers<br>season=%{x}<br>winner_home=%{marker.size}<extra></extra>",
           "hovertext": [
            "Chargers"
           ],
           "ids": [
            "Chargers"
           ],
           "legendgroup": "Chargers",
           "marker": {
            "color": "#FF97FF",
            "size": [
             5
            ],
            "sizemode": "area",
            "sizeref": 0.002644628099173554,
            "symbol": "circle"
           },
           "mode": "markers",
           "name": "Chargers",
           "orientation": "v",
           "showlegend": true,
           "type": "scatter",
           "x": [
            2017
           ],
           "xaxis": "x",
           "y": [
            5
           ],
           "yaxis": "y"
          },
          {
           "hovertemplate": "<b>%{hovertext}</b><br><br>hometeam=Chiefs<br>season=%{x}<br>winner_home=%{marker.size}<extra></extra>",
           "hovertext": [
            "Chiefs"
           ],
           "ids": [
            "Chiefs"
           ],
           "legendgroup": "Chiefs",
           "marker": {
            "color": "#FECB52",
            "size": [
             6
            ],
            "sizemode": "area",
            "sizeref": 0.002644628099173554,
            "symbol": "circle"
           },
           "mode": "markers",
           "name": "Chiefs",
           "orientation": "v",
           "showlegend": true,
           "type": "scatter",
           "x": [
            2017
           ],
           "xaxis": "x",
           "y": [
            6
           ],
           "yaxis": "y"
          },
          {
           "hovertemplate": "<b>%{hovertext}</b><br><br>hometeam=Colts<br>season=%{x}<br>winner_home=%{marker.size}<extra></extra>",
           "hovertext": [
            "Colts"
           ],
           "ids": [
            "Colts"
           ],
           "legendgroup": "Colts",
           "marker": {
            "color": "#636efa",
            "size": [
             3
            ],
            "sizemode": "area",
            "sizeref": 0.002644628099173554,
            "symbol": "circle"
           },
           "mode": "markers",
           "name": "Colts",
           "orientation": "v",
           "showlegend": true,
           "type": "scatter",
           "x": [
            2017
           ],
           "xaxis": "x",
           "y": [
            3
           ],
           "yaxis": "y"
          },
          {
           "hovertemplate": "<b>%{hovertext}</b><br><br>hometeam=Cowboys<br>season=%{x}<br>winner_home=%{marker.size}<extra></extra>",
           "hovertext": [
            "Cowboys"
           ],
           "ids": [
            "Cowboys"
           ],
           "legendgroup": "Cowboys",
           "marker": {
            "color": "#EF553B",
            "size": [
             3
            ],
            "sizemode": "area",
            "sizeref": 0.002644628099173554,
            "symbol": "circle"
           },
           "mode": "markers",
           "name": "Cowboys",
           "orientation": "v",
           "showlegend": true,
           "type": "scatter",
           "x": [
            2017
           ],
           "xaxis": "x",
           "y": [
            3
           ],
           "yaxis": "y"
          },
          {
           "hovertemplate": "<b>%{hovertext}</b><br><br>hometeam=Dolphins<br>season=%{x}<br>winner_home=%{marker.size}<extra></extra>",
           "hovertext": [
            "Dolphins"
           ],
           "ids": [
            "Dolphins"
           ],
           "legendgroup": "Dolphins",
           "marker": {
            "color": "#00cc96",
            "size": [
             4
            ],
            "sizemode": "area",
            "sizeref": 0.002644628099173554,
            "symbol": "circle"
           },
           "mode": "markers",
           "name": "Dolphins",
           "orientation": "v",
           "showlegend": true,
           "type": "scatter",
           "x": [
            2017
           ],
           "xaxis": "x",
           "y": [
            4
           ],
           "yaxis": "y"
          },
          {
           "hovertemplate": "<b>%{hovertext}</b><br><br>hometeam=Eagles<br>season=%{x}<br>winner_home=%{marker.size}<extra></extra>",
           "hovertext": [
            "Eagles"
           ],
           "ids": [
            "Eagles"
           ],
           "legendgroup": "Eagles",
           "marker": {
            "color": "#ab63fa",
            "size": [
             7
            ],
            "sizemode": "area",
            "sizeref": 0.002644628099173554,
            "symbol": "circle"
           },
           "mode": "markers",
           "name": "Eagles",
           "orientation": "v",
           "showlegend": true,
           "type": "scatter",
           "x": [
            2017
           ],
           "xaxis": "x",
           "y": [
            7
           ],
           "yaxis": "y"
          },
          {
           "hovertemplate": "<b>%{hovertext}</b><br><br>hometeam=Falcons<br>season=%{x}<br>winner_home=%{marker.size}<extra></extra>",
           "hovertext": [
            "Falcons"
           ],
           "ids": [
            "Falcons"
           ],
           "legendgroup": "Falcons",
           "marker": {
            "color": "#FFA15A",
            "size": [
             5
            ],
            "sizemode": "area",
            "sizeref": 0.002644628099173554,
            "symbol": "circle"
           },
           "mode": "markers",
           "name": "Falcons",
           "orientation": "v",
           "showlegend": true,
           "type": "scatter",
           "x": [
            2017
           ],
           "xaxis": "x",
           "y": [
            5
           ],
           "yaxis": "y"
          },
          {
           "hovertemplate": "<b>%{hovertext}</b><br><br>hometeam=Giants<br>season=%{x}<br>winner_home=%{marker.size}<extra></extra>",
           "hovertext": [
            "Giants"
           ],
           "ids": [
            "Giants"
           ],
           "legendgroup": "Giants",
           "marker": {
            "color": "#19d3f3",
            "size": [
             2
            ],
            "sizemode": "area",
            "sizeref": 0.002644628099173554,
            "symbol": "circle"
           },
           "mode": "markers",
           "name": "Giants",
           "orientation": "v",
           "showlegend": true,
           "type": "scatter",
           "x": [
            2017
           ],
           "xaxis": "x",
           "y": [
            2
           ],
           "yaxis": "y"
          },
          {
           "hovertemplate": "<b>%{hovertext}</b><br><br>hometeam=Jaguars<br>season=%{x}<br>winner_home=%{marker.size}<extra></extra>",
           "hovertext": [
            "Jaguars"
           ],
           "ids": [
            "Jaguars"
           ],
           "legendgroup": "Jaguars",
           "marker": {
            "color": "#FF6692",
            "size": [
             6
            ],
            "sizemode": "area",
            "sizeref": 0.002644628099173554,
            "symbol": "circle"
           },
           "mode": "markers",
           "name": "Jaguars",
           "orientation": "v",
           "showlegend": true,
           "type": "scatter",
           "x": [
            2017
           ],
           "xaxis": "x",
           "y": [
            6
           ],
           "yaxis": "y"
          },
          {
           "hovertemplate": "<b>%{hovertext}</b><br><br>hometeam=Jets<br>season=%{x}<br>winner_home=%{marker.size}<extra></extra>",
           "hovertext": [
            "Jets"
           ],
           "ids": [
            "Jets"
           ],
           "legendgroup": "Jets",
           "marker": {
            "color": "#B6E880",
            "size": [
             4
            ],
            "sizemode": "area",
            "sizeref": 0.002644628099173554,
            "symbol": "circle"
           },
           "mode": "markers",
           "name": "Jets",
           "orientation": "v",
           "showlegend": true,
           "type": "scatter",
           "x": [
            2017
           ],
           "xaxis": "x",
           "y": [
            4
           ],
           "yaxis": "y"
          },
          {
           "hovertemplate": "<b>%{hovertext}</b><br><br>hometeam=Lions<br>season=%{x}<br>winner_home=%{marker.size}<extra></extra>",
           "hovertext": [
            "Lions"
           ],
           "ids": [
            "Lions"
           ],
           "legendgroup": "Lions",
           "marker": {
            "color": "#FF97FF",
            "size": [
             4
            ],
            "sizemode": "area",
            "sizeref": 0.002644628099173554,
            "symbol": "circle"
           },
           "mode": "markers",
           "name": "Lions",
           "orientation": "v",
           "showlegend": true,
           "type": "scatter",
           "x": [
            2017
           ],
           "xaxis": "x",
           "y": [
            4
           ],
           "yaxis": "y"
          },
          {
           "hovertemplate": "<b>%{hovertext}</b><br><br>hometeam=Packers<br>season=%{x}<br>winner_home=%{marker.size}<extra></extra>",
           "hovertext": [
            "Packers"
           ],
           "ids": [
            "Packers"
           ],
           "legendgroup": "Packers",
           "marker": {
            "color": "#FECB52",
            "size": [
             4
            ],
            "sizemode": "area",
            "sizeref": 0.002644628099173554,
            "symbol": "circle"
           },
           "mode": "markers",
           "name": "Packers",
           "orientation": "v",
           "showlegend": true,
           "type": "scatter",
           "x": [
            2017
           ],
           "xaxis": "x",
           "y": [
            4
           ],
           "yaxis": "y"
          },
          {
           "hovertemplate": "<b>%{hovertext}</b><br><br>hometeam=Panthers<br>season=%{x}<br>winner_home=%{marker.size}<extra></extra>",
           "hovertext": [
            "Panthers"
           ],
           "ids": [
            "Panthers"
           ],
           "legendgroup": "Panthers",
           "marker": {
            "color": "#636efa",
            "size": [
             6
            ],
            "sizemode": "area",
            "sizeref": 0.002644628099173554,
            "symbol": "circle"
           },
           "mode": "markers",
           "name": "Panthers",
           "orientation": "v",
           "showlegend": true,
           "type": "scatter",
           "x": [
            2017
           ],
           "xaxis": "x",
           "y": [
            6
           ],
           "yaxis": "y"
          },
          {
           "hovertemplate": "<b>%{hovertext}</b><br><br>hometeam=Patriots<br>season=%{x}<br>winner_home=%{marker.size}<extra></extra>",
           "hovertext": [
            "Patriots"
           ],
           "ids": [
            "Patriots"
           ],
           "legendgroup": "Patriots",
           "marker": {
            "color": "#EF553B",
            "size": [
             6
            ],
            "sizemode": "area",
            "sizeref": 0.002644628099173554,
            "symbol": "circle"
           },
           "mode": "markers",
           "name": "Patriots",
           "orientation": "v",
           "showlegend": true,
           "type": "scatter",
           "x": [
            2017
           ],
           "xaxis": "x",
           "y": [
            6
           ],
           "yaxis": "y"
          },
          {
           "hovertemplate": "<b>%{hovertext}</b><br><br>hometeam=Raiders<br>season=%{x}<br>winner_home=%{marker.size}<extra></extra>",
           "hovertext": [
            "Raiders"
           ],
           "ids": [
            "Raiders"
           ],
           "legendgroup": "Raiders",
           "marker": {
            "color": "#00cc96",
            "size": [
             4
            ],
            "sizemode": "area",
            "sizeref": 0.002644628099173554,
            "symbol": "circle"
           },
           "mode": "markers",
           "name": "Raiders",
           "orientation": "v",
           "showlegend": true,
           "type": "scatter",
           "x": [
            2017
           ],
           "xaxis": "x",
           "y": [
            4
           ],
           "yaxis": "y"
          },
          {
           "hovertemplate": "<b>%{hovertext}</b><br><br>hometeam=Rams<br>season=%{x}<br>winner_home=%{marker.size}<extra></extra>",
           "hovertext": [
            "Rams"
           ],
           "ids": [
            "Rams"
           ],
           "legendgroup": "Rams",
           "marker": {
            "color": "#ab63fa",
            "size": [
             4
            ],
            "sizemode": "area",
            "sizeref": 0.002644628099173554,
            "symbol": "circle"
           },
           "mode": "markers",
           "name": "Rams",
           "orientation": "v",
           "showlegend": true,
           "type": "scatter",
           "x": [
            2017
           ],
           "xaxis": "x",
           "y": [
            4
           ],
           "yaxis": "y"
          },
          {
           "hovertemplate": "<b>%{hovertext}</b><br><br>hometeam=Ravens<br>season=%{x}<br>winner_home=%{marker.size}<extra></extra>",
           "hovertext": [
            "Ravens"
           ],
           "ids": [
            "Ravens"
           ],
           "legendgroup": "Ravens",
           "marker": {
            "color": "#FFA15A",
            "size": [
             5
            ],
            "sizemode": "area",
            "sizeref": 0.002644628099173554,
            "symbol": "circle"
           },
           "mode": "markers",
           "name": "Ravens",
           "orientation": "v",
           "showlegend": true,
           "type": "scatter",
           "x": [
            2017
           ],
           "xaxis": "x",
           "y": [
            5
           ],
           "yaxis": "y"
          },
          {
           "hovertemplate": "<b>%{hovertext}</b><br><br>hometeam=Saints<br>season=%{x}<br>winner_home=%{marker.size}<extra></extra>",
           "hovertext": [
            "Saints"
           ],
           "ids": [
            "Saints"
           ],
           "legendgroup": "Saints",
           "marker": {
            "color": "#19d3f3",
            "size": [
             7
            ],
            "sizemode": "area",
            "sizeref": 0.002644628099173554,
            "symbol": "circle"
           },
           "mode": "markers",
           "name": "Saints",
           "orientation": "v",
           "showlegend": true,
           "type": "scatter",
           "x": [
            2017
           ],
           "xaxis": "x",
           "y": [
            7
           ],
           "yaxis": "y"
          },
          {
           "hovertemplate": "<b>%{hovertext}</b><br><br>hometeam=Seahawks<br>season=%{x}<br>winner_home=%{marker.size}<extra></extra>",
           "hovertext": [
            "Seahawks"
           ],
           "ids": [
            "Seahawks"
           ],
           "legendgroup": "Seahawks",
           "marker": {
            "color": "#FF6692",
            "size": [
             4
            ],
            "sizemode": "area",
            "sizeref": 0.002644628099173554,
            "symbol": "circle"
           },
           "mode": "markers",
           "name": "Seahawks",
           "orientation": "v",
           "showlegend": true,
           "type": "scatter",
           "x": [
            2017
           ],
           "xaxis": "x",
           "y": [
            4
           ],
           "yaxis": "y"
          },
          {
           "hovertemplate": "<b>%{hovertext}</b><br><br>hometeam=Steelers<br>season=%{x}<br>winner_home=%{marker.size}<extra></extra>",
           "hovertext": [
            "Steelers"
           ],
           "ids": [
            "Steelers"
           ],
           "legendgroup": "Steelers",
           "marker": {
            "color": "#B6E880",
            "size": [
             6
            ],
            "sizemode": "area",
            "sizeref": 0.002644628099173554,
            "symbol": "circle"
           },
           "mode": "markers",
           "name": "Steelers",
           "orientation": "v",
           "showlegend": true,
           "type": "scatter",
           "x": [
            2017
           ],
           "xaxis": "x",
           "y": [
            6
           ],
           "yaxis": "y"
          },
          {
           "hovertemplate": "<b>%{hovertext}</b><br><br>hometeam=Texans<br>season=%{x}<br>winner_home=%{marker.size}<extra></extra>",
           "hovertext": [
            "Texans"
           ],
           "ids": [
            "Texans"
           ],
           "legendgroup": "Texans",
           "marker": {
            "color": "#FF97FF",
            "size": [
             3
            ],
            "sizemode": "area",
            "sizeref": 0.002644628099173554,
            "symbol": "circle"
           },
           "mode": "markers",
           "name": "Texans",
           "orientation": "v",
           "showlegend": true,
           "type": "scatter",
           "x": [
            2017
           ],
           "xaxis": "x",
           "y": [
            3
           ],
           "yaxis": "y"
          },
          {
           "hovertemplate": "<b>%{hovertext}</b><br><br>hometeam=Titans<br>season=%{x}<br>winner_home=%{marker.size}<extra></extra>",
           "hovertext": [
            "Titans"
           ],
           "ids": [
            "Titans"
           ],
           "legendgroup": "Titans",
           "marker": {
            "color": "#FECB52",
            "size": [
             6
            ],
            "sizemode": "area",
            "sizeref": 0.002644628099173554,
            "symbol": "circle"
           },
           "mode": "markers",
           "name": "Titans",
           "orientation": "v",
           "showlegend": true,
           "type": "scatter",
           "x": [
            2017
           ],
           "xaxis": "x",
           "y": [
            6
           ],
           "yaxis": "y"
          },
          {
           "hovertemplate": "<b>%{hovertext}</b><br><br>hometeam=Vikings<br>season=%{x}<br>winner_home=%{marker.size}<extra></extra>",
           "hovertext": [
            "Vikings"
           ],
           "ids": [
            "Vikings"
           ],
           "legendgroup": "Vikings",
           "marker": {
            "color": "#636efa",
            "size": [
             6
            ],
            "sizemode": "area",
            "sizeref": 0.002644628099173554,
            "symbol": "circle"
           },
           "mode": "markers",
           "name": "Vikings",
           "orientation": "v",
           "showlegend": true,
           "type": "scatter",
           "x": [
            2017
           ],
           "xaxis": "x",
           "y": [
            6
           ],
           "yaxis": "y"
          },
          {
           "hovertemplate": "<b>%{hovertext}</b><br><br>hometeam=Washington<br>season=%{x}<br>winner_home=%{marker.size}<extra></extra>",
           "hovertext": [
            "Washington"
           ],
           "ids": [
            "Washington"
           ],
           "legendgroup": "Washington",
           "marker": {
            "color": "#EF553B",
            "size": [
             5
            ],
            "sizemode": "area",
            "sizeref": 0.002644628099173554,
            "symbol": "circle"
           },
           "mode": "markers",
           "name": "Washington",
           "orientation": "v",
           "showlegend": true,
           "type": "scatter",
           "x": [
            2017
           ],
           "xaxis": "x",
           "y": [
            5
           ],
           "yaxis": "y"
          }
         ],
         "name": "2017"
        },
        {
         "data": [
          {
           "hovertemplate": "<b>%{hovertext}</b><br><br>hometeam=49ers<br>season=%{x}<br>winner_home=%{marker.size}<extra></extra>",
           "hovertext": [
            "49ers"
           ],
           "ids": [
            "49ers"
           ],
           "legendgroup": "49ers",
           "marker": {
            "color": "#636efa",
            "size": [
             4
            ],
            "sizemode": "area",
            "sizeref": 0.002644628099173554,
            "symbol": "circle"
           },
           "mode": "markers",
           "name": "49ers",
           "orientation": "v",
           "showlegend": true,
           "type": "scatter",
           "x": [
            2018
           ],
           "xaxis": "x",
           "y": [
            4
           ],
           "yaxis": "y"
          },
          {
           "hovertemplate": "<b>%{hovertext}</b><br><br>hometeam=Bears<br>season=%{x}<br>winner_home=%{marker.size}<extra></extra>",
           "hovertext": [
            "Bears"
           ],
           "ids": [
            "Bears"
           ],
           "legendgroup": "Bears",
           "marker": {
            "color": "#EF553B",
            "size": [
             7
            ],
            "sizemode": "area",
            "sizeref": 0.002644628099173554,
            "symbol": "circle"
           },
           "mode": "markers",
           "name": "Bears",
           "orientation": "v",
           "showlegend": true,
           "type": "scatter",
           "x": [
            2018
           ],
           "xaxis": "x",
           "y": [
            7
           ],
           "yaxis": "y"
          },
          {
           "hovertemplate": "<b>%{hovertext}</b><br><br>hometeam=Bengals<br>season=%{x}<br>winner_home=%{marker.size}<extra></extra>",
           "hovertext": [
            "Bengals"
           ],
           "ids": [
            "Bengals"
           ],
           "legendgroup": "Bengals",
           "marker": {
            "color": "#00cc96",
            "size": [
             4
            ],
            "sizemode": "area",
            "sizeref": 0.002644628099173554,
            "symbol": "circle"
           },
           "mode": "markers",
           "name": "Bengals",
           "orientation": "v",
           "showlegend": true,
           "type": "scatter",
           "x": [
            2018
           ],
           "xaxis": "x",
           "y": [
            4
           ],
           "yaxis": "y"
          },
          {
           "hovertemplate": "<b>%{hovertext}</b><br><br>hometeam=Bills<br>season=%{x}<br>winner_home=%{marker.size}<extra></extra>",
           "hovertext": [
            "Bills"
           ],
           "ids": [
            "Bills"
           ],
           "legendgroup": "Bills",
           "marker": {
            "color": "#ab63fa",
            "size": [
             4
            ],
            "sizemode": "area",
            "sizeref": 0.002644628099173554,
            "symbol": "circle"
           },
           "mode": "markers",
           "name": "Bills",
           "orientation": "v",
           "showlegend": true,
           "type": "scatter",
           "x": [
            2018
           ],
           "xaxis": "x",
           "y": [
            4
           ],
           "yaxis": "y"
          },
          {
           "hovertemplate": "<b>%{hovertext}</b><br><br>hometeam=Broncos<br>season=%{x}<br>winner_home=%{marker.size}<extra></extra>",
           "hovertext": [
            "Broncos"
           ],
           "ids": [
            "Broncos"
           ],
           "legendgroup": "Broncos",
           "marker": {
            "color": "#FFA15A",
            "size": [
             3
            ],
            "sizemode": "area",
            "sizeref": 0.002644628099173554,
            "symbol": "circle"
           },
           "mode": "markers",
           "name": "Broncos",
           "orientation": "v",
           "showlegend": true,
           "type": "scatter",
           "x": [
            2018
           ],
           "xaxis": "x",
           "y": [
            3
           ],
           "yaxis": "y"
          },
          {
           "hovertemplate": "<b>%{hovertext}</b><br><br>hometeam=Browns<br>season=%{x}<br>winner_home=%{marker.size}<extra></extra>",
           "hovertext": [
            "Browns"
           ],
           "ids": [
            "Browns"
           ],
           "legendgroup": "Browns",
           "marker": {
            "color": "#19d3f3",
            "size": [
             5
            ],
            "sizemode": "area",
            "sizeref": 0.002644628099173554,
            "symbol": "circle"
           },
           "mode": "markers",
           "name": "Browns",
           "orientation": "v",
           "showlegend": true,
           "type": "scatter",
           "x": [
            2018
           ],
           "xaxis": "x",
           "y": [
            5
           ],
           "yaxis": "y"
          },
          {
           "hovertemplate": "<b>%{hovertext}</b><br><br>hometeam=Buccaneers<br>season=%{x}<br>winner_home=%{marker.size}<extra></extra>",
           "hovertext": [
            "Buccaneers"
           ],
           "ids": [
            "Buccaneers"
           ],
           "legendgroup": "Buccaneers",
           "marker": {
            "color": "#FF6692",
            "size": [
             4
            ],
            "sizemode": "area",
            "sizeref": 0.002644628099173554,
            "symbol": "circle"
           },
           "mode": "markers",
           "name": "Buccaneers",
           "orientation": "v",
           "showlegend": true,
           "type": "scatter",
           "x": [
            2018
           ],
           "xaxis": "x",
           "y": [
            4
           ],
           "yaxis": "y"
          },
          {
           "hovertemplate": "<b>%{hovertext}</b><br><br>hometeam=Cardinals<br>season=%{x}<br>winner_home=%{marker.size}<extra></extra>",
           "hovertext": [
            "Cardinals"
           ],
           "ids": [
            "Cardinals"
           ],
           "legendgroup": "Cardinals",
           "marker": {
            "color": "#B6E880",
            "size": [
             1
            ],
            "sizemode": "area",
            "sizeref": 0.002644628099173554,
            "symbol": "circle"
           },
           "mode": "markers",
           "name": "Cardinals",
           "orientation": "v",
           "showlegend": true,
           "type": "scatter",
           "x": [
            2018
           ],
           "xaxis": "x",
           "y": [
            1
           ],
           "yaxis": "y"
          },
          {
           "hovertemplate": "<b>%{hovertext}</b><br><br>hometeam=Chargers<br>season=%{x}<br>winner_home=%{marker.size}<extra></extra>",
           "hovertext": [
            "Chargers"
           ],
           "ids": [
            "Chargers"
           ],
           "legendgroup": "Chargers",
           "marker": {
            "color": "#FF97FF",
            "size": [
             5
            ],
            "sizemode": "area",
            "sizeref": 0.002644628099173554,
            "symbol": "circle"
           },
           "mode": "markers",
           "name": "Chargers",
           "orientation": "v",
           "showlegend": true,
           "type": "scatter",
           "x": [
            2018
           ],
           "xaxis": "x",
           "y": [
            5
           ],
           "yaxis": "y"
          },
          {
           "hovertemplate": "<b>%{hovertext}</b><br><br>hometeam=Chiefs<br>season=%{x}<br>winner_home=%{marker.size}<extra></extra>",
           "hovertext": [
            "Chiefs"
           ],
           "ids": [
            "Chiefs"
           ],
           "legendgroup": "Chiefs",
           "marker": {
            "color": "#FECB52",
            "size": [
             7
            ],
            "sizemode": "area",
            "sizeref": 0.002644628099173554,
            "symbol": "circle"
           },
           "mode": "markers",
           "name": "Chiefs",
           "orientation": "v",
           "showlegend": true,
           "type": "scatter",
           "x": [
            2018
           ],
           "xaxis": "x",
           "y": [
            7
           ],
           "yaxis": "y"
          },
          {
           "hovertemplate": "<b>%{hovertext}</b><br><br>hometeam=Colts<br>season=%{x}<br>winner_home=%{marker.size}<extra></extra>",
           "hovertext": [
            "Colts"
           ],
           "ids": [
            "Colts"
           ],
           "legendgroup": "Colts",
           "marker": {
            "color": "#636efa",
            "size": [
             6
            ],
            "sizemode": "area",
            "sizeref": 0.002644628099173554,
            "symbol": "circle"
           },
           "mode": "markers",
           "name": "Colts",
           "orientation": "v",
           "showlegend": true,
           "type": "scatter",
           "x": [
            2018
           ],
           "xaxis": "x",
           "y": [
            6
           ],
           "yaxis": "y"
          },
          {
           "hovertemplate": "<b>%{hovertext}</b><br><br>hometeam=Cowboys<br>season=%{x}<br>winner_home=%{marker.size}<extra></extra>",
           "hovertext": [
            "Cowboys"
           ],
           "ids": [
            "Cowboys"
           ],
           "legendgroup": "Cowboys",
           "marker": {
            "color": "#EF553B",
            "size": [
             7
            ],
            "sizemode": "area",
            "sizeref": 0.002644628099173554,
            "symbol": "circle"
           },
           "mode": "markers",
           "name": "Cowboys",
           "orientation": "v",
           "showlegend": true,
           "type": "scatter",
           "x": [
            2018
           ],
           "xaxis": "x",
           "y": [
            7
           ],
           "yaxis": "y"
          },
          {
           "hovertemplate": "<b>%{hovertext}</b><br><br>hometeam=Dolphins<br>season=%{x}<br>winner_home=%{marker.size}<extra></extra>",
           "hovertext": [
            "Dolphins"
           ],
           "ids": [
            "Dolphins"
           ],
           "legendgroup": "Dolphins",
           "marker": {
            "color": "#00cc96",
            "size": [
             6
            ],
            "sizemode": "area",
            "sizeref": 0.002644628099173554,
            "symbol": "circle"
           },
           "mode": "markers",
           "name": "Dolphins",
           "orientation": "v",
           "showlegend": true,
           "type": "scatter",
           "x": [
            2018
           ],
           "xaxis": "x",
           "y": [
            6
           ],
           "yaxis": "y"
          },
          {
           "hovertemplate": "<b>%{hovertext}</b><br><br>hometeam=Eagles<br>season=%{x}<br>winner_home=%{marker.size}<extra></extra>",
           "hovertext": [
            "Eagles"
           ],
           "ids": [
            "Eagles"
           ],
           "legendgroup": "Eagles",
           "marker": {
            "color": "#ab63fa",
            "size": [
             5
            ],
            "sizemode": "area",
            "sizeref": 0.002644628099173554,
            "symbol": "circle"
           },
           "mode": "markers",
           "name": "Eagles",
           "orientation": "v",
           "showlegend": true,
           "type": "scatter",
           "x": [
            2018
           ],
           "xaxis": "x",
           "y": [
            5
           ],
           "yaxis": "y"
          },
          {
           "hovertemplate": "<b>%{hovertext}</b><br><br>hometeam=Falcons<br>season=%{x}<br>winner_home=%{marker.size}<extra></extra>",
           "hovertext": [
            "Falcons"
           ],
           "ids": [
            "Falcons"
           ],
           "legendgroup": "Falcons",
           "marker": {
            "color": "#FFA15A",
            "size": [
             4
            ],
            "sizemode": "area",
            "sizeref": 0.002644628099173554,
            "symbol": "circle"
           },
           "mode": "markers",
           "name": "Falcons",
           "orientation": "v",
           "showlegend": true,
           "type": "scatter",
           "x": [
            2018
           ],
           "xaxis": "x",
           "y": [
            4
           ],
           "yaxis": "y"
          },
          {
           "hovertemplate": "<b>%{hovertext}</b><br><br>hometeam=Giants<br>season=%{x}<br>winner_home=%{marker.size}<extra></extra>",
           "hovertext": [
            "Giants"
           ],
           "ids": [
            "Giants"
           ],
           "legendgroup": "Giants",
           "marker": {
            "color": "#19d3f3",
            "size": [
             2
            ],
            "sizemode": "area",
            "sizeref": 0.002644628099173554,
            "symbol": "circle"
           },
           "mode": "markers",
           "name": "Giants",
           "orientation": "v",
           "showlegend": true,
           "type": "scatter",
           "x": [
            2018
           ],
           "xaxis": "x",
           "y": [
            2
           ],
           "yaxis": "y"
          },
          {
           "hovertemplate": "<b>%{hovertext}</b><br><br>hometeam=Jaguars<br>season=%{x}<br>winner_home=%{marker.size}<extra></extra>",
           "hovertext": [
            "Jaguars"
           ],
           "ids": [
            "Jaguars"
           ],
           "legendgroup": "Jaguars",
           "marker": {
            "color": "#FF6692",
            "size": [
             3
            ],
            "sizemode": "area",
            "sizeref": 0.002644628099173554,
            "symbol": "circle"
           },
           "mode": "markers",
           "name": "Jaguars",
           "orientation": "v",
           "showlegend": true,
           "type": "scatter",
           "x": [
            2018
           ],
           "xaxis": "x",
           "y": [
            3
           ],
           "yaxis": "y"
          },
          {
           "hovertemplate": "<b>%{hovertext}</b><br><br>hometeam=Jets<br>season=%{x}<br>winner_home=%{marker.size}<extra></extra>",
           "hovertext": [
            "Jets"
           ],
           "ids": [
            "Jets"
           ],
           "legendgroup": "Jets",
           "marker": {
            "color": "#B6E880",
            "size": [
             2
            ],
            "sizemode": "area",
            "sizeref": 0.002644628099173554,
            "symbol": "circle"
           },
           "mode": "markers",
           "name": "Jets",
           "orientation": "v",
           "showlegend": true,
           "type": "scatter",
           "x": [
            2018
           ],
           "xaxis": "x",
           "y": [
            2
           ],
           "yaxis": "y"
          },
          {
           "hovertemplate": "<b>%{hovertext}</b><br><br>hometeam=Lions<br>season=%{x}<br>winner_home=%{marker.size}<extra></extra>",
           "hovertext": [
            "Lions"
           ],
           "ids": [
            "Lions"
           ],
           "legendgroup": "Lions",
           "marker": {
            "color": "#FF97FF",
            "size": [
             3
            ],
            "sizemode": "area",
            "sizeref": 0.002644628099173554,
            "symbol": "circle"
           },
           "mode": "markers",
           "name": "Lions",
           "orientation": "v",
           "showlegend": true,
           "type": "scatter",
           "x": [
            2018
           ],
           "xaxis": "x",
           "y": [
            3
           ],
           "yaxis": "y"
          },
          {
           "hovertemplate": "<b>%{hovertext}</b><br><br>hometeam=Packers<br>season=%{x}<br>winner_home=%{marker.size}<extra></extra>",
           "hovertext": [
            "Packers"
           ],
           "ids": [
            "Packers"
           ],
           "legendgroup": "Packers",
           "marker": {
            "color": "#FECB52",
            "size": [
             5
            ],
            "sizemode": "area",
            "sizeref": 0.002644628099173554,
            "symbol": "circle"
           },
           "mode": "markers",
           "name": "Packers",
           "orientation": "v",
           "showlegend": true,
           "type": "scatter",
           "x": [
            2018
           ],
           "xaxis": "x",
           "y": [
            5
           ],
           "yaxis": "y"
          },
          {
           "hovertemplate": "<b>%{hovertext}</b><br><br>hometeam=Panthers<br>season=%{x}<br>winner_home=%{marker.size}<extra></extra>",
           "hovertext": [
            "Panthers"
           ],
           "ids": [
            "Panthers"
           ],
           "legendgroup": "Panthers",
           "marker": {
            "color": "#636efa",
            "size": [
             5
            ],
            "sizemode": "area",
            "sizeref": 0.002644628099173554,
            "symbol": "circle"
           },
           "mode": "markers",
           "name": "Panthers",
           "orientation": "v",
           "showlegend": true,
           "type": "scatter",
           "x": [
            2018
           ],
           "xaxis": "x",
           "y": [
            5
           ],
           "yaxis": "y"
          },
          {
           "hovertemplate": "<b>%{hovertext}</b><br><br>hometeam=Patriots<br>season=%{x}<br>winner_home=%{marker.size}<extra></extra>",
           "hovertext": [
            "Patriots"
           ],
           "ids": [
            "Patriots"
           ],
           "legendgroup": "Patriots",
           "marker": {
            "color": "#EF553B",
            "size": [
             8
            ],
            "sizemode": "area",
            "sizeref": 0.002644628099173554,
            "symbol": "circle"
           },
           "mode": "markers",
           "name": "Patriots",
           "orientation": "v",
           "showlegend": true,
           "type": "scatter",
           "x": [
            2018
           ],
           "xaxis": "x",
           "y": [
            8
           ],
           "yaxis": "y"
          },
          {
           "hovertemplate": "<b>%{hovertext}</b><br><br>hometeam=Raiders<br>season=%{x}<br>winner_home=%{marker.size}<extra></extra>",
           "hovertext": [
            "Raiders"
           ],
           "ids": [
            "Raiders"
           ],
           "legendgroup": "Raiders",
           "marker": {
            "color": "#00cc96",
            "size": [
             3
            ],
            "sizemode": "area",
            "sizeref": 0.002644628099173554,
            "symbol": "circle"
           },
           "mode": "markers",
           "name": "Raiders",
           "orientation": "v",
           "showlegend": true,
           "type": "scatter",
           "x": [
            2018
           ],
           "xaxis": "x",
           "y": [
            3
           ],
           "yaxis": "y"
          },
          {
           "hovertemplate": "<b>%{hovertext}</b><br><br>hometeam=Rams<br>season=%{x}<br>winner_home=%{marker.size}<extra></extra>",
           "hovertext": [
            "Rams"
           ],
           "ids": [
            "Rams"
           ],
           "legendgroup": "Rams",
           "marker": {
            "color": "#ab63fa",
            "size": [
             7
            ],
            "sizemode": "area",
            "sizeref": 0.002644628099173554,
            "symbol": "circle"
           },
           "mode": "markers",
           "name": "Rams",
           "orientation": "v",
           "showlegend": true,
           "type": "scatter",
           "x": [
            2018
           ],
           "xaxis": "x",
           "y": [
            7
           ],
           "yaxis": "y"
          },
          {
           "hovertemplate": "<b>%{hovertext}</b><br><br>hometeam=Ravens<br>season=%{x}<br>winner_home=%{marker.size}<extra></extra>",
           "hovertext": [
            "Ravens"
           ],
           "ids": [
            "Ravens"
           ],
           "legendgroup": "Ravens",
           "marker": {
            "color": "#FFA15A",
            "size": [
             6
            ],
            "sizemode": "area",
            "sizeref": 0.002644628099173554,
            "symbol": "circle"
           },
           "mode": "markers",
           "name": "Ravens",
           "orientation": "v",
           "showlegend": true,
           "type": "scatter",
           "x": [
            2018
           ],
           "xaxis": "x",
           "y": [
            6
           ],
           "yaxis": "y"
          },
          {
           "hovertemplate": "<b>%{hovertext}</b><br><br>hometeam=Saints<br>season=%{x}<br>winner_home=%{marker.size}<extra></extra>",
           "hovertext": [
            "Saints"
           ],
           "ids": [
            "Saints"
           ],
           "legendgroup": "Saints",
           "marker": {
            "color": "#19d3f3",
            "size": [
             6
            ],
            "sizemode": "area",
            "sizeref": 0.002644628099173554,
            "symbol": "circle"
           },
           "mode": "markers",
           "name": "Saints",
           "orientation": "v",
           "showlegend": true,
           "type": "scatter",
           "x": [
            2018
           ],
           "xaxis": "x",
           "y": [
            6
           ],
           "yaxis": "y"
          },
          {
           "hovertemplate": "<b>%{hovertext}</b><br><br>hometeam=Seahawks<br>season=%{x}<br>winner_home=%{marker.size}<extra></extra>",
           "hovertext": [
            "Seahawks"
           ],
           "ids": [
            "Seahawks"
           ],
           "legendgroup": "Seahawks",
           "marker": {
            "color": "#FF6692",
            "size": [
             6
            ],
            "sizemode": "area",
            "sizeref": 0.002644628099173554,
            "symbol": "circle"
           },
           "mode": "markers",
           "name": "Seahawks",
           "orientation": "v",
           "showlegend": true,
           "type": "scatter",
           "x": [
            2018
           ],
           "xaxis": "x",
           "y": [
            6
           ],
           "yaxis": "y"
          },
          {
           "hovertemplate": "<b>%{hovertext}</b><br><br>hometeam=Steelers<br>season=%{x}<br>winner_home=%{marker.size}<extra></extra>",
           "hovertext": [
            "Steelers"
           ],
           "ids": [
            "Steelers"
           ],
           "legendgroup": "Steelers",
           "marker": {
            "color": "#B6E880",
            "size": [
             5
            ],
            "sizemode": "area",
            "sizeref": 0.002644628099173554,
            "symbol": "circle"
           },
           "mode": "markers",
           "name": "Steelers",
           "orientation": "v",
           "showlegend": true,
           "type": "scatter",
           "x": [
            2018
           ],
           "xaxis": "x",
           "y": [
            5
           ],
           "yaxis": "y"
          },
          {
           "hovertemplate": "<b>%{hovertext}</b><br><br>hometeam=Texans<br>season=%{x}<br>winner_home=%{marker.size}<extra></extra>",
           "hovertext": [
            "Texans"
           ],
           "ids": [
            "Texans"
           ],
           "legendgroup": "Texans",
           "marker": {
            "color": "#FF97FF",
            "size": [
             6
            ],
            "sizemode": "area",
            "sizeref": 0.002644628099173554,
            "symbol": "circle"
           },
           "mode": "markers",
           "name": "Texans",
           "orientation": "v",
           "showlegend": true,
           "type": "scatter",
           "x": [
            2018
           ],
           "xaxis": "x",
           "y": [
            6
           ],
           "yaxis": "y"
          },
          {
           "hovertemplate": "<b>%{hovertext}</b><br><br>hometeam=Titans<br>season=%{x}<br>winner_home=%{marker.size}<extra></extra>",
           "hovertext": [
            "Titans"
           ],
           "ids": [
            "Titans"
           ],
           "legendgroup": "Titans",
           "marker": {
            "color": "#FECB52",
            "size": [
             6
            ],
            "sizemode": "area",
            "sizeref": 0.002644628099173554,
            "symbol": "circle"
           },
           "mode": "markers",
           "name": "Titans",
           "orientation": "v",
           "showlegend": true,
           "type": "scatter",
           "x": [
            2018
           ],
           "xaxis": "x",
           "y": [
            6
           ],
           "yaxis": "y"
          },
          {
           "hovertemplate": "<b>%{hovertext}</b><br><br>hometeam=Vikings<br>season=%{x}<br>winner_home=%{marker.size}<extra></extra>",
           "hovertext": [
            "Vikings"
           ],
           "ids": [
            "Vikings"
           ],
           "legendgroup": "Vikings",
           "marker": {
            "color": "#636efa",
            "size": [
             5
            ],
            "sizemode": "area",
            "sizeref": 0.002644628099173554,
            "symbol": "circle"
           },
           "mode": "markers",
           "name": "Vikings",
           "orientation": "v",
           "showlegend": true,
           "type": "scatter",
           "x": [
            2018
           ],
           "xaxis": "x",
           "y": [
            5
           ],
           "yaxis": "y"
          },
          {
           "hovertemplate": "<b>%{hovertext}</b><br><br>hometeam=Washington<br>season=%{x}<br>winner_home=%{marker.size}<extra></extra>",
           "hovertext": [
            "Washington"
           ],
           "ids": [
            "Washington"
           ],
           "legendgroup": "Washington",
           "marker": {
            "color": "#EF553B",
            "size": [
             3
            ],
            "sizemode": "area",
            "sizeref": 0.002644628099173554,
            "symbol": "circle"
           },
           "mode": "markers",
           "name": "Washington",
           "orientation": "v",
           "showlegend": true,
           "type": "scatter",
           "x": [
            2018
           ],
           "xaxis": "x",
           "y": [
            3
           ],
           "yaxis": "y"
          }
         ],
         "name": "2018"
        },
        {
         "data": [
          {
           "hovertemplate": "<b>%{hovertext}</b><br><br>hometeam=49ers<br>season=%{x}<br>winner_home=%{marker.size}<extra></extra>",
           "hovertext": [
            "49ers"
           ],
           "ids": [
            "49ers"
           ],
           "legendgroup": "49ers",
           "marker": {
            "color": "#636efa",
            "size": [
             6
            ],
            "sizemode": "area",
            "sizeref": 0.002644628099173554,
            "symbol": "circle"
           },
           "mode": "markers",
           "name": "49ers",
           "orientation": "v",
           "showlegend": true,
           "type": "scatter",
           "x": [
            2019
           ],
           "xaxis": "x",
           "y": [
            6
           ],
           "yaxis": "y"
          },
          {
           "hovertemplate": "<b>%{hovertext}</b><br><br>hometeam=Bears<br>season=%{x}<br>winner_home=%{marker.size}<extra></extra>",
           "hovertext": [
            "Bears"
           ],
           "ids": [
            "Bears"
           ],
           "legendgroup": "Bears",
           "marker": {
            "color": "#EF553B",
            "size": [
             4
            ],
            "sizemode": "area",
            "sizeref": 0.002644628099173554,
            "symbol": "circle"
           },
           "mode": "markers",
           "name": "Bears",
           "orientation": "v",
           "showlegend": true,
           "type": "scatter",
           "x": [
            2019
           ],
           "xaxis": "x",
           "y": [
            4
           ],
           "yaxis": "y"
          },
          {
           "hovertemplate": "<b>%{hovertext}</b><br><br>hometeam=Bengals<br>season=%{x}<br>winner_home=%{marker.size}<extra></extra>",
           "hovertext": [
            "Bengals"
           ],
           "ids": [
            "Bengals"
           ],
           "legendgroup": "Bengals",
           "marker": {
            "color": "#00cc96",
            "size": [
             2
            ],
            "sizemode": "area",
            "sizeref": 0.002644628099173554,
            "symbol": "circle"
           },
           "mode": "markers",
           "name": "Bengals",
           "orientation": "v",
           "showlegend": true,
           "type": "scatter",
           "x": [
            2019
           ],
           "xaxis": "x",
           "y": [
            2
           ],
           "yaxis": "y"
          },
          {
           "hovertemplate": "<b>%{hovertext}</b><br><br>hometeam=Bills<br>season=%{x}<br>winner_home=%{marker.size}<extra></extra>",
           "hovertext": [
            "Bills"
           ],
           "ids": [
            "Bills"
           ],
           "legendgroup": "Bills",
           "marker": {
            "color": "#ab63fa",
            "size": [
             4
            ],
            "sizemode": "area",
            "sizeref": 0.002644628099173554,
            "symbol": "circle"
           },
           "mode": "markers",
           "name": "Bills",
           "orientation": "v",
           "showlegend": true,
           "type": "scatter",
           "x": [
            2019
           ],
           "xaxis": "x",
           "y": [
            4
           ],
           "yaxis": "y"
          },
          {
           "hovertemplate": "<b>%{hovertext}</b><br><br>hometeam=Broncos<br>season=%{x}<br>winner_home=%{marker.size}<extra></extra>",
           "hovertext": [
            "Broncos"
           ],
           "ids": [
            "Broncos"
           ],
           "legendgroup": "Broncos",
           "marker": {
            "color": "#FFA15A",
            "size": [
             5
            ],
            "sizemode": "area",
            "sizeref": 0.002644628099173554,
            "symbol": "circle"
           },
           "mode": "markers",
           "name": "Broncos",
           "orientation": "v",
           "showlegend": true,
           "type": "scatter",
           "x": [
            2019
           ],
           "xaxis": "x",
           "y": [
            5
           ],
           "yaxis": "y"
          },
          {
           "hovertemplate": "<b>%{hovertext}</b><br><br>hometeam=Browns<br>season=%{x}<br>winner_home=%{marker.size}<extra></extra>",
           "hovertext": [
            "Browns"
           ],
           "ids": [
            "Browns"
           ],
           "legendgroup": "Browns",
           "marker": {
            "color": "#19d3f3",
            "size": [
             4
            ],
            "sizemode": "area",
            "sizeref": 0.002644628099173554,
            "symbol": "circle"
           },
           "mode": "markers",
           "name": "Browns",
           "orientation": "v",
           "showlegend": true,
           "type": "scatter",
           "x": [
            2019
           ],
           "xaxis": "x",
           "y": [
            4
           ],
           "yaxis": "y"
          },
          {
           "hovertemplate": "<b>%{hovertext}</b><br><br>hometeam=Buccaneers<br>season=%{x}<br>winner_home=%{marker.size}<extra></extra>",
           "hovertext": [
            "Buccaneers"
           ],
           "ids": [
            "Buccaneers"
           ],
           "legendgroup": "Buccaneers",
           "marker": {
            "color": "#FF6692",
            "size": [
             2
            ],
            "sizemode": "area",
            "sizeref": 0.002644628099173554,
            "symbol": "circle"
           },
           "mode": "markers",
           "name": "Buccaneers",
           "orientation": "v",
           "showlegend": true,
           "type": "scatter",
           "x": [
            2019
           ],
           "xaxis": "x",
           "y": [
            2
           ],
           "yaxis": "y"
          },
          {
           "hovertemplate": "<b>%{hovertext}</b><br><br>hometeam=Cardinals<br>season=%{x}<br>winner_home=%{marker.size}<extra></extra>",
           "hovertext": [
            "Cardinals"
           ],
           "ids": [
            "Cardinals"
           ],
           "legendgroup": "Cardinals",
           "marker": {
            "color": "#B6E880",
            "size": [
             2
            ],
            "sizemode": "area",
            "sizeref": 0.002644628099173554,
            "symbol": "circle"
           },
           "mode": "markers",
           "name": "Cardinals",
           "orientation": "v",
           "showlegend": true,
           "type": "scatter",
           "x": [
            2019
           ],
           "xaxis": "x",
           "y": [
            2
           ],
           "yaxis": "y"
          },
          {
           "hovertemplate": "<b>%{hovertext}</b><br><br>hometeam=Chargers<br>season=%{x}<br>winner_home=%{marker.size}<extra></extra>",
           "hovertext": [
            "Chargers"
           ],
           "ids": [
            "Chargers"
           ],
           "legendgroup": "Chargers",
           "marker": {
            "color": "#FF97FF",
            "size": [
             2
            ],
            "sizemode": "area",
            "sizeref": 0.002644628099173554,
            "symbol": "circle"
           },
           "mode": "markers",
           "name": "Chargers",
           "orientation": "v",
           "showlegend": true,
           "type": "scatter",
           "x": [
            2019
           ],
           "xaxis": "x",
           "y": [
            2
           ],
           "yaxis": "y"
          },
          {
           "hovertemplate": "<b>%{hovertext}</b><br><br>hometeam=Chiefs<br>season=%{x}<br>winner_home=%{marker.size}<extra></extra>",
           "hovertext": [
            "Chiefs"
           ],
           "ids": [
            "Chiefs"
           ],
           "legendgroup": "Chiefs",
           "marker": {
            "color": "#FECB52",
            "size": [
             5
            ],
            "sizemode": "area",
            "sizeref": 0.002644628099173554,
            "symbol": "circle"
           },
           "mode": "markers",
           "name": "Chiefs",
           "orientation": "v",
           "showlegend": true,
           "type": "scatter",
           "x": [
            2019
           ],
           "xaxis": "x",
           "y": [
            5
           ],
           "yaxis": "y"
          },
          {
           "hovertemplate": "<b>%{hovertext}</b><br><br>hometeam=Colts<br>season=%{x}<br>winner_home=%{marker.size}<extra></extra>",
           "hovertext": [
            "Colts"
           ],
           "ids": [
            "Colts"
           ],
           "legendgroup": "Colts",
           "marker": {
            "color": "#636efa",
            "size": [
             5
            ],
            "sizemode": "area",
            "sizeref": 0.002644628099173554,
            "symbol": "circle"
           },
           "mode": "markers",
           "name": "Colts",
           "orientation": "v",
           "showlegend": true,
           "type": "scatter",
           "x": [
            2019
           ],
           "xaxis": "x",
           "y": [
            5
           ],
           "yaxis": "y"
          },
          {
           "hovertemplate": "<b>%{hovertext}</b><br><br>hometeam=Cowboys<br>season=%{x}<br>winner_home=%{marker.size}<extra></extra>",
           "hovertext": [
            "Cowboys"
           ],
           "ids": [
            "Cowboys"
           ],
           "legendgroup": "Cowboys",
           "marker": {
            "color": "#EF553B",
            "size": [
             5
            ],
            "sizemode": "area",
            "sizeref": 0.002644628099173554,
            "symbol": "circle"
           },
           "mode": "markers",
           "name": "Cowboys",
           "orientation": "v",
           "showlegend": true,
           "type": "scatter",
           "x": [
            2019
           ],
           "xaxis": "x",
           "y": [
            5
           ],
           "yaxis": "y"
          },
          {
           "hovertemplate": "<b>%{hovertext}</b><br><br>hometeam=Dolphins<br>season=%{x}<br>winner_home=%{marker.size}<extra></extra>",
           "hovertext": [
            "Dolphins"
           ],
           "ids": [
            "Dolphins"
           ],
           "legendgroup": "Dolphins",
           "marker": {
            "color": "#00cc96",
            "size": [
             3
            ],
            "sizemode": "area",
            "sizeref": 0.002644628099173554,
            "symbol": "circle"
           },
           "mode": "markers",
           "name": "Dolphins",
           "orientation": "v",
           "showlegend": true,
           "type": "scatter",
           "x": [
            2019
           ],
           "xaxis": "x",
           "y": [
            3
           ],
           "yaxis": "y"
          },
          {
           "hovertemplate": "<b>%{hovertext}</b><br><br>hometeam=Eagles<br>season=%{x}<br>winner_home=%{marker.size}<extra></extra>",
           "hovertext": [
            "Eagles"
           ],
           "ids": [
            "Eagles"
           ],
           "legendgroup": "Eagles",
           "marker": {
            "color": "#ab63fa",
            "size": [
             5
            ],
            "sizemode": "area",
            "sizeref": 0.002644628099173554,
            "symbol": "circle"
           },
           "mode": "markers",
           "name": "Eagles",
           "orientation": "v",
           "showlegend": true,
           "type": "scatter",
           "x": [
            2019
           ],
           "xaxis": "x",
           "y": [
            5
           ],
           "yaxis": "y"
          },
          {
           "hovertemplate": "<b>%{hovertext}</b><br><br>hometeam=Falcons<br>season=%{x}<br>winner_home=%{marker.size}<extra></extra>",
           "hovertext": [
            "Falcons"
           ],
           "ids": [
            "Falcons"
           ],
           "legendgroup": "Falcons",
           "marker": {
            "color": "#FFA15A",
            "size": [
             3
            ],
            "sizemode": "area",
            "sizeref": 0.002644628099173554,
            "symbol": "circle"
           },
           "mode": "markers",
           "name": "Falcons",
           "orientation": "v",
           "showlegend": true,
           "type": "scatter",
           "x": [
            2019
           ],
           "xaxis": "x",
           "y": [
            3
           ],
           "yaxis": "y"
          },
          {
           "hovertemplate": "<b>%{hovertext}</b><br><br>hometeam=Giants<br>season=%{x}<br>winner_home=%{marker.size}<extra></extra>",
           "hovertext": [
            "Giants"
           ],
           "ids": [
            "Giants"
           ],
           "legendgroup": "Giants",
           "marker": {
            "color": "#19d3f3",
            "size": [
             2
            ],
            "sizemode": "area",
            "sizeref": 0.002644628099173554,
            "symbol": "circle"
           },
           "mode": "markers",
           "name": "Giants",
           "orientation": "v",
           "showlegend": true,
           "type": "scatter",
           "x": [
            2019
           ],
           "xaxis": "x",
           "y": [
            2
           ],
           "yaxis": "y"
          },
          {
           "hovertemplate": "<b>%{hovertext}</b><br><br>hometeam=Jaguars<br>season=%{x}<br>winner_home=%{marker.size}<extra></extra>",
           "hovertext": [
            "Jaguars"
           ],
           "ids": [
            "Jaguars"
           ],
           "legendgroup": "Jaguars",
           "marker": {
            "color": "#FF6692",
            "size": [
             3
            ],
            "sizemode": "area",
            "sizeref": 0.002644628099173554,
            "symbol": "circle"
           },
           "mode": "markers",
           "name": "Jaguars",
           "orientation": "v",
           "showlegend": true,
           "type": "scatter",
           "x": [
            2019
           ],
           "xaxis": "x",
           "y": [
            3
           ],
           "yaxis": "y"
          },
          {
           "hovertemplate": "<b>%{hovertext}</b><br><br>hometeam=Jets<br>season=%{x}<br>winner_home=%{marker.size}<extra></extra>",
           "hovertext": [
            "Jets"
           ],
           "ids": [
            "Jets"
           ],
           "legendgroup": "Jets",
           "marker": {
            "color": "#B6E880",
            "size": [
             5
            ],
            "sizemode": "area",
            "sizeref": 0.002644628099173554,
            "symbol": "circle"
           },
           "mode": "markers",
           "name": "Jets",
           "orientation": "v",
           "showlegend": true,
           "type": "scatter",
           "x": [
            2019
           ],
           "xaxis": "x",
           "y": [
            5
           ],
           "yaxis": "y"
          },
          {
           "hovertemplate": "<b>%{hovertext}</b><br><br>hometeam=Lions<br>season=%{x}<br>winner_home=%{marker.size}<extra></extra>",
           "hovertext": [
            "Lions"
           ],
           "ids": [
            "Lions"
           ],
           "legendgroup": "Lions",
           "marker": {
            "color": "#FF97FF",
            "size": [
             2
            ],
            "sizemode": "area",
            "sizeref": 0.002644628099173554,
            "symbol": "circle"
           },
           "mode": "markers",
           "name": "Lions",
           "orientation": "v",
           "showlegend": true,
           "type": "scatter",
           "x": [
            2019
           ],
           "xaxis": "x",
           "y": [
            2
           ],
           "yaxis": "y"
          },
          {
           "hovertemplate": "<b>%{hovertext}</b><br><br>hometeam=Packers<br>season=%{x}<br>winner_home=%{marker.size}<extra></extra>",
           "hovertext": [
            "Packers"
           ],
           "ids": [
            "Packers"
           ],
           "legendgroup": "Packers",
           "marker": {
            "color": "#FECB52",
            "size": [
             7
            ],
            "sizemode": "area",
            "sizeref": 0.002644628099173554,
            "symbol": "circle"
           },
           "mode": "markers",
           "name": "Packers",
           "orientation": "v",
           "showlegend": true,
           "type": "scatter",
           "x": [
            2019
           ],
           "xaxis": "x",
           "y": [
            7
           ],
           "yaxis": "y"
          },
          {
           "hovertemplate": "<b>%{hovertext}</b><br><br>hometeam=Panthers<br>season=%{x}<br>winner_home=%{marker.size}<extra></extra>",
           "hovertext": [
            "Panthers"
           ],
           "ids": [
            "Panthers"
           ],
           "legendgroup": "Panthers",
           "marker": {
            "color": "#636efa",
            "size": [
             2
            ],
            "sizemode": "area",
            "sizeref": 0.002644628099173554,
            "symbol": "circle"
           },
           "mode": "markers",
           "name": "Panthers",
           "orientation": "v",
           "showlegend": true,
           "type": "scatter",
           "x": [
            2019
           ],
           "xaxis": "x",
           "y": [
            2
           ],
           "yaxis": "y"
          },
          {
           "hovertemplate": "<b>%{hovertext}</b><br><br>hometeam=Patriots<br>season=%{x}<br>winner_home=%{marker.size}<extra></extra>",
           "hovertext": [
            "Patriots"
           ],
           "ids": [
            "Patriots"
           ],
           "legendgroup": "Patriots",
           "marker": {
            "color": "#EF553B",
            "size": [
             6
            ],
            "sizemode": "area",
            "sizeref": 0.002644628099173554,
            "symbol": "circle"
           },
           "mode": "markers",
           "name": "Patriots",
           "orientation": "v",
           "showlegend": true,
           "type": "scatter",
           "x": [
            2019
           ],
           "xaxis": "x",
           "y": [
            6
           ],
           "yaxis": "y"
          },
          {
           "hovertemplate": "<b>%{hovertext}</b><br><br>hometeam=Raiders<br>season=%{x}<br>winner_home=%{marker.size}<extra></extra>",
           "hovertext": [
            "Raiders"
           ],
           "ids": [
            "Raiders"
           ],
           "legendgroup": "Raiders",
           "marker": {
            "color": "#00cc96",
            "size": [
             5
            ],
            "sizemode": "area",
            "sizeref": 0.002644628099173554,
            "symbol": "circle"
           },
           "mode": "markers",
           "name": "Raiders",
           "orientation": "v",
           "showlegend": true,
           "type": "scatter",
           "x": [
            2019
           ],
           "xaxis": "x",
           "y": [
            5
           ],
           "yaxis": "y"
          },
          {
           "hovertemplate": "<b>%{hovertext}</b><br><br>hometeam=Rams<br>season=%{x}<br>winner_home=%{marker.size}<extra></extra>",
           "hovertext": [
            "Rams"
           ],
           "ids": [
            "Rams"
           ],
           "legendgroup": "Rams",
           "marker": {
            "color": "#ab63fa",
            "size": [
             5
            ],
            "sizemode": "area",
            "sizeref": 0.002644628099173554,
            "symbol": "circle"
           },
           "mode": "markers",
           "name": "Rams",
           "orientation": "v",
           "showlegend": true,
           "type": "scatter",
           "x": [
            2019
           ],
           "xaxis": "x",
           "y": [
            5
           ],
           "yaxis": "y"
          },
          {
           "hovertemplate": "<b>%{hovertext}</b><br><br>hometeam=Ravens<br>season=%{x}<br>winner_home=%{marker.size}<extra></extra>",
           "hovertext": [
            "Ravens"
           ],
           "ids": [
            "Ravens"
           ],
           "legendgroup": "Ravens",
           "marker": {
            "color": "#FFA15A",
            "size": [
             7
            ],
            "sizemode": "area",
            "sizeref": 0.002644628099173554,
            "symbol": "circle"
           },
           "mode": "markers",
           "name": "Ravens",
           "orientation": "v",
           "showlegend": true,
           "type": "scatter",
           "x": [
            2019
           ],
           "xaxis": "x",
           "y": [
            7
           ],
           "yaxis": "y"
          },
          {
           "hovertemplate": "<b>%{hovertext}</b><br><br>hometeam=Saints<br>season=%{x}<br>winner_home=%{marker.size}<extra></extra>",
           "hovertext": [
            "Saints"
           ],
           "ids": [
            "Saints"
           ],
           "legendgroup": "Saints",
           "marker": {
            "color": "#19d3f3",
            "size": [
             6
            ],
            "sizemode": "area",
            "sizeref": 0.002644628099173554,
            "symbol": "circle"
           },
           "mode": "markers",
           "name": "Saints",
           "orientation": "v",
           "showlegend": true,
           "type": "scatter",
           "x": [
            2019
           ],
           "xaxis": "x",
           "y": [
            6
           ],
           "yaxis": "y"
          },
          {
           "hovertemplate": "<b>%{hovertext}</b><br><br>hometeam=Seahawks<br>season=%{x}<br>winner_home=%{marker.size}<extra></extra>",
           "hovertext": [
            "Seahawks"
           ],
           "ids": [
            "Seahawks"
           ],
           "legendgroup": "Seahawks",
           "marker": {
            "color": "#FF6692",
            "size": [
             4
            ],
            "sizemode": "area",
            "sizeref": 0.002644628099173554,
            "symbol": "circle"
           },
           "mode": "markers",
           "name": "Seahawks",
           "orientation": "v",
           "showlegend": true,
           "type": "scatter",
           "x": [
            2019
           ],
           "xaxis": "x",
           "y": [
            4
           ],
           "yaxis": "y"
          },
          {
           "hovertemplate": "<b>%{hovertext}</b><br><br>hometeam=Steelers<br>season=%{x}<br>winner_home=%{marker.size}<extra></extra>",
           "hovertext": [
            "Steelers"
           ],
           "ids": [
            "Steelers"
           ],
           "legendgroup": "Steelers",
           "marker": {
            "color": "#B6E880",
            "size": [
             5
            ],
            "sizemode": "area",
            "sizeref": 0.002644628099173554,
            "symbol": "circle"
           },
           "mode": "markers",
           "name": "Steelers",
           "orientation": "v",
           "showlegend": true,
           "type": "scatter",
           "x": [
            2019
           ],
           "xaxis": "x",
           "y": [
            5
           ],
           "yaxis": "y"
          },
          {
           "hovertemplate": "<b>%{hovertext}</b><br><br>hometeam=Texans<br>season=%{x}<br>winner_home=%{marker.size}<extra></extra>",
           "hovertext": [
            "Texans"
           ],
           "ids": [
            "Texans"
           ],
           "legendgroup": "Texans",
           "marker": {
            "color": "#FF97FF",
            "size": [
             5
            ],
            "sizemode": "area",
            "sizeref": 0.002644628099173554,
            "symbol": "circle"
           },
           "mode": "markers",
           "name": "Texans",
           "orientation": "v",
           "showlegend": true,
           "type": "scatter",
           "x": [
            2019
           ],
           "xaxis": "x",
           "y": [
            5
           ],
           "yaxis": "y"
          },
          {
           "hovertemplate": "<b>%{hovertext}</b><br><br>hometeam=Titans<br>season=%{x}<br>winner_home=%{marker.size}<extra></extra>",
           "hovertext": [
            "Titans"
           ],
           "ids": [
            "Titans"
           ],
           "legendgroup": "Titans",
           "marker": {
            "color": "#FECB52",
            "size": [
             4
            ],
            "sizemode": "area",
            "sizeref": 0.002644628099173554,
            "symbol": "circle"
           },
           "mode": "markers",
           "name": "Titans",
           "orientation": "v",
           "showlegend": true,
           "type": "scatter",
           "x": [
            2019
           ],
           "xaxis": "x",
           "y": [
            4
           ],
           "yaxis": "y"
          },
          {
           "hovertemplate": "<b>%{hovertext}</b><br><br>hometeam=Vikings<br>season=%{x}<br>winner_home=%{marker.size}<extra></extra>",
           "hovertext": [
            "Vikings"
           ],
           "ids": [
            "Vikings"
           ],
           "legendgroup": "Vikings",
           "marker": {
            "color": "#636efa",
            "size": [
             6
            ],
            "sizemode": "area",
            "sizeref": 0.002644628099173554,
            "symbol": "circle"
           },
           "mode": "markers",
           "name": "Vikings",
           "orientation": "v",
           "showlegend": true,
           "type": "scatter",
           "x": [
            2019
           ],
           "xaxis": "x",
           "y": [
            6
           ],
           "yaxis": "y"
          },
          {
           "hovertemplate": "<b>%{hovertext}</b><br><br>hometeam=Washington<br>season=%{x}<br>winner_home=%{marker.size}<extra></extra>",
           "hovertext": [
            "Washington"
           ],
           "ids": [
            "Washington"
           ],
           "legendgroup": "Washington",
           "marker": {
            "color": "#EF553B",
            "size": [
             1
            ],
            "sizemode": "area",
            "sizeref": 0.002644628099173554,
            "symbol": "circle"
           },
           "mode": "markers",
           "name": "Washington",
           "orientation": "v",
           "showlegend": true,
           "type": "scatter",
           "x": [
            2019
           ],
           "xaxis": "x",
           "y": [
            1
           ],
           "yaxis": "y"
          }
         ],
         "name": "2019"
        },
        {
         "data": [
          {
           "hovertemplate": "<b>%{hovertext}</b><br><br>hometeam=49ers<br>season=%{x}<br>winner_home=%{marker.size}<extra></extra>",
           "hovertext": [
            "49ers"
           ],
           "ids": [
            "49ers"
           ],
           "legendgroup": "49ers",
           "marker": {
            "color": "#636efa",
            "size": [
             1
            ],
            "sizemode": "area",
            "sizeref": 0.002644628099173554,
            "symbol": "circle"
           },
           "mode": "markers",
           "name": "49ers",
           "orientation": "v",
           "showlegend": true,
           "type": "scatter",
           "x": [
            2020
           ],
           "xaxis": "x",
           "y": [
            1
           ],
           "yaxis": "y"
          },
          {
           "hovertemplate": "<b>%{hovertext}</b><br><br>hometeam=Bears<br>season=%{x}<br>winner_home=%{marker.size}<extra></extra>",
           "hovertext": [
            "Bears"
           ],
           "ids": [
            "Bears"
           ],
           "legendgroup": "Bears",
           "marker": {
            "color": "#EF553B",
            "size": [
             3
            ],
            "sizemode": "area",
            "sizeref": 0.002644628099173554,
            "symbol": "circle"
           },
           "mode": "markers",
           "name": "Bears",
           "orientation": "v",
           "showlegend": true,
           "type": "scatter",
           "x": [
            2020
           ],
           "xaxis": "x",
           "y": [
            3
           ],
           "yaxis": "y"
          },
          {
           "hovertemplate": "<b>%{hovertext}</b><br><br>hometeam=Bengals<br>season=%{x}<br>winner_home=%{marker.size}<extra></extra>",
           "hovertext": [
            "Bengals"
           ],
           "ids": [
            "Bengals"
           ],
           "legendgroup": "Bengals",
           "marker": {
            "color": "#00cc96",
            "size": [
             3
            ],
            "sizemode": "area",
            "sizeref": 0.002644628099173554,
            "symbol": "circle"
           },
           "mode": "markers",
           "name": "Bengals",
           "orientation": "v",
           "showlegend": true,
           "type": "scatter",
           "x": [
            2020
           ],
           "xaxis": "x",
           "y": [
            3
           ],
           "yaxis": "y"
          },
          {
           "hovertemplate": "<b>%{hovertext}</b><br><br>hometeam=Bills<br>season=%{x}<br>winner_home=%{marker.size}<extra></extra>",
           "hovertext": [
            "Bills"
           ],
           "ids": [
            "Bills"
           ],
           "legendgroup": "Bills",
           "marker": {
            "color": "#ab63fa",
            "size": [
             7
            ],
            "sizemode": "area",
            "sizeref": 0.002644628099173554,
            "symbol": "circle"
           },
           "mode": "markers",
           "name": "Bills",
           "orientation": "v",
           "showlegend": true,
           "type": "scatter",
           "x": [
            2020
           ],
           "xaxis": "x",
           "y": [
            7
           ],
           "yaxis": "y"
          },
          {
           "hovertemplate": "<b>%{hovertext}</b><br><br>hometeam=Broncos<br>season=%{x}<br>winner_home=%{marker.size}<extra></extra>",
           "hovertext": [
            "Broncos"
           ],
           "ids": [
            "Broncos"
           ],
           "legendgroup": "Broncos",
           "marker": {
            "color": "#FFA15A",
            "size": [
             2
            ],
            "sizemode": "area",
            "sizeref": 0.002644628099173554,
            "symbol": "circle"
           },
           "mode": "markers",
           "name": "Broncos",
           "orientation": "v",
           "showlegend": true,
           "type": "scatter",
           "x": [
            2020
           ],
           "xaxis": "x",
           "y": [
            2
           ],
           "yaxis": "y"
          },
          {
           "hovertemplate": "<b>%{hovertext}</b><br><br>hometeam=Browns<br>season=%{x}<br>winner_home=%{marker.size}<extra></extra>",
           "hovertext": [
            "Browns"
           ],
           "ids": [
            "Browns"
           ],
           "legendgroup": "Browns",
           "marker": {
            "color": "#19d3f3",
            "size": [
             6
            ],
            "sizemode": "area",
            "sizeref": 0.002644628099173554,
            "symbol": "circle"
           },
           "mode": "markers",
           "name": "Browns",
           "orientation": "v",
           "showlegend": true,
           "type": "scatter",
           "x": [
            2020
           ],
           "xaxis": "x",
           "y": [
            6
           ],
           "yaxis": "y"
          },
          {
           "hovertemplate": "<b>%{hovertext}</b><br><br>hometeam=Buccaneers<br>season=%{x}<br>winner_home=%{marker.size}<extra></extra>",
           "hovertext": [
            "Buccaneers"
           ],
           "ids": [
            "Buccaneers"
           ],
           "legendgroup": "Buccaneers",
           "marker": {
            "color": "#FF6692",
            "size": [
             5
            ],
            "sizemode": "area",
            "sizeref": 0.002644628099173554,
            "symbol": "circle"
           },
           "mode": "markers",
           "name": "Buccaneers",
           "orientation": "v",
           "showlegend": true,
           "type": "scatter",
           "x": [
            2020
           ],
           "xaxis": "x",
           "y": [
            5
           ],
           "yaxis": "y"
          },
          {
           "hovertemplate": "<b>%{hovertext}</b><br><br>hometeam=Cardinals<br>season=%{x}<br>winner_home=%{marker.size}<extra></extra>",
           "hovertext": [
            "Cardinals"
           ],
           "ids": [
            "Cardinals"
           ],
           "legendgroup": "Cardinals",
           "marker": {
            "color": "#B6E880",
            "size": [
             4
            ],
            "sizemode": "area",
            "sizeref": 0.002644628099173554,
            "symbol": "circle"
           },
           "mode": "markers",
           "name": "Cardinals",
           "orientation": "v",
           "showlegend": true,
           "type": "scatter",
           "x": [
            2020
           ],
           "xaxis": "x",
           "y": [
            4
           ],
           "yaxis": "y"
          },
          {
           "hovertemplate": "<b>%{hovertext}</b><br><br>hometeam=Chargers<br>season=%{x}<br>winner_home=%{marker.size}<extra></extra>",
           "hovertext": [
            "Chargers"
           ],
           "ids": [
            "Chargers"
           ],
           "legendgroup": "Chargers",
           "marker": {
            "color": "#FF97FF",
            "size": [
             4
            ],
            "sizemode": "area",
            "sizeref": 0.002644628099173554,
            "symbol": "circle"
           },
           "mode": "markers",
           "name": "Chargers",
           "orientation": "v",
           "showlegend": true,
           "type": "scatter",
           "x": [
            2020
           ],
           "xaxis": "x",
           "y": [
            4
           ],
           "yaxis": "y"
          },
          {
           "hovertemplate": "<b>%{hovertext}</b><br><br>hometeam=Chiefs<br>season=%{x}<br>winner_home=%{marker.size}<extra></extra>",
           "hovertext": [
            "Chiefs"
           ],
           "ids": [
            "Chiefs"
           ],
           "legendgroup": "Chiefs",
           "marker": {
            "color": "#FECB52",
            "size": [
             6
            ],
            "sizemode": "area",
            "sizeref": 0.002644628099173554,
            "symbol": "circle"
           },
           "mode": "markers",
           "name": "Chiefs",
           "orientation": "v",
           "showlegend": true,
           "type": "scatter",
           "x": [
            2020
           ],
           "xaxis": "x",
           "y": [
            6
           ],
           "yaxis": "y"
          },
          {
           "hovertemplate": "<b>%{hovertext}</b><br><br>hometeam=Colts<br>season=%{x}<br>winner_home=%{marker.size}<extra></extra>",
           "hovertext": [
            "Colts"
           ],
           "ids": [
            "Colts"
           ],
           "legendgroup": "Colts",
           "marker": {
            "color": "#636efa",
            "size": [
             6
            ],
            "sizemode": "area",
            "sizeref": 0.002644628099173554,
            "symbol": "circle"
           },
           "mode": "markers",
           "name": "Colts",
           "orientation": "v",
           "showlegend": true,
           "type": "scatter",
           "x": [
            2020
           ],
           "xaxis": "x",
           "y": [
            6
           ],
           "yaxis": "y"
          },
          {
           "hovertemplate": "<b>%{hovertext}</b><br><br>hometeam=Cowboys<br>season=%{x}<br>winner_home=%{marker.size}<extra></extra>",
           "hovertext": [
            "Cowboys"
           ],
           "ids": [
            "Cowboys"
           ],
           "legendgroup": "Cowboys",
           "marker": {
            "color": "#EF553B",
            "size": [
             4
            ],
            "sizemode": "area",
            "sizeref": 0.002644628099173554,
            "symbol": "circle"
           },
           "mode": "markers",
           "name": "Cowboys",
           "orientation": "v",
           "showlegend": true,
           "type": "scatter",
           "x": [
            2020
           ],
           "xaxis": "x",
           "y": [
            4
           ],
           "yaxis": "y"
          },
          {
           "hovertemplate": "<b>%{hovertext}</b><br><br>hometeam=Dolphins<br>season=%{x}<br>winner_home=%{marker.size}<extra></extra>",
           "hovertext": [
            "Dolphins"
           ],
           "ids": [
            "Dolphins"
           ],
           "legendgroup": "Dolphins",
           "marker": {
            "color": "#00cc96",
            "size": [
             5
            ],
            "sizemode": "area",
            "sizeref": 0.002644628099173554,
            "symbol": "circle"
           },
           "mode": "markers",
           "name": "Dolphins",
           "orientation": "v",
           "showlegend": true,
           "type": "scatter",
           "x": [
            2020
           ],
           "xaxis": "x",
           "y": [
            5
           ],
           "yaxis": "y"
          },
          {
           "hovertemplate": "<b>%{hovertext}</b><br><br>hometeam=Eagles<br>season=%{x}<br>winner_home=%{marker.size}<extra></extra>",
           "hovertext": [
            "Eagles"
           ],
           "ids": [
            "Eagles"
           ],
           "legendgroup": "Eagles",
           "marker": {
            "color": "#ab63fa",
            "size": [
             3
            ],
            "sizemode": "area",
            "sizeref": 0.002644628099173554,
            "symbol": "circle"
           },
           "mode": "markers",
           "name": "Eagles",
           "orientation": "v",
           "showlegend": true,
           "type": "scatter",
           "x": [
            2020
           ],
           "xaxis": "x",
           "y": [
            3
           ],
           "yaxis": "y"
          },
          {
           "hovertemplate": "<b>%{hovertext}</b><br><br>hometeam=Falcons<br>season=%{x}<br>winner_home=%{marker.size}<extra></extra>",
           "hovertext": [
            "Falcons"
           ],
           "ids": [
            "Falcons"
           ],
           "legendgroup": "Falcons",
           "marker": {
            "color": "#FFA15A",
            "size": [
             2
            ],
            "sizemode": "area",
            "sizeref": 0.002644628099173554,
            "symbol": "circle"
           },
           "mode": "markers",
           "name": "Falcons",
           "orientation": "v",
           "showlegend": true,
           "type": "scatter",
           "x": [
            2020
           ],
           "xaxis": "x",
           "y": [
            2
           ],
           "yaxis": "y"
          },
          {
           "hovertemplate": "<b>%{hovertext}</b><br><br>hometeam=Giants<br>season=%{x}<br>winner_home=%{marker.size}<extra></extra>",
           "hovertext": [
            "Giants"
           ],
           "ids": [
            "Giants"
           ],
           "legendgroup": "Giants",
           "marker": {
            "color": "#19d3f3",
            "size": [
             3
            ],
            "sizemode": "area",
            "sizeref": 0.002644628099173554,
            "symbol": "circle"
           },
           "mode": "markers",
           "name": "Giants",
           "orientation": "v",
           "showlegend": true,
           "type": "scatter",
           "x": [
            2020
           ],
           "xaxis": "x",
           "y": [
            3
           ],
           "yaxis": "y"
          },
          {
           "hovertemplate": "<b>%{hovertext}</b><br><br>hometeam=Jaguars<br>season=%{x}<br>winner_home=%{marker.size}<extra></extra>",
           "hovertext": [
            "Jaguars"
           ],
           "ids": [
            "Jaguars"
           ],
           "legendgroup": "Jaguars",
           "marker": {
            "color": "#FF6692",
            "size": [
             1
            ],
            "sizemode": "area",
            "sizeref": 0.002644628099173554,
            "symbol": "circle"
           },
           "mode": "markers",
           "name": "Jaguars",
           "orientation": "v",
           "showlegend": true,
           "type": "scatter",
           "x": [
            2020
           ],
           "xaxis": "x",
           "y": [
            1
           ],
           "yaxis": "y"
          },
          {
           "hovertemplate": "<b>%{hovertext}</b><br><br>hometeam=Jets<br>season=%{x}<br>winner_home=%{marker.size}<extra></extra>",
           "hovertext": [
            "Jets"
           ],
           "ids": [
            "Jets"
           ],
           "legendgroup": "Jets",
           "marker": {
            "color": "#B6E880",
            "size": [
             1
            ],
            "sizemode": "area",
            "sizeref": 0.002644628099173554,
            "symbol": "circle"
           },
           "mode": "markers",
           "name": "Jets",
           "orientation": "v",
           "showlegend": true,
           "type": "scatter",
           "x": [
            2020
           ],
           "xaxis": "x",
           "y": [
            1
           ],
           "yaxis": "y"
          },
          {
           "hovertemplate": "<b>%{hovertext}</b><br><br>hometeam=Lions<br>season=%{x}<br>winner_home=%{marker.size}<extra></extra>",
           "hovertext": [
            "Lions"
           ],
           "ids": [
            "Lions"
           ],
           "legendgroup": "Lions",
           "marker": {
            "color": "#FF97FF",
            "size": [
             1
            ],
            "sizemode": "area",
            "sizeref": 0.002644628099173554,
            "symbol": "circle"
           },
           "mode": "markers",
           "name": "Lions",
           "orientation": "v",
           "showlegend": true,
           "type": "scatter",
           "x": [
            2020
           ],
           "xaxis": "x",
           "y": [
            1
           ],
           "yaxis": "y"
          },
          {
           "hovertemplate": "<b>%{hovertext}</b><br><br>hometeam=Packers<br>season=%{x}<br>winner_home=%{marker.size}<extra></extra>",
           "hovertext": [
            "Packers"
           ],
           "ids": [
            "Packers"
           ],
           "legendgroup": "Packers",
           "marker": {
            "color": "#FECB52",
            "size": [
             7
            ],
            "sizemode": "area",
            "sizeref": 0.002644628099173554,
            "symbol": "circle"
           },
           "mode": "markers",
           "name": "Packers",
           "orientation": "v",
           "showlegend": true,
           "type": "scatter",
           "x": [
            2020
           ],
           "xaxis": "x",
           "y": [
            7
           ],
           "yaxis": "y"
          },
          {
           "hovertemplate": "<b>%{hovertext}</b><br><br>hometeam=Panthers<br>season=%{x}<br>winner_home=%{marker.size}<extra></extra>",
           "hovertext": [
            "Panthers"
           ],
           "ids": [
            "Panthers"
           ],
           "legendgroup": "Panthers",
           "marker": {
            "color": "#636efa",
            "size": [
             2
            ],
            "sizemode": "area",
            "sizeref": 0.002644628099173554,
            "symbol": "circle"
           },
           "mode": "markers",
           "name": "Panthers",
           "orientation": "v",
           "showlegend": true,
           "type": "scatter",
           "x": [
            2020
           ],
           "xaxis": "x",
           "y": [
            2
           ],
           "yaxis": "y"
          },
          {
           "hovertemplate": "<b>%{hovertext}</b><br><br>hometeam=Patriots<br>season=%{x}<br>winner_home=%{marker.size}<extra></extra>",
           "hovertext": [
            "Patriots"
           ],
           "ids": [
            "Patriots"
           ],
           "legendgroup": "Patriots",
           "marker": {
            "color": "#EF553B",
            "size": [
             5
            ],
            "sizemode": "area",
            "sizeref": 0.002644628099173554,
            "symbol": "circle"
           },
           "mode": "markers",
           "name": "Patriots",
           "orientation": "v",
           "showlegend": true,
           "type": "scatter",
           "x": [
            2020
           ],
           "xaxis": "x",
           "y": [
            5
           ],
           "yaxis": "y"
          },
          {
           "hovertemplate": "<b>%{hovertext}</b><br><br>hometeam=Raiders<br>season=%{x}<br>winner_home=%{marker.size}<extra></extra>",
           "hovertext": [
            "Raiders"
           ],
           "ids": [
            "Raiders"
           ],
           "legendgroup": "Raiders",
           "marker": {
            "color": "#00cc96",
            "size": [
             2
            ],
            "sizemode": "area",
            "sizeref": 0.002644628099173554,
            "symbol": "circle"
           },
           "mode": "markers",
           "name": "Raiders",
           "orientation": "v",
           "showlegend": true,
           "type": "scatter",
           "x": [
            2020
           ],
           "xaxis": "x",
           "y": [
            2
           ],
           "yaxis": "y"
          },
          {
           "hovertemplate": "<b>%{hovertext}</b><br><br>hometeam=Rams<br>season=%{x}<br>winner_home=%{marker.size}<extra></extra>",
           "hovertext": [
            "Rams"
           ],
           "ids": [
            "Rams"
           ],
           "legendgroup": "Rams",
           "marker": {
            "color": "#ab63fa",
            "size": [
             6
            ],
            "sizemode": "area",
            "sizeref": 0.002644628099173554,
            "symbol": "circle"
           },
           "mode": "markers",
           "name": "Rams",
           "orientation": "v",
           "showlegend": true,
           "type": "scatter",
           "x": [
            2020
           ],
           "xaxis": "x",
           "y": [
            6
           ],
           "yaxis": "y"
          },
          {
           "hovertemplate": "<b>%{hovertext}</b><br><br>hometeam=Ravens<br>season=%{x}<br>winner_home=%{marker.size}<extra></extra>",
           "hovertext": [
            "Ravens"
           ],
           "ids": [
            "Ravens"
           ],
           "legendgroup": "Ravens",
           "marker": {
            "color": "#FFA15A",
            "size": [
             5
            ],
            "sizemode": "area",
            "sizeref": 0.002644628099173554,
            "symbol": "circle"
           },
           "mode": "markers",
           "name": "Ravens",
           "orientation": "v",
           "showlegend": true,
           "type": "scatter",
           "x": [
            2020
           ],
           "xaxis": "x",
           "y": [
            5
           ],
           "yaxis": "y"
          },
          {
           "hovertemplate": "<b>%{hovertext}</b><br><br>hometeam=Saints<br>season=%{x}<br>winner_home=%{marker.size}<extra></extra>",
           "hovertext": [
            "Saints"
           ],
           "ids": [
            "Saints"
           ],
           "legendgroup": "Saints",
           "marker": {
            "color": "#19d3f3",
            "size": [
             6
            ],
            "sizemode": "area",
            "sizeref": 0.002644628099173554,
            "symbol": "circle"
           },
           "mode": "markers",
           "name": "Saints",
           "orientation": "v",
           "showlegend": true,
           "type": "scatter",
           "x": [
            2020
           ],
           "xaxis": "x",
           "y": [
            6
           ],
           "yaxis": "y"
          },
          {
           "hovertemplate": "<b>%{hovertext}</b><br><br>hometeam=Seahawks<br>season=%{x}<br>winner_home=%{marker.size}<extra></extra>",
           "hovertext": [
            "Seahawks"
           ],
           "ids": [
            "Seahawks"
           ],
           "legendgroup": "Seahawks",
           "marker": {
            "color": "#FF6692",
            "size": [
             7
            ],
            "sizemode": "area",
            "sizeref": 0.002644628099173554,
            "symbol": "circle"
           },
           "mode": "markers",
           "name": "Seahawks",
           "orientation": "v",
           "showlegend": true,
           "type": "scatter",
           "x": [
            2020
           ],
           "xaxis": "x",
           "y": [
            7
           ],
           "yaxis": "y"
          },
          {
           "hovertemplate": "<b>%{hovertext}</b><br><br>hometeam=Steelers<br>season=%{x}<br>winner_home=%{marker.size}<extra></extra>",
           "hovertext": [
            "Steelers"
           ],
           "ids": [
            "Steelers"
           ],
           "legendgroup": "Steelers",
           "marker": {
            "color": "#B6E880",
            "size": [
             7
            ],
            "sizemode": "area",
            "sizeref": 0.002644628099173554,
            "symbol": "circle"
           },
           "mode": "markers",
           "name": "Steelers",
           "orientation": "v",
           "showlegend": true,
           "type": "scatter",
           "x": [
            2020
           ],
           "xaxis": "x",
           "y": [
            7
           ],
           "yaxis": "y"
          },
          {
           "hovertemplate": "<b>%{hovertext}</b><br><br>hometeam=Texans<br>season=%{x}<br>winner_home=%{marker.size}<extra></extra>",
           "hovertext": [
            "Texans"
           ],
           "ids": [
            "Texans"
           ],
           "legendgroup": "Texans",
           "marker": {
            "color": "#FF97FF",
            "size": [
             2
            ],
            "sizemode": "area",
            "sizeref": 0.002644628099173554,
            "symbol": "circle"
           },
           "mode": "markers",
           "name": "Texans",
           "orientation": "v",
           "showlegend": true,
           "type": "scatter",
           "x": [
            2020
           ],
           "xaxis": "x",
           "y": [
            2
           ],
           "yaxis": "y"
          },
          {
           "hovertemplate": "<b>%{hovertext}</b><br><br>hometeam=Titans<br>season=%{x}<br>winner_home=%{marker.size}<extra></extra>",
           "hovertext": [
            "Titans"
           ],
           "ids": [
            "Titans"
           ],
           "legendgroup": "Titans",
           "marker": {
            "color": "#FECB52",
            "size": [
             5
            ],
            "sizemode": "area",
            "sizeref": 0.002644628099173554,
            "symbol": "circle"
           },
           "mode": "markers",
           "name": "Titans",
           "orientation": "v",
           "showlegend": true,
           "type": "scatter",
           "x": [
            2020
           ],
           "xaxis": "x",
           "y": [
            5
           ],
           "yaxis": "y"
          },
          {
           "hovertemplate": "<b>%{hovertext}</b><br><br>hometeam=Vikings<br>season=%{x}<br>winner_home=%{marker.size}<extra></extra>",
           "hovertext": [
            "Vikings"
           ],
           "ids": [
            "Vikings"
           ],
           "legendgroup": "Vikings",
           "marker": {
            "color": "#636efa",
            "size": [
             3
            ],
            "sizemode": "area",
            "sizeref": 0.002644628099173554,
            "symbol": "circle"
           },
           "mode": "markers",
           "name": "Vikings",
           "orientation": "v",
           "showlegend": true,
           "type": "scatter",
           "x": [
            2020
           ],
           "xaxis": "x",
           "y": [
            3
           ],
           "yaxis": "y"
          },
          {
           "hovertemplate": "<b>%{hovertext}</b><br><br>hometeam=Washington<br>season=%{x}<br>winner_home=%{marker.size}<extra></extra>",
           "hovertext": [
            "Washington"
           ],
           "ids": [
            "Washington"
           ],
           "legendgroup": "Washington",
           "marker": {
            "color": "#EF553B",
            "size": [
             3
            ],
            "sizemode": "area",
            "sizeref": 0.002644628099173554,
            "symbol": "circle"
           },
           "mode": "markers",
           "name": "Washington",
           "orientation": "v",
           "showlegend": true,
           "type": "scatter",
           "x": [
            2020
           ],
           "xaxis": "x",
           "y": [
            3
           ],
           "yaxis": "y"
          }
         ],
         "name": "2020"
        },
        {
         "data": [
          {
           "hovertemplate": "<b>%{hovertext}</b><br><br>hometeam=49ers<br>season=%{x}<br>winner_home=%{marker.size}<extra></extra>",
           "hovertext": [
            "49ers"
           ],
           "ids": [
            "49ers"
           ],
           "legendgroup": "49ers",
           "marker": {
            "color": "#636efa",
            "size": [
             4
            ],
            "sizemode": "area",
            "sizeref": 0.002644628099173554,
            "symbol": "circle"
           },
           "mode": "markers",
           "name": "49ers",
           "orientation": "v",
           "showlegend": true,
           "type": "scatter",
           "x": [
            2021
           ],
           "xaxis": "x",
           "y": [
            4
           ],
           "yaxis": "y"
          },
          {
           "hovertemplate": "<b>%{hovertext}</b><br><br>hometeam=Bears<br>season=%{x}<br>winner_home=%{marker.size}<extra></extra>",
           "hovertext": [
            "Bears"
           ],
           "ids": [
            "Bears"
           ],
           "legendgroup": "Bears",
           "marker": {
            "color": "#EF553B",
            "size": [
             3
            ],
            "sizemode": "area",
            "sizeref": 0.002644628099173554,
            "symbol": "circle"
           },
           "mode": "markers",
           "name": "Bears",
           "orientation": "v",
           "showlegend": true,
           "type": "scatter",
           "x": [
            2021
           ],
           "xaxis": "x",
           "y": [
            3
           ],
           "yaxis": "y"
          },
          {
           "hovertemplate": "<b>%{hovertext}</b><br><br>hometeam=Bengals<br>season=%{x}<br>winner_home=%{marker.size}<extra></extra>",
           "hovertext": [
            "Bengals"
           ],
           "ids": [
            "Bengals"
           ],
           "legendgroup": "Bengals",
           "marker": {
            "color": "#00cc96",
            "size": [
             5
            ],
            "sizemode": "area",
            "sizeref": 0.002644628099173554,
            "symbol": "circle"
           },
           "mode": "markers",
           "name": "Bengals",
           "orientation": "v",
           "showlegend": true,
           "type": "scatter",
           "x": [
            2021
           ],
           "xaxis": "x",
           "y": [
            5
           ],
           "yaxis": "y"
          },
          {
           "hovertemplate": "<b>%{hovertext}</b><br><br>hometeam=Bills<br>season=%{x}<br>winner_home=%{marker.size}<extra></extra>",
           "hovertext": [
            "Bills"
           ],
           "ids": [
            "Bills"
           ],
           "legendgroup": "Bills",
           "marker": {
            "color": "#ab63fa",
            "size": [
             6
            ],
            "sizemode": "area",
            "sizeref": 0.002644628099173554,
            "symbol": "circle"
           },
           "mode": "markers",
           "name": "Bills",
           "orientation": "v",
           "showlegend": true,
           "type": "scatter",
           "x": [
            2021
           ],
           "xaxis": "x",
           "y": [
            6
           ],
           "yaxis": "y"
          },
          {
           "hovertemplate": "<b>%{hovertext}</b><br><br>hometeam=Broncos<br>season=%{x}<br>winner_home=%{marker.size}<extra></extra>",
           "hovertext": [
            "Broncos"
           ],
           "ids": [
            "Broncos"
           ],
           "legendgroup": "Broncos",
           "marker": {
            "color": "#FFA15A",
            "size": [
             4
            ],
            "sizemode": "area",
            "sizeref": 0.002644628099173554,
            "symbol": "circle"
           },
           "mode": "markers",
           "name": "Broncos",
           "orientation": "v",
           "showlegend": true,
           "type": "scatter",
           "x": [
            2021
           ],
           "xaxis": "x",
           "y": [
            4
           ],
           "yaxis": "y"
          },
          {
           "hovertemplate": "<b>%{hovertext}</b><br><br>hometeam=Browns<br>season=%{x}<br>winner_home=%{marker.size}<extra></extra>",
           "hovertext": [
            "Browns"
           ],
           "ids": [
            "Browns"
           ],
           "legendgroup": "Browns",
           "marker": {
            "color": "#19d3f3",
            "size": [
             6
            ],
            "sizemode": "area",
            "sizeref": 0.002644628099173554,
            "symbol": "circle"
           },
           "mode": "markers",
           "name": "Browns",
           "orientation": "v",
           "showlegend": true,
           "type": "scatter",
           "x": [
            2021
           ],
           "xaxis": "x",
           "y": [
            6
           ],
           "yaxis": "y"
          },
          {
           "hovertemplate": "<b>%{hovertext}</b><br><br>hometeam=Buccaneers<br>season=%{x}<br>winner_home=%{marker.size}<extra></extra>",
           "hovertext": [
            "Buccaneers"
           ],
           "ids": [
            "Buccaneers"
           ],
           "legendgroup": "Buccaneers",
           "marker": {
            "color": "#FF6692",
            "size": [
             7
            ],
            "sizemode": "area",
            "sizeref": 0.002644628099173554,
            "symbol": "circle"
           },
           "mode": "markers",
           "name": "Buccaneers",
           "orientation": "v",
           "showlegend": true,
           "type": "scatter",
           "x": [
            2021
           ],
           "xaxis": "x",
           "y": [
            7
           ],
           "yaxis": "y"
          },
          {
           "hovertemplate": "<b>%{hovertext}</b><br><br>hometeam=Cardinals<br>season=%{x}<br>winner_home=%{marker.size}<extra></extra>",
           "hovertext": [
            "Cardinals"
           ],
           "ids": [
            "Cardinals"
           ],
           "legendgroup": "Cardinals",
           "marker": {
            "color": "#B6E880",
            "size": [
             3
            ],
            "sizemode": "area",
            "sizeref": 0.002644628099173554,
            "symbol": "circle"
           },
           "mode": "markers",
           "name": "Cardinals",
           "orientation": "v",
           "showlegend": true,
           "type": "scatter",
           "x": [
            2021
           ],
           "xaxis": "x",
           "y": [
            3
           ],
           "yaxis": "y"
          },
          {
           "hovertemplate": "<b>%{hovertext}</b><br><br>hometeam=Chargers<br>season=%{x}<br>winner_home=%{marker.size}<extra></extra>",
           "hovertext": [
            "Chargers"
           ],
           "ids": [
            "Chargers"
           ],
           "legendgroup": "Chargers",
           "marker": {
            "color": "#FF97FF",
            "size": [
             5
            ],
            "sizemode": "area",
            "sizeref": 0.002644628099173554,
            "symbol": "circle"
           },
           "mode": "markers",
           "name": "Chargers",
           "orientation": "v",
           "showlegend": true,
           "type": "scatter",
           "x": [
            2021
           ],
           "xaxis": "x",
           "y": [
            5
           ],
           "yaxis": "y"
          },
          {
           "hovertemplate": "<b>%{hovertext}</b><br><br>hometeam=Chiefs<br>season=%{x}<br>winner_home=%{marker.size}<extra></extra>",
           "hovertext": [
            "Chiefs"
           ],
           "ids": [
            "Chiefs"
           ],
           "legendgroup": "Chiefs",
           "marker": {
            "color": "#FECB52",
            "size": [
             7
            ],
            "sizemode": "area",
            "sizeref": 0.002644628099173554,
            "symbol": "circle"
           },
           "mode": "markers",
           "name": "Chiefs",
           "orientation": "v",
           "showlegend": true,
           "type": "scatter",
           "x": [
            2021
           ],
           "xaxis": "x",
           "y": [
            7
           ],
           "yaxis": "y"
          },
          {
           "hovertemplate": "<b>%{hovertext}</b><br><br>hometeam=Colts<br>season=%{x}<br>winner_home=%{marker.size}<extra></extra>",
           "hovertext": [
            "Colts"
           ],
           "ids": [
            "Colts"
           ],
           "legendgroup": "Colts",
           "marker": {
            "color": "#636efa",
            "size": [
             4
            ],
            "sizemode": "area",
            "sizeref": 0.002644628099173554,
            "symbol": "circle"
           },
           "mode": "markers",
           "name": "Colts",
           "orientation": "v",
           "showlegend": true,
           "type": "scatter",
           "x": [
            2021
           ],
           "xaxis": "x",
           "y": [
            4
           ],
           "yaxis": "y"
          },
          {
           "hovertemplate": "<b>%{hovertext}</b><br><br>hometeam=Cowboys<br>season=%{x}<br>winner_home=%{marker.size}<extra></extra>",
           "hovertext": [
            "Cowboys"
           ],
           "ids": [
            "Cowboys"
           ],
           "legendgroup": "Cowboys",
           "marker": {
            "color": "#EF553B",
            "size": [
             5
            ],
            "sizemode": "area",
            "sizeref": 0.002644628099173554,
            "symbol": "circle"
           },
           "mode": "markers",
           "name": "Cowboys",
           "orientation": "v",
           "showlegend": true,
           "type": "scatter",
           "x": [
            2021
           ],
           "xaxis": "x",
           "y": [
            5
           ],
           "yaxis": "y"
          },
          {
           "hovertemplate": "<b>%{hovertext}</b><br><br>hometeam=Dolphins<br>season=%{x}<br>winner_home=%{marker.size}<extra></extra>",
           "hovertext": [
            "Dolphins"
           ],
           "ids": [
            "Dolphins"
           ],
           "legendgroup": "Dolphins",
           "marker": {
            "color": "#00cc96",
            "size": [
             6
            ],
            "sizemode": "area",
            "sizeref": 0.002644628099173554,
            "symbol": "circle"
           },
           "mode": "markers",
           "name": "Dolphins",
           "orientation": "v",
           "showlegend": true,
           "type": "scatter",
           "x": [
            2021
           ],
           "xaxis": "x",
           "y": [
            6
           ],
           "yaxis": "y"
          },
          {
           "hovertemplate": "<b>%{hovertext}</b><br><br>hometeam=Eagles<br>season=%{x}<br>winner_home=%{marker.size}<extra></extra>",
           "hovertext": [
            "Eagles"
           ],
           "ids": [
            "Eagles"
           ],
           "legendgroup": "Eagles",
           "marker": {
            "color": "#ab63fa",
            "size": [
             3
            ],
            "sizemode": "area",
            "sizeref": 0.002644628099173554,
            "symbol": "circle"
           },
           "mode": "markers",
           "name": "Eagles",
           "orientation": "v",
           "showlegend": true,
           "type": "scatter",
           "x": [
            2021
           ],
           "xaxis": "x",
           "y": [
            3
           ],
           "yaxis": "y"
          },
          {
           "hovertemplate": "<b>%{hovertext}</b><br><br>hometeam=Falcons<br>season=%{x}<br>winner_home=%{marker.size}<extra></extra>",
           "hovertext": [
            "Falcons"
           ],
           "ids": [
            "Falcons"
           ],
           "legendgroup": "Falcons",
           "marker": {
            "color": "#FFA15A",
            "size": [
             2
            ],
            "sizemode": "area",
            "sizeref": 0.002644628099173554,
            "symbol": "circle"
           },
           "mode": "markers",
           "name": "Falcons",
           "orientation": "v",
           "showlegend": true,
           "type": "scatter",
           "x": [
            2021
           ],
           "xaxis": "x",
           "y": [
            2
           ],
           "yaxis": "y"
          },
          {
           "hovertemplate": "<b>%{hovertext}</b><br><br>hometeam=Giants<br>season=%{x}<br>winner_home=%{marker.size}<extra></extra>",
           "hovertext": [
            "Giants"
           ],
           "ids": [
            "Giants"
           ],
           "legendgroup": "Giants",
           "marker": {
            "color": "#19d3f3",
            "size": [
             3
            ],
            "sizemode": "area",
            "sizeref": 0.002644628099173554,
            "symbol": "circle"
           },
           "mode": "markers",
           "name": "Giants",
           "orientation": "v",
           "showlegend": true,
           "type": "scatter",
           "x": [
            2021
           ],
           "xaxis": "x",
           "y": [
            3
           ],
           "yaxis": "y"
          },
          {
           "hovertemplate": "<b>%{hovertext}</b><br><br>hometeam=Jaguars<br>season=%{x}<br>winner_home=%{marker.size}<extra></extra>",
           "hovertext": [
            "Jaguars"
           ],
           "ids": [
            "Jaguars"
           ],
           "legendgroup": "Jaguars",
           "marker": {
            "color": "#FF6692",
            "size": [
             3
            ],
            "sizemode": "area",
            "sizeref": 0.002644628099173554,
            "symbol": "circle"
           },
           "mode": "markers",
           "name": "Jaguars",
           "orientation": "v",
           "showlegend": true,
           "type": "scatter",
           "x": [
            2021
           ],
           "xaxis": "x",
           "y": [
            3
           ],
           "yaxis": "y"
          },
          {
           "hovertemplate": "<b>%{hovertext}</b><br><br>hometeam=Jets<br>season=%{x}<br>winner_home=%{marker.size}<extra></extra>",
           "hovertext": [
            "Jets"
           ],
           "ids": [
            "Jets"
           ],
           "legendgroup": "Jets",
           "marker": {
            "color": "#B6E880",
            "size": [
             3
            ],
            "sizemode": "area",
            "sizeref": 0.002644628099173554,
            "symbol": "circle"
           },
           "mode": "markers",
           "name": "Jets",
           "orientation": "v",
           "showlegend": true,
           "type": "scatter",
           "x": [
            2021
           ],
           "xaxis": "x",
           "y": [
            3
           ],
           "yaxis": "y"
          },
          {
           "hovertemplate": "<b>%{hovertext}</b><br><br>hometeam=Lions<br>season=%{x}<br>winner_home=%{marker.size}<extra></extra>",
           "hovertext": [
            "Lions"
           ],
           "ids": [
            "Lions"
           ],
           "legendgroup": "Lions",
           "marker": {
            "color": "#FF97FF",
            "size": [
             3
            ],
            "sizemode": "area",
            "sizeref": 0.002644628099173554,
            "symbol": "circle"
           },
           "mode": "markers",
           "name": "Lions",
           "orientation": "v",
           "showlegend": true,
           "type": "scatter",
           "x": [
            2021
           ],
           "xaxis": "x",
           "y": [
            3
           ],
           "yaxis": "y"
          },
          {
           "hovertemplate": "<b>%{hovertext}</b><br><br>hometeam=Packers<br>season=%{x}<br>winner_home=%{marker.size}<extra></extra>",
           "hovertext": [
            "Packers"
           ],
           "ids": [
            "Packers"
           ],
           "legendgroup": "Packers",
           "marker": {
            "color": "#FECB52",
            "size": [
             8
            ],
            "sizemode": "area",
            "sizeref": 0.002644628099173554,
            "symbol": "circle"
           },
           "mode": "markers",
           "name": "Packers",
           "orientation": "v",
           "showlegend": true,
           "type": "scatter",
           "x": [
            2021
           ],
           "xaxis": "x",
           "y": [
            8
           ],
           "yaxis": "y"
          },
          {
           "hovertemplate": "<b>%{hovertext}</b><br><br>hometeam=Panthers<br>season=%{x}<br>winner_home=%{marker.size}<extra></extra>",
           "hovertext": [
            "Panthers"
           ],
           "ids": [
            "Panthers"
           ],
           "legendgroup": "Panthers",
           "marker": {
            "color": "#636efa",
            "size": [
             2
            ],
            "sizemode": "area",
            "sizeref": 0.002644628099173554,
            "symbol": "circle"
           },
           "mode": "markers",
           "name": "Panthers",
           "orientation": "v",
           "showlegend": true,
           "type": "scatter",
           "x": [
            2021
           ],
           "xaxis": "x",
           "y": [
            2
           ],
           "yaxis": "y"
          },
          {
           "hovertemplate": "<b>%{hovertext}</b><br><br>hometeam=Patriots<br>season=%{x}<br>winner_home=%{marker.size}<extra></extra>",
           "hovertext": [
            "Patriots"
           ],
           "ids": [
            "Patriots"
           ],
           "legendgroup": "Patriots",
           "marker": {
            "color": "#EF553B",
            "size": [
             4
            ],
            "sizemode": "area",
            "sizeref": 0.002644628099173554,
            "symbol": "circle"
           },
           "mode": "markers",
           "name": "Patriots",
           "orientation": "v",
           "showlegend": true,
           "type": "scatter",
           "x": [
            2021
           ],
           "xaxis": "x",
           "y": [
            4
           ],
           "yaxis": "y"
          },
          {
           "hovertemplate": "<b>%{hovertext}</b><br><br>hometeam=Raiders<br>season=%{x}<br>winner_home=%{marker.size}<extra></extra>",
           "hovertext": [
            "Raiders"
           ],
           "ids": [
            "Raiders"
           ],
           "legendgroup": "Raiders",
           "marker": {
            "color": "#00cc96",
            "size": [
             5
            ],
            "sizemode": "area",
            "sizeref": 0.002644628099173554,
            "symbol": "circle"
           },
           "mode": "markers",
           "name": "Raiders",
           "orientation": "v",
           "showlegend": true,
           "type": "scatter",
           "x": [
            2021
           ],
           "xaxis": "x",
           "y": [
            5
           ],
           "yaxis": "y"
          },
          {
           "hovertemplate": "<b>%{hovertext}</b><br><br>hometeam=Rams<br>season=%{x}<br>winner_home=%{marker.size}<extra></extra>",
           "hovertext": [
            "Rams"
           ],
           "ids": [
            "Rams"
           ],
           "legendgroup": "Rams",
           "marker": {
            "color": "#ab63fa",
            "size": [
             5
            ],
            "sizemode": "area",
            "sizeref": 0.002644628099173554,
            "symbol": "circle"
           },
           "mode": "markers",
           "name": "Rams",
           "orientation": "v",
           "showlegend": true,
           "type": "scatter",
           "x": [
            2021
           ],
           "xaxis": "x",
           "y": [
            5
           ],
           "yaxis": "y"
          },
          {
           "hovertemplate": "<b>%{hovertext}</b><br><br>hometeam=Ravens<br>season=%{x}<br>winner_home=%{marker.size}<extra></extra>",
           "hovertext": [
            "Ravens"
           ],
           "ids": [
            "Ravens"
           ],
           "legendgroup": "Ravens",
           "marker": {
            "color": "#FFA15A",
            "size": [
             5
            ],
            "sizemode": "area",
            "sizeref": 0.002644628099173554,
            "symbol": "circle"
           },
           "mode": "markers",
           "name": "Ravens",
           "orientation": "v",
           "showlegend": true,
           "type": "scatter",
           "x": [
            2021
           ],
           "xaxis": "x",
           "y": [
            5
           ],
           "yaxis": "y"
          },
          {
           "hovertemplate": "<b>%{hovertext}</b><br><br>hometeam=Saints<br>season=%{x}<br>winner_home=%{marker.size}<extra></extra>",
           "hovertext": [
            "Saints"
           ],
           "ids": [
            "Saints"
           ],
           "legendgroup": "Saints",
           "marker": {
            "color": "#19d3f3",
            "size": [
             3
            ],
            "sizemode": "area",
            "sizeref": 0.002644628099173554,
            "symbol": "circle"
           },
           "mode": "markers",
           "name": "Saints",
           "orientation": "v",
           "showlegend": true,
           "type": "scatter",
           "x": [
            2021
           ],
           "xaxis": "x",
           "y": [
            3
           ],
           "yaxis": "y"
          },
          {
           "hovertemplate": "<b>%{hovertext}</b><br><br>hometeam=Seahawks<br>season=%{x}<br>winner_home=%{marker.size}<extra></extra>",
           "hovertext": [
            "Seahawks"
           ],
           "ids": [
            "Seahawks"
           ],
           "legendgroup": "Seahawks",
           "marker": {
            "color": "#FF6692",
            "size": [
             3
            ],
            "sizemode": "area",
            "sizeref": 0.002644628099173554,
            "symbol": "circle"
           },
           "mode": "markers",
           "name": "Seahawks",
           "orientation": "v",
           "showlegend": true,
           "type": "scatter",
           "x": [
            2021
           ],
           "xaxis": "x",
           "y": [
            3
           ],
           "yaxis": "y"
          },
          {
           "hovertemplate": "<b>%{hovertext}</b><br><br>hometeam=Steelers<br>season=%{x}<br>winner_home=%{marker.size}<extra></extra>",
           "hovertext": [
            "Steelers"
           ],
           "ids": [
            "Steelers"
           ],
           "legendgroup": "Steelers",
           "marker": {
            "color": "#B6E880",
            "size": [
             6
            ],
            "sizemode": "area",
            "sizeref": 0.002644628099173554,
            "symbol": "circle"
           },
           "mode": "markers",
           "name": "Steelers",
           "orientation": "v",
           "showlegend": true,
           "type": "scatter",
           "x": [
            2021
           ],
           "xaxis": "x",
           "y": [
            6
           ],
           "yaxis": "y"
          },
          {
           "hovertemplate": "<b>%{hovertext}</b><br><br>hometeam=Texans<br>season=%{x}<br>winner_home=%{marker.size}<extra></extra>",
           "hovertext": [
            "Texans"
           ],
           "ids": [
            "Texans"
           ],
           "legendgroup": "Texans",
           "marker": {
            "color": "#FF97FF",
            "size": [
             2
            ],
            "sizemode": "area",
            "sizeref": 0.002644628099173554,
            "symbol": "circle"
           },
           "mode": "markers",
           "name": "Texans",
           "orientation": "v",
           "showlegend": true,
           "type": "scatter",
           "x": [
            2021
           ],
           "xaxis": "x",
           "y": [
            2
           ],
           "yaxis": "y"
          },
          {
           "hovertemplate": "<b>%{hovertext}</b><br><br>hometeam=Titans<br>season=%{x}<br>winner_home=%{marker.size}<extra></extra>",
           "hovertext": [
            "Titans"
           ],
           "ids": [
            "Titans"
           ],
           "legendgroup": "Titans",
           "marker": {
            "color": "#FECB52",
            "size": [
             7
            ],
            "sizemode": "area",
            "sizeref": 0.002644628099173554,
            "symbol": "circle"
           },
           "mode": "markers",
           "name": "Titans",
           "orientation": "v",
           "showlegend": true,
           "type": "scatter",
           "x": [
            2021
           ],
           "xaxis": "x",
           "y": [
            7
           ],
           "yaxis": "y"
          },
          {
           "hovertemplate": "<b>%{hovertext}</b><br><br>hometeam=Vikings<br>season=%{x}<br>winner_home=%{marker.size}<extra></extra>",
           "hovertext": [
            "Vikings"
           ],
           "ids": [
            "Vikings"
           ],
           "legendgroup": "Vikings",
           "marker": {
            "color": "#636efa",
            "size": [
             5
            ],
            "sizemode": "area",
            "sizeref": 0.002644628099173554,
            "symbol": "circle"
           },
           "mode": "markers",
           "name": "Vikings",
           "orientation": "v",
           "showlegend": true,
           "type": "scatter",
           "x": [
            2021
           ],
           "xaxis": "x",
           "y": [
            5
           ],
           "yaxis": "y"
          },
          {
           "hovertemplate": "<b>%{hovertext}</b><br><br>hometeam=Washington<br>season=%{x}<br>winner_home=%{marker.size}<extra></extra>",
           "hovertext": [
            "Washington"
           ],
           "ids": [
            "Washington"
           ],
           "legendgroup": "Washington",
           "marker": {
            "color": "#EF553B",
            "size": [
             3
            ],
            "sizemode": "area",
            "sizeref": 0.002644628099173554,
            "symbol": "circle"
           },
           "mode": "markers",
           "name": "Washington",
           "orientation": "v",
           "showlegend": true,
           "type": "scatter",
           "x": [
            2021
           ],
           "xaxis": "x",
           "y": [
            3
           ],
           "yaxis": "y"
          }
         ],
         "name": "2021"
        }
       ],
       "layout": {
        "legend": {
         "itemsizing": "constant",
         "title": {
          "text": "hometeam"
         },
         "tracegroupgap": 0
        },
        "margin": {
         "t": 60
        },
        "sliders": [
         {
          "active": 0,
          "currentvalue": {
           "prefix": "season="
          },
          "len": 0.9,
          "pad": {
           "b": 10,
           "t": 60
          },
          "steps": [
           {
            "args": [
             [
              "2017"
             ],
             {
              "frame": {
               "duration": 0,
               "redraw": false
              },
              "fromcurrent": true,
              "mode": "immediate",
              "transition": {
               "duration": 0,
               "easing": "linear"
              }
             }
            ],
            "label": "2017",
            "method": "animate"
           },
           {
            "args": [
             [
              "2018"
             ],
             {
              "frame": {
               "duration": 0,
               "redraw": false
              },
              "fromcurrent": true,
              "mode": "immediate",
              "transition": {
               "duration": 0,
               "easing": "linear"
              }
             }
            ],
            "label": "2018",
            "method": "animate"
           },
           {
            "args": [
             [
              "2019"
             ],
             {
              "frame": {
               "duration": 0,
               "redraw": false
              },
              "fromcurrent": true,
              "mode": "immediate",
              "transition": {
               "duration": 0,
               "easing": "linear"
              }
             }
            ],
            "label": "2019",
            "method": "animate"
           },
           {
            "args": [
             [
              "2020"
             ],
             {
              "frame": {
               "duration": 0,
               "redraw": false
              },
              "fromcurrent": true,
              "mode": "immediate",
              "transition": {
               "duration": 0,
               "easing": "linear"
              }
             }
            ],
            "label": "2020",
            "method": "animate"
           },
           {
            "args": [
             [
              "2021"
             ],
             {
              "frame": {
               "duration": 0,
               "redraw": false
              },
              "fromcurrent": true,
              "mode": "immediate",
              "transition": {
               "duration": 0,
               "easing": "linear"
              }
             }
            ],
            "label": "2021",
            "method": "animate"
           }
          ],
          "x": 0.1,
          "xanchor": "left",
          "y": 0,
          "yanchor": "top"
         }
        ],
        "template": {
         "data": {
          "bar": [
           {
            "error_x": {
             "color": "#2a3f5f"
            },
            "error_y": {
             "color": "#2a3f5f"
            },
            "marker": {
             "line": {
              "color": "#E5ECF6",
              "width": 0.5
             },
             "pattern": {
              "fillmode": "overlay",
              "size": 10,
              "solidity": 0.2
             }
            },
            "type": "bar"
           }
          ],
          "barpolar": [
           {
            "marker": {
             "line": {
              "color": "#E5ECF6",
              "width": 0.5
             },
             "pattern": {
              "fillmode": "overlay",
              "size": 10,
              "solidity": 0.2
             }
            },
            "type": "barpolar"
           }
          ],
          "carpet": [
           {
            "aaxis": {
             "endlinecolor": "#2a3f5f",
             "gridcolor": "white",
             "linecolor": "white",
             "minorgridcolor": "white",
             "startlinecolor": "#2a3f5f"
            },
            "baxis": {
             "endlinecolor": "#2a3f5f",
             "gridcolor": "white",
             "linecolor": "white",
             "minorgridcolor": "white",
             "startlinecolor": "#2a3f5f"
            },
            "type": "carpet"
           }
          ],
          "choropleth": [
           {
            "colorbar": {
             "outlinewidth": 0,
             "ticks": ""
            },
            "type": "choropleth"
           }
          ],
          "contour": [
           {
            "colorbar": {
             "outlinewidth": 0,
             "ticks": ""
            },
            "colorscale": [
             [
              0,
              "#0d0887"
             ],
             [
              0.1111111111111111,
              "#46039f"
             ],
             [
              0.2222222222222222,
              "#7201a8"
             ],
             [
              0.3333333333333333,
              "#9c179e"
             ],
             [
              0.4444444444444444,
              "#bd3786"
             ],
             [
              0.5555555555555556,
              "#d8576b"
             ],
             [
              0.6666666666666666,
              "#ed7953"
             ],
             [
              0.7777777777777778,
              "#fb9f3a"
             ],
             [
              0.8888888888888888,
              "#fdca26"
             ],
             [
              1,
              "#f0f921"
             ]
            ],
            "type": "contour"
           }
          ],
          "contourcarpet": [
           {
            "colorbar": {
             "outlinewidth": 0,
             "ticks": ""
            },
            "type": "contourcarpet"
           }
          ],
          "heatmap": [
           {
            "colorbar": {
             "outlinewidth": 0,
             "ticks": ""
            },
            "colorscale": [
             [
              0,
              "#0d0887"
             ],
             [
              0.1111111111111111,
              "#46039f"
             ],
             [
              0.2222222222222222,
              "#7201a8"
             ],
             [
              0.3333333333333333,
              "#9c179e"
             ],
             [
              0.4444444444444444,
              "#bd3786"
             ],
             [
              0.5555555555555556,
              "#d8576b"
             ],
             [
              0.6666666666666666,
              "#ed7953"
             ],
             [
              0.7777777777777778,
              "#fb9f3a"
             ],
             [
              0.8888888888888888,
              "#fdca26"
             ],
             [
              1,
              "#f0f921"
             ]
            ],
            "type": "heatmap"
           }
          ],
          "heatmapgl": [
           {
            "colorbar": {
             "outlinewidth": 0,
             "ticks": ""
            },
            "colorscale": [
             [
              0,
              "#0d0887"
             ],
             [
              0.1111111111111111,
              "#46039f"
             ],
             [
              0.2222222222222222,
              "#7201a8"
             ],
             [
              0.3333333333333333,
              "#9c179e"
             ],
             [
              0.4444444444444444,
              "#bd3786"
             ],
             [
              0.5555555555555556,
              "#d8576b"
             ],
             [
              0.6666666666666666,
              "#ed7953"
             ],
             [
              0.7777777777777778,
              "#fb9f3a"
             ],
             [
              0.8888888888888888,
              "#fdca26"
             ],
             [
              1,
              "#f0f921"
             ]
            ],
            "type": "heatmapgl"
           }
          ],
          "histogram": [
           {
            "marker": {
             "pattern": {
              "fillmode": "overlay",
              "size": 10,
              "solidity": 0.2
             }
            },
            "type": "histogram"
           }
          ],
          "histogram2d": [
           {
            "colorbar": {
             "outlinewidth": 0,
             "ticks": ""
            },
            "colorscale": [
             [
              0,
              "#0d0887"
             ],
             [
              0.1111111111111111,
              "#46039f"
             ],
             [
              0.2222222222222222,
              "#7201a8"
             ],
             [
              0.3333333333333333,
              "#9c179e"
             ],
             [
              0.4444444444444444,
              "#bd3786"
             ],
             [
              0.5555555555555556,
              "#d8576b"
             ],
             [
              0.6666666666666666,
              "#ed7953"
             ],
             [
              0.7777777777777778,
              "#fb9f3a"
             ],
             [
              0.8888888888888888,
              "#fdca26"
             ],
             [
              1,
              "#f0f921"
             ]
            ],
            "type": "histogram2d"
           }
          ],
          "histogram2dcontour": [
           {
            "colorbar": {
             "outlinewidth": 0,
             "ticks": ""
            },
            "colorscale": [
             [
              0,
              "#0d0887"
             ],
             [
              0.1111111111111111,
              "#46039f"
             ],
             [
              0.2222222222222222,
              "#7201a8"
             ],
             [
              0.3333333333333333,
              "#9c179e"
             ],
             [
              0.4444444444444444,
              "#bd3786"
             ],
             [
              0.5555555555555556,
              "#d8576b"
             ],
             [
              0.6666666666666666,
              "#ed7953"
             ],
             [
              0.7777777777777778,
              "#fb9f3a"
             ],
             [
              0.8888888888888888,
              "#fdca26"
             ],
             [
              1,
              "#f0f921"
             ]
            ],
            "type": "histogram2dcontour"
           }
          ],
          "mesh3d": [
           {
            "colorbar": {
             "outlinewidth": 0,
             "ticks": ""
            },
            "type": "mesh3d"
           }
          ],
          "parcoords": [
           {
            "line": {
             "colorbar": {
              "outlinewidth": 0,
              "ticks": ""
             }
            },
            "type": "parcoords"
           }
          ],
          "pie": [
           {
            "automargin": true,
            "type": "pie"
           }
          ],
          "scatter": [
           {
            "fillpattern": {
             "fillmode": "overlay",
             "size": 10,
             "solidity": 0.2
            },
            "type": "scatter"
           }
          ],
          "scatter3d": [
           {
            "line": {
             "colorbar": {
              "outlinewidth": 0,
              "ticks": ""
             }
            },
            "marker": {
             "colorbar": {
              "outlinewidth": 0,
              "ticks": ""
             }
            },
            "type": "scatter3d"
           }
          ],
          "scattercarpet": [
           {
            "marker": {
             "colorbar": {
              "outlinewidth": 0,
              "ticks": ""
             }
            },
            "type": "scattercarpet"
           }
          ],
          "scattergeo": [
           {
            "marker": {
             "colorbar": {
              "outlinewidth": 0,
              "ticks": ""
             }
            },
            "type": "scattergeo"
           }
          ],
          "scattergl": [
           {
            "marker": {
             "colorbar": {
              "outlinewidth": 0,
              "ticks": ""
             }
            },
            "type": "scattergl"
           }
          ],
          "scattermapbox": [
           {
            "marker": {
             "colorbar": {
              "outlinewidth": 0,
              "ticks": ""
             }
            },
            "type": "scattermapbox"
           }
          ],
          "scatterpolar": [
           {
            "marker": {
             "colorbar": {
              "outlinewidth": 0,
              "ticks": ""
             }
            },
            "type": "scatterpolar"
           }
          ],
          "scatterpolargl": [
           {
            "marker": {
             "colorbar": {
              "outlinewidth": 0,
              "ticks": ""
             }
            },
            "type": "scatterpolargl"
           }
          ],
          "scatterternary": [
           {
            "marker": {
             "colorbar": {
              "outlinewidth": 0,
              "ticks": ""
             }
            },
            "type": "scatterternary"
           }
          ],
          "surface": [
           {
            "colorbar": {
             "outlinewidth": 0,
             "ticks": ""
            },
            "colorscale": [
             [
              0,
              "#0d0887"
             ],
             [
              0.1111111111111111,
              "#46039f"
             ],
             [
              0.2222222222222222,
              "#7201a8"
             ],
             [
              0.3333333333333333,
              "#9c179e"
             ],
             [
              0.4444444444444444,
              "#bd3786"
             ],
             [
              0.5555555555555556,
              "#d8576b"
             ],
             [
              0.6666666666666666,
              "#ed7953"
             ],
             [
              0.7777777777777778,
              "#fb9f3a"
             ],
             [
              0.8888888888888888,
              "#fdca26"
             ],
             [
              1,
              "#f0f921"
             ]
            ],
            "type": "surface"
           }
          ],
          "table": [
           {
            "cells": {
             "fill": {
              "color": "#EBF0F8"
             },
             "line": {
              "color": "white"
             }
            },
            "header": {
             "fill": {
              "color": "#C8D4E3"
             },
             "line": {
              "color": "white"
             }
            },
            "type": "table"
           }
          ]
         },
         "layout": {
          "annotationdefaults": {
           "arrowcolor": "#2a3f5f",
           "arrowhead": 0,
           "arrowwidth": 1
          },
          "autotypenumbers": "strict",
          "coloraxis": {
           "colorbar": {
            "outlinewidth": 0,
            "ticks": ""
           }
          },
          "colorscale": {
           "diverging": [
            [
             0,
             "#8e0152"
            ],
            [
             0.1,
             "#c51b7d"
            ],
            [
             0.2,
             "#de77ae"
            ],
            [
             0.3,
             "#f1b6da"
            ],
            [
             0.4,
             "#fde0ef"
            ],
            [
             0.5,
             "#f7f7f7"
            ],
            [
             0.6,
             "#e6f5d0"
            ],
            [
             0.7,
             "#b8e186"
            ],
            [
             0.8,
             "#7fbc41"
            ],
            [
             0.9,
             "#4d9221"
            ],
            [
             1,
             "#276419"
            ]
           ],
           "sequential": [
            [
             0,
             "#0d0887"
            ],
            [
             0.1111111111111111,
             "#46039f"
            ],
            [
             0.2222222222222222,
             "#7201a8"
            ],
            [
             0.3333333333333333,
             "#9c179e"
            ],
            [
             0.4444444444444444,
             "#bd3786"
            ],
            [
             0.5555555555555556,
             "#d8576b"
            ],
            [
             0.6666666666666666,
             "#ed7953"
            ],
            [
             0.7777777777777778,
             "#fb9f3a"
            ],
            [
             0.8888888888888888,
             "#fdca26"
            ],
            [
             1,
             "#f0f921"
            ]
           ],
           "sequentialminus": [
            [
             0,
             "#0d0887"
            ],
            [
             0.1111111111111111,
             "#46039f"
            ],
            [
             0.2222222222222222,
             "#7201a8"
            ],
            [
             0.3333333333333333,
             "#9c179e"
            ],
            [
             0.4444444444444444,
             "#bd3786"
            ],
            [
             0.5555555555555556,
             "#d8576b"
            ],
            [
             0.6666666666666666,
             "#ed7953"
            ],
            [
             0.7777777777777778,
             "#fb9f3a"
            ],
            [
             0.8888888888888888,
             "#fdca26"
            ],
            [
             1,
             "#f0f921"
            ]
           ]
          },
          "colorway": [
           "#636efa",
           "#EF553B",
           "#00cc96",
           "#ab63fa",
           "#FFA15A",
           "#19d3f3",
           "#FF6692",
           "#B6E880",
           "#FF97FF",
           "#FECB52"
          ],
          "font": {
           "color": "#2a3f5f"
          },
          "geo": {
           "bgcolor": "white",
           "lakecolor": "white",
           "landcolor": "#E5ECF6",
           "showlakes": true,
           "showland": true,
           "subunitcolor": "white"
          },
          "hoverlabel": {
           "align": "left"
          },
          "hovermode": "closest",
          "mapbox": {
           "style": "light"
          },
          "paper_bgcolor": "white",
          "plot_bgcolor": "#E5ECF6",
          "polar": {
           "angularaxis": {
            "gridcolor": "white",
            "linecolor": "white",
            "ticks": ""
           },
           "bgcolor": "#E5ECF6",
           "radialaxis": {
            "gridcolor": "white",
            "linecolor": "white",
            "ticks": ""
           }
          },
          "scene": {
           "xaxis": {
            "backgroundcolor": "#E5ECF6",
            "gridcolor": "white",
            "gridwidth": 2,
            "linecolor": "white",
            "showbackground": true,
            "ticks": "",
            "zerolinecolor": "white"
           },
           "yaxis": {
            "backgroundcolor": "#E5ECF6",
            "gridcolor": "white",
            "gridwidth": 2,
            "linecolor": "white",
            "showbackground": true,
            "ticks": "",
            "zerolinecolor": "white"
           },
           "zaxis": {
            "backgroundcolor": "#E5ECF6",
            "gridcolor": "white",
            "gridwidth": 2,
            "linecolor": "white",
            "showbackground": true,
            "ticks": "",
            "zerolinecolor": "white"
           }
          },
          "shapedefaults": {
           "line": {
            "color": "#2a3f5f"
           }
          },
          "ternary": {
           "aaxis": {
            "gridcolor": "white",
            "linecolor": "white",
            "ticks": ""
           },
           "baxis": {
            "gridcolor": "white",
            "linecolor": "white",
            "ticks": ""
           },
           "bgcolor": "#E5ECF6",
           "caxis": {
            "gridcolor": "white",
            "linecolor": "white",
            "ticks": ""
           }
          },
          "title": {
           "x": 0.05
          },
          "xaxis": {
           "automargin": true,
           "gridcolor": "white",
           "linecolor": "white",
           "ticks": "",
           "title": {
            "standoff": 15
           },
           "zerolinecolor": "white",
           "zerolinewidth": 2
          },
          "yaxis": {
           "automargin": true,
           "gridcolor": "white",
           "linecolor": "white",
           "ticks": "",
           "title": {
            "standoff": 15
           },
           "zerolinecolor": "white",
           "zerolinewidth": 2
          }
         }
        },
        "updatemenus": [
         {
          "buttons": [
           {
            "args": [
             null,
             {
              "frame": {
               "duration": 500,
               "redraw": false
              },
              "fromcurrent": true,
              "mode": "immediate",
              "transition": {
               "duration": 500,
               "easing": "linear"
              }
             }
            ],
            "label": "&#9654;",
            "method": "animate"
           },
           {
            "args": [
             [
              null
             ],
             {
              "frame": {
               "duration": 0,
               "redraw": false
              },
              "fromcurrent": true,
              "mode": "immediate",
              "transition": {
               "duration": 0,
               "easing": "linear"
              }
             }
            ],
            "label": "&#9724;",
            "method": "animate"
           }
          ],
          "direction": "left",
          "pad": {
           "r": 10,
           "t": 70
          },
          "showactive": false,
          "type": "buttons",
          "x": 0.1,
          "xanchor": "right",
          "y": 0,
          "yanchor": "top"
         }
        ],
        "xaxis": {
         "anchor": "y",
         "categoryarray": [
          2017,
          2018,
          2019,
          2020,
          2021
         ],
         "categoryorder": "array",
         "domain": [
          0,
          1
         ],
         "range": [
          2,
          5
         ],
         "title": {
          "text": "season"
         },
         "type": "log"
        },
        "yaxis": {
         "anchor": "x",
         "domain": [
          0,
          1
         ],
         "range": [
          25,
          90
         ],
         "title": {
          "text": "winner_home"
         }
        }
       }
      }
     },
     "metadata": {},
     "output_type": "display_data"
    }
   ],
   "source": [
    "fig = px.scatter(df, x = \"season\", y = \"winner_home\", animation_frame = \"season\", animation_group = \"hometeam\",\n",
    "                    size = \"winner_home\", color = \"hometeam\", hover_name = \"hometeam\",\n",
    "                    log_x = True, size_max = 55, range_x = [100,100000], range_y = [25,90])\n",
    "\n",
    "fig.show()"
   ]
  },
  {
   "cell_type": "code",
   "execution_count": null,
   "metadata": {},
   "outputs": [],
   "source": []
  }
 ],
 "metadata": {
  "kernelspec": {
   "display_name": "Python 3.10.4 64-bit",
   "language": "python",
   "name": "python3"
  },
  "language_info": {
   "codemirror_mode": {
    "name": "ipython",
    "version": 3
   },
   "file_extension": ".py",
   "mimetype": "text/x-python",
   "name": "python",
   "nbconvert_exporter": "python",
   "pygments_lexer": "ipython3",
   "version": "3.10.4"
  },
  "orig_nbformat": 4,
  "vscode": {
   "interpreter": {
    "hash": "66c686b9540e799d23c4c16a319b66ea70292b5b9e0c8a9aa60650cb753842e8"
   }
  }
 },
 "nbformat": 4,
 "nbformat_minor": 2
}
