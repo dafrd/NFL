{
 "cells": [
  {
   "cell_type": "code",
   "execution_count": 4,
   "metadata": {},
   "outputs": [],
   "source": [
    "import pandas as pd\n",
    "import os"
   ]
  },
  {
   "cell_type": "code",
   "execution_count": 5,
   "metadata": {},
   "outputs": [
    {
     "data": {
      "text/plain": [
       "['espn_rosters.json', 'nfl', 'src', 'test.ipynb', 'venv']"
      ]
     },
     "execution_count": 5,
     "metadata": {},
     "output_type": "execute_result"
    }
   ],
   "source": [
    "os.listdir(\"../../\")"
   ]
  },
  {
   "cell_type": "code",
   "execution_count": 8,
   "metadata": {},
   "outputs": [],
   "source": [
    "df = pd.read_json(\"../../espn_rosters.json\")"
   ]
  },
  {
   "cell_type": "code",
   "execution_count": 9,
   "metadata": {},
   "outputs": [
    {
     "data": {
      "text/html": [
       "<div>\n",
       "<style scoped>\n",
       "    .dataframe tbody tr th:only-of-type {\n",
       "        vertical-align: middle;\n",
       "    }\n",
       "\n",
       "    .dataframe tbody tr th {\n",
       "        vertical-align: top;\n",
       "    }\n",
       "\n",
       "    .dataframe thead th {\n",
       "        text-align: right;\n",
       "    }\n",
       "</style>\n",
       "<table border=\"1\" class=\"dataframe\">\n",
       "  <thead>\n",
       "    <tr style=\"text-align: right;\">\n",
       "      <th></th>\n",
       "      <th>game_id</th>\n",
       "      <th>team</th>\n",
       "      <th>player_name</th>\n",
       "      <th>player_url</th>\n",
       "      <th>pass completion</th>\n",
       "      <th>pass yds</th>\n",
       "      <th>pass avg</th>\n",
       "      <th>pass td</th>\n",
       "      <th>pass int</th>\n",
       "      <th>sacks</th>\n",
       "      <th>...</th>\n",
       "      <th>kicking pct</th>\n",
       "      <th>kicking long</th>\n",
       "      <th>kicking xp</th>\n",
       "      <th>kicking pts</th>\n",
       "      <th>punting no</th>\n",
       "      <th>punting yds</th>\n",
       "      <th>punting avg</th>\n",
       "      <th>punting tb</th>\n",
       "      <th>punting in 20</th>\n",
       "      <th>punting long</th>\n",
       "    </tr>\n",
       "  </thead>\n",
       "  <tbody>\n",
       "    <tr>\n",
       "      <th>0</th>\n",
       "      <td>401030690</td>\n",
       "      <td>Ravens</td>\n",
       "      <td>Kenny Young</td>\n",
       "      <td>https://www.espn.com/nfl/player/_/id/3134310/k...</td>\n",
       "      <td>None</td>\n",
       "      <td>NaN</td>\n",
       "      <td>NaN</td>\n",
       "      <td>NaN</td>\n",
       "      <td>NaN</td>\n",
       "      <td>None</td>\n",
       "      <td>...</td>\n",
       "      <td>NaN</td>\n",
       "      <td>NaN</td>\n",
       "      <td>None</td>\n",
       "      <td>NaN</td>\n",
       "      <td>NaN</td>\n",
       "      <td>NaN</td>\n",
       "      <td>NaN</td>\n",
       "      <td>NaN</td>\n",
       "      <td>NaN</td>\n",
       "      <td>NaN</td>\n",
       "    </tr>\n",
       "    <tr>\n",
       "      <th>1</th>\n",
       "      <td>401030690</td>\n",
       "      <td>Ravens</td>\n",
       "      <td>Willie Snead IV</td>\n",
       "      <td>https://www.espn.com/nfl/player/_/id/17258/wil...</td>\n",
       "      <td>None</td>\n",
       "      <td>NaN</td>\n",
       "      <td>NaN</td>\n",
       "      <td>NaN</td>\n",
       "      <td>NaN</td>\n",
       "      <td>None</td>\n",
       "      <td>...</td>\n",
       "      <td>NaN</td>\n",
       "      <td>NaN</td>\n",
       "      <td>None</td>\n",
       "      <td>NaN</td>\n",
       "      <td>NaN</td>\n",
       "      <td>NaN</td>\n",
       "      <td>NaN</td>\n",
       "      <td>NaN</td>\n",
       "      <td>NaN</td>\n",
       "      <td>NaN</td>\n",
       "    </tr>\n",
       "    <tr>\n",
       "      <th>2</th>\n",
       "      <td>400951566</td>\n",
       "      <td>Chiefs</td>\n",
       "      <td>Dee Ford</td>\n",
       "      <td>https://www.espn.com/nfl/player/_/id/16707/dee...</td>\n",
       "      <td>None</td>\n",
       "      <td>NaN</td>\n",
       "      <td>NaN</td>\n",
       "      <td>NaN</td>\n",
       "      <td>NaN</td>\n",
       "      <td>None</td>\n",
       "      <td>...</td>\n",
       "      <td>NaN</td>\n",
       "      <td>NaN</td>\n",
       "      <td>None</td>\n",
       "      <td>NaN</td>\n",
       "      <td>NaN</td>\n",
       "      <td>NaN</td>\n",
       "      <td>NaN</td>\n",
       "      <td>NaN</td>\n",
       "      <td>NaN</td>\n",
       "      <td>NaN</td>\n",
       "    </tr>\n",
       "    <tr>\n",
       "      <th>3</th>\n",
       "      <td>401030690</td>\n",
       "      <td>Ravens</td>\n",
       "      <td>Patrick Onwuasor</td>\n",
       "      <td>https://www.espn.com/nfl/player/_/id/2576761/p...</td>\n",
       "      <td>None</td>\n",
       "      <td>NaN</td>\n",
       "      <td>NaN</td>\n",
       "      <td>NaN</td>\n",
       "      <td>NaN</td>\n",
       "      <td>None</td>\n",
       "      <td>...</td>\n",
       "      <td>NaN</td>\n",
       "      <td>NaN</td>\n",
       "      <td>None</td>\n",
       "      <td>NaN</td>\n",
       "      <td>NaN</td>\n",
       "      <td>NaN</td>\n",
       "      <td>NaN</td>\n",
       "      <td>NaN</td>\n",
       "      <td>NaN</td>\n",
       "      <td>NaN</td>\n",
       "    </tr>\n",
       "    <tr>\n",
       "      <th>4</th>\n",
       "      <td>400951566</td>\n",
       "      <td>Chiefs</td>\n",
       "      <td>Eric Berry</td>\n",
       "      <td>https://www.espn.com/nfl/player/_/id/13252/eri...</td>\n",
       "      <td>None</td>\n",
       "      <td>NaN</td>\n",
       "      <td>NaN</td>\n",
       "      <td>NaN</td>\n",
       "      <td>NaN</td>\n",
       "      <td>None</td>\n",
       "      <td>...</td>\n",
       "      <td>NaN</td>\n",
       "      <td>NaN</td>\n",
       "      <td>None</td>\n",
       "      <td>NaN</td>\n",
       "      <td>NaN</td>\n",
       "      <td>NaN</td>\n",
       "      <td>NaN</td>\n",
       "      <td>NaN</td>\n",
       "      <td>NaN</td>\n",
       "      <td>NaN</td>\n",
       "    </tr>\n",
       "  </tbody>\n",
       "</table>\n",
       "<p>5 rows × 57 columns</p>\n",
       "</div>"
      ],
      "text/plain": [
       "     game_id    team       player_name  \\\n",
       "0  401030690  Ravens       Kenny Young   \n",
       "1  401030690  Ravens   Willie Snead IV   \n",
       "2  400951566  Chiefs          Dee Ford   \n",
       "3  401030690  Ravens  Patrick Onwuasor   \n",
       "4  400951566  Chiefs        Eric Berry   \n",
       "\n",
       "                                          player_url pass completion  \\\n",
       "0  https://www.espn.com/nfl/player/_/id/3134310/k...            None   \n",
       "1  https://www.espn.com/nfl/player/_/id/17258/wil...            None   \n",
       "2  https://www.espn.com/nfl/player/_/id/16707/dee...            None   \n",
       "3  https://www.espn.com/nfl/player/_/id/2576761/p...            None   \n",
       "4  https://www.espn.com/nfl/player/_/id/13252/eri...            None   \n",
       "\n",
       "   pass yds  pass avg  pass td  pass int sacks  ... kicking pct  kicking long  \\\n",
       "0       NaN       NaN      NaN       NaN  None  ...         NaN           NaN   \n",
       "1       NaN       NaN      NaN       NaN  None  ...         NaN           NaN   \n",
       "2       NaN       NaN      NaN       NaN  None  ...         NaN           NaN   \n",
       "3       NaN       NaN      NaN       NaN  None  ...         NaN           NaN   \n",
       "4       NaN       NaN      NaN       NaN  None  ...         NaN           NaN   \n",
       "\n",
       "   kicking xp  kicking pts  punting no  punting yds  punting avg  punting tb  \\\n",
       "0        None          NaN         NaN          NaN          NaN         NaN   \n",
       "1        None          NaN         NaN          NaN          NaN         NaN   \n",
       "2        None          NaN         NaN          NaN          NaN         NaN   \n",
       "3        None          NaN         NaN          NaN          NaN         NaN   \n",
       "4        None          NaN         NaN          NaN          NaN         NaN   \n",
       "\n",
       "   punting in 20  punting long  \n",
       "0            NaN           NaN  \n",
       "1            NaN           NaN  \n",
       "2            NaN           NaN  \n",
       "3            NaN           NaN  \n",
       "4            NaN           NaN  \n",
       "\n",
       "[5 rows x 57 columns]"
      ]
     },
     "execution_count": 9,
     "metadata": {},
     "output_type": "execute_result"
    }
   ],
   "source": [
    "df.head()"
   ]
  },
  {
   "cell_type": "code",
   "execution_count": 11,
   "metadata": {},
   "outputs": [
    {
     "data": {
      "text/plain": [
       "(79625, 57)"
      ]
     },
     "execution_count": 11,
     "metadata": {},
     "output_type": "execute_result"
    }
   ],
   "source": [
    "df.shape"
   ]
  },
  {
   "cell_type": "code",
   "execution_count": 13,
   "metadata": {},
   "outputs": [],
   "source": [
    "url_unique = pd.unique(df[\"player_url\"])"
   ]
  },
  {
   "cell_type": "code",
   "execution_count": 15,
   "metadata": {},
   "outputs": [
    {
     "data": {
      "text/plain": [
       "4619"
      ]
     },
     "execution_count": 15,
     "metadata": {},
     "output_type": "execute_result"
    }
   ],
   "source": [
    "len(url_unique)"
   ]
  },
  {
   "cell_type": "code",
   "execution_count": 16,
   "metadata": {},
   "outputs": [
    {
     "data": {
      "text/plain": [
       "array(['https://www.espn.com/nfl/player/_/id/3134310/kenny-young',\n",
       "       'https://www.espn.com/nfl/player/_/id/17258/willie-snead-iv',\n",
       "       'https://www.espn.com/nfl/player/_/id/16707/dee-ford', ...,\n",
       "       'http://www.espn.com/nfl/player/_/id/3048663/breon-borders',\n",
       "       'https://www.espn.com/nfl/player/_/id/4369247/mac-mccain-iii',\n",
       "       'http://www.espn.com/nfl/player/_/id/15241/aaron-brewer'],\n",
       "      dtype=object)"
      ]
     },
     "execution_count": 16,
     "metadata": {},
     "output_type": "execute_result"
    }
   ],
   "source": [
    "url_unique"
   ]
  },
  {
   "cell_type": "code",
   "execution_count": 23,
   "metadata": {},
   "outputs": [],
   "source": [
    "with open('url_unique_players.txt', 'w') as f:\n",
    "    for element in url_unique:\n",
    "        f.write(element + \"\\n\")\n"
   ]
  }
 ],
 "metadata": {
  "kernelspec": {
   "display_name": "Python 3.10.4 64-bit",
   "language": "python",
   "name": "python3"
  },
  "language_info": {
   "codemirror_mode": {
    "name": "ipython",
    "version": 3
   },
   "file_extension": ".py",
   "mimetype": "text/x-python",
   "name": "python",
   "nbconvert_exporter": "python",
   "pygments_lexer": "ipython3",
   "version": "3.10.4"
  },
  "orig_nbformat": 4,
  "vscode": {
   "interpreter": {
    "hash": "4574c92c81b7a4447a4b895dbf630721cb3b758132caf039eedf7927fb67883f"
   }
  }
 },
 "nbformat": 4,
 "nbformat_minor": 2
}
