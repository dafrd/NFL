{
 "cells": [
  {
   "cell_type": "markdown",
   "metadata": {},
   "source": [
    "### **Notebook objective**: create a rating per team and then have a running mean for each team for season 22/23 <br> - 6 rates per team : passing, tackles, rushing, sacks, receiving, interceptions <br> - Running mean : the running mean for the last 5 games will define the rating features for the prediction model"
   ]
  },
  {
   "cell_type": "code",
   "execution_count": 50,
   "metadata": {},
   "outputs": [],
   "source": [
    "import pandas as pd\n",
    "import numpy as np\n",
    "import requests\n",
    "import os\n",
    "import json\n",
    "\n",
    "pd.options.mode.chained_assignment = None  # default='warn'\n",
    "\n",
    "df = pd.read_json(\"espn_rosters (1).json\")"
   ]
  },
  {
   "cell_type": "markdown",
   "metadata": {},
   "source": [
    "#### DATA CLEANING"
   ]
  },
  {
   "cell_type": "code",
   "execution_count": 51,
   "metadata": {},
   "outputs": [
    {
     "data": {
      "text/html": [
       "<div>\n",
       "<style scoped>\n",
       "    .dataframe tbody tr th:only-of-type {\n",
       "        vertical-align: middle;\n",
       "    }\n",
       "\n",
       "    .dataframe tbody tr th {\n",
       "        vertical-align: top;\n",
       "    }\n",
       "\n",
       "    .dataframe thead th {\n",
       "        text-align: right;\n",
       "    }\n",
       "</style>\n",
       "<table border=\"1\" class=\"dataframe\">\n",
       "  <thead>\n",
       "    <tr style=\"text-align: right;\">\n",
       "      <th></th>\n",
       "      <th>game_id</th>\n",
       "      <th>team</th>\n",
       "      <th>player_name</th>\n",
       "      <th>player_url</th>\n",
       "      <th>pass_completion</th>\n",
       "      <th>pass_yds</th>\n",
       "      <th>pass_avg</th>\n",
       "      <th>pass_td</th>\n",
       "      <th>pass_int</th>\n",
       "      <th>sacks</th>\n",
       "      <th>...</th>\n",
       "      <th>kicking_pct</th>\n",
       "      <th>kicking_long</th>\n",
       "      <th>kicking_xp</th>\n",
       "      <th>kicking_pts</th>\n",
       "      <th>punting_no</th>\n",
       "      <th>punting_yds</th>\n",
       "      <th>punting_avg</th>\n",
       "      <th>punting_tb</th>\n",
       "      <th>punting_in_20</th>\n",
       "      <th>punting_long</th>\n",
       "    </tr>\n",
       "  </thead>\n",
       "  <tbody>\n",
       "    <tr>\n",
       "      <th>0</th>\n",
       "      <td>401220131</td>\n",
       "      <td>Dolphins</td>\n",
       "      <td>Zach Sieler</td>\n",
       "      <td>https://www.espn.com/nfl/player/_/id/3057956/z...</td>\n",
       "      <td>None</td>\n",
       "      <td>NaN</td>\n",
       "      <td>NaN</td>\n",
       "      <td>NaN</td>\n",
       "      <td>NaN</td>\n",
       "      <td>None</td>\n",
       "      <td>...</td>\n",
       "      <td>NaN</td>\n",
       "      <td>NaN</td>\n",
       "      <td>None</td>\n",
       "      <td>NaN</td>\n",
       "      <td>NaN</td>\n",
       "      <td>NaN</td>\n",
       "      <td>NaN</td>\n",
       "      <td>NaN</td>\n",
       "      <td>NaN</td>\n",
       "      <td>NaN</td>\n",
       "    </tr>\n",
       "    <tr>\n",
       "      <th>1</th>\n",
       "      <td>401220131</td>\n",
       "      <td>Dolphins</td>\n",
       "      <td>Patrick Laird</td>\n",
       "      <td>https://www.espn.com/nfl/player/_/id/3127211/p...</td>\n",
       "      <td>None</td>\n",
       "      <td>NaN</td>\n",
       "      <td>NaN</td>\n",
       "      <td>NaN</td>\n",
       "      <td>NaN</td>\n",
       "      <td>None</td>\n",
       "      <td>...</td>\n",
       "      <td>NaN</td>\n",
       "      <td>NaN</td>\n",
       "      <td>None</td>\n",
       "      <td>NaN</td>\n",
       "      <td>NaN</td>\n",
       "      <td>NaN</td>\n",
       "      <td>NaN</td>\n",
       "      <td>NaN</td>\n",
       "      <td>NaN</td>\n",
       "      <td>NaN</td>\n",
       "    </tr>\n",
       "    <tr>\n",
       "      <th>2</th>\n",
       "      <td>401220313</td>\n",
       "      <td>Seahawks</td>\n",
       "      <td>Chris Carson</td>\n",
       "      <td>https://www.espn.com/nfl/player/_/id/3919596/c...</td>\n",
       "      <td>None</td>\n",
       "      <td>NaN</td>\n",
       "      <td>NaN</td>\n",
       "      <td>NaN</td>\n",
       "      <td>NaN</td>\n",
       "      <td>None</td>\n",
       "      <td>...</td>\n",
       "      <td>NaN</td>\n",
       "      <td>NaN</td>\n",
       "      <td>None</td>\n",
       "      <td>NaN</td>\n",
       "      <td>NaN</td>\n",
       "      <td>NaN</td>\n",
       "      <td>NaN</td>\n",
       "      <td>NaN</td>\n",
       "      <td>NaN</td>\n",
       "      <td>NaN</td>\n",
       "    </tr>\n",
       "    <tr>\n",
       "      <th>3</th>\n",
       "      <td>401220131</td>\n",
       "      <td>Dolphins</td>\n",
       "      <td>Jerome Baker</td>\n",
       "      <td>https://www.espn.com/nfl/player/_/id/3915507/j...</td>\n",
       "      <td>None</td>\n",
       "      <td>NaN</td>\n",
       "      <td>NaN</td>\n",
       "      <td>NaN</td>\n",
       "      <td>NaN</td>\n",
       "      <td>None</td>\n",
       "      <td>...</td>\n",
       "      <td>NaN</td>\n",
       "      <td>NaN</td>\n",
       "      <td>None</td>\n",
       "      <td>NaN</td>\n",
       "      <td>NaN</td>\n",
       "      <td>NaN</td>\n",
       "      <td>NaN</td>\n",
       "      <td>NaN</td>\n",
       "      <td>NaN</td>\n",
       "      <td>NaN</td>\n",
       "    </tr>\n",
       "    <tr>\n",
       "      <th>4</th>\n",
       "      <td>401220225</td>\n",
       "      <td>Texans</td>\n",
       "      <td>Randall Cobb</td>\n",
       "      <td>https://www.espn.com/nfl/player/_/id/14053/ran...</td>\n",
       "      <td>None</td>\n",
       "      <td>NaN</td>\n",
       "      <td>NaN</td>\n",
       "      <td>NaN</td>\n",
       "      <td>NaN</td>\n",
       "      <td>None</td>\n",
       "      <td>...</td>\n",
       "      <td>NaN</td>\n",
       "      <td>NaN</td>\n",
       "      <td>None</td>\n",
       "      <td>NaN</td>\n",
       "      <td>NaN</td>\n",
       "      <td>NaN</td>\n",
       "      <td>NaN</td>\n",
       "      <td>NaN</td>\n",
       "      <td>NaN</td>\n",
       "      <td>NaN</td>\n",
       "    </tr>\n",
       "  </tbody>\n",
       "</table>\n",
       "<p>5 rows × 57 columns</p>\n",
       "</div>"
      ],
      "text/plain": [
       "     game_id      team    player_name  \\\n",
       "0  401220131  Dolphins    Zach Sieler   \n",
       "1  401220131  Dolphins  Patrick Laird   \n",
       "2  401220313  Seahawks   Chris Carson   \n",
       "3  401220131  Dolphins   Jerome Baker   \n",
       "4  401220225    Texans   Randall Cobb   \n",
       "\n",
       "                                          player_url pass_completion  \\\n",
       "0  https://www.espn.com/nfl/player/_/id/3057956/z...            None   \n",
       "1  https://www.espn.com/nfl/player/_/id/3127211/p...            None   \n",
       "2  https://www.espn.com/nfl/player/_/id/3919596/c...            None   \n",
       "3  https://www.espn.com/nfl/player/_/id/3915507/j...            None   \n",
       "4  https://www.espn.com/nfl/player/_/id/14053/ran...            None   \n",
       "\n",
       "   pass_yds  pass_avg  pass_td  pass_int sacks  ... kicking_pct  kicking_long  \\\n",
       "0       NaN       NaN      NaN       NaN  None  ...         NaN           NaN   \n",
       "1       NaN       NaN      NaN       NaN  None  ...         NaN           NaN   \n",
       "2       NaN       NaN      NaN       NaN  None  ...         NaN           NaN   \n",
       "3       NaN       NaN      NaN       NaN  None  ...         NaN           NaN   \n",
       "4       NaN       NaN      NaN       NaN  None  ...         NaN           NaN   \n",
       "\n",
       "   kicking_xp  kicking_pts  punting_no  punting_yds  punting_avg  punting_tb  \\\n",
       "0        None          NaN         NaN          NaN          NaN         NaN   \n",
       "1        None          NaN         NaN          NaN          NaN         NaN   \n",
       "2        None          NaN         NaN          NaN          NaN         NaN   \n",
       "3        None          NaN         NaN          NaN          NaN         NaN   \n",
       "4        None          NaN         NaN          NaN          NaN         NaN   \n",
       "\n",
       "   punting_in_20  punting_long  \n",
       "0            NaN           NaN  \n",
       "1            NaN           NaN  \n",
       "2            NaN           NaN  \n",
       "3            NaN           NaN  \n",
       "4            NaN           NaN  \n",
       "\n",
       "[5 rows x 57 columns]"
      ]
     },
     "execution_count": 51,
     "metadata": {},
     "output_type": "execute_result"
    }
   ],
   "source": [
    "#Replace \" \" in columns' name by \"_\"\n",
    "df.columns = df.columns.str.replace(' ','_')\n",
    "df.head()"
   ]
  },
  {
   "cell_type": "markdown",
   "metadata": {},
   "source": [
    "##### Missing values"
   ]
  },
  {
   "cell_type": "code",
   "execution_count": 52,
   "metadata": {},
   "outputs": [
    {
     "data": {
      "text/plain": [
       "['game_id', 'team', 'player_name', 'player_url']"
      ]
     },
     "metadata": {},
     "output_type": "display_data"
    },
    {
     "data": {
      "text/plain": [
       "game_id              0.0\n",
       "team                 0.0\n",
       "player_name          0.0\n",
       "player_url           0.0\n",
       "pass_completion      0.0\n",
       "pass_yds             0.0\n",
       "pass_avg             0.0\n",
       "pass_td              0.0\n",
       "pass_int             0.0\n",
       "sacks                0.0\n",
       "qbr                  0.0\n",
       "rtg                  0.0\n",
       "rush_car             0.0\n",
       "rush_yds             0.0\n",
       "rush_avg             0.0\n",
       "rush_td              0.0\n",
       "rush_long            0.0\n",
       "receptions           0.0\n",
       "rec_yds              0.0\n",
       "rec_avg              0.0\n",
       "rec_td               0.0\n",
       "rec_long             0.0\n",
       "rec_tgs              0.0\n",
       "fumbles              0.0\n",
       "fumbles_lost         0.0\n",
       "fumbles_rec          0.0\n",
       "defense_tot          0.0\n",
       "defense_solo         0.0\n",
       "defense_sacks        0.0\n",
       "defense_tfl          0.0\n",
       "defense_pd           0.0\n",
       "defense_qb_hits      0.0\n",
       "defense_td           0.0\n",
       "interceptions        0.0\n",
       "interceptions_yds    0.0\n",
       "interceptions_td     0.0\n",
       "kicks_return_no      0.0\n",
       "kicks_return_yds     0.0\n",
       "kicks_return_avg     0.0\n",
       "kicks_return_long    0.0\n",
       "kicks_return_td      0.0\n",
       "punt_return_no       0.0\n",
       "punt_return_yds      0.0\n",
       "punt_return_avg      0.0\n",
       "punt_return_long     0.0\n",
       "punt_return_td       0.0\n",
       "kicking_fg           0.0\n",
       "kicking_pct          0.0\n",
       "kicking_long         0.0\n",
       "kicking_xp           0.0\n",
       "kicking_pts          0.0\n",
       "punting_no           0.0\n",
       "punting_yds          0.0\n",
       "punting_avg          0.0\n",
       "punting_tb           0.0\n",
       "punting_in_20        0.0\n",
       "punting_long         0.0\n",
       "dtype: float64"
      ]
     },
     "metadata": {},
     "output_type": "display_data"
    }
   ],
   "source": [
    "#Verification of the columns with no missing value\n",
    "clean_columns = []\n",
    "for column in df.columns:\n",
    "    if 100*df[column].isnull().sum()/df.shape[0] == 0.000000 :\n",
    "        clean_columns.append(column)\n",
    "display(clean_columns)\n",
    "\n",
    "#Replace all the missing value with 0 because the NaN means the metrics is not relevent for the concerned player\n",
    "df = df.fillna(0)\n",
    "\n",
    "#Check of the percentage of missing values after cleaning\n",
    "display(100*df.isnull().sum()/df.shape[0])"
   ]
  },
  {
   "cell_type": "code",
   "execution_count": null,
   "metadata": {},
   "outputs": [],
   "source": []
  },
  {
   "cell_type": "markdown",
   "metadata": {},
   "source": [
    "##### Columns' types"
   ]
  },
  {
   "cell_type": "code",
   "execution_count": 53,
   "metadata": {},
   "outputs": [],
   "source": [
    "#Pass completion: transform \"x/y\" (str) into a ratio (float)\n",
    "df['pc_1'] = df['pass_completion'].apply(lambda x : x.split('/')[0] if x!=0 else x)\n",
    "df['pc_2'] = df['pass_completion'].apply(lambda x : x.split('/')[1] if x!=0 else x)\n",
    "\n",
    "#Convert str to float in pc_1 and pc_2 before looping\n",
    "df['pc_1'] = df['pc_1'].astype(float)\n",
    "df['pc_2'] = df['pc_2'].astype(float)\n",
    "\n",
    "for i in range(len(df)):\n",
    "    if df['pc_2'].iloc[i] != 0 :\n",
    "        df['pass_completion'].iloc[i] = df['pc_1'].iloc[i] / df['pc_2'].iloc[i]\n",
    "    else: df['pass_completion'].iloc[i] = 0\n",
    "\n",
    "#Sacks : transform \"x-y\" (str) into a ratio (float)\n",
    "df['sacks_1'] = df['sacks'].apply(lambda x : x.split('-')[0] if x!=0 else x)\n",
    "df['sacks_2'] = df['sacks'].apply(lambda x : x.split('-')[1] if x!=0 else x)\n",
    "\n",
    "#Convert str to float in sacks_1 and sacks_2 before looping\n",
    "df['sacks_1'] = df['sacks_1'].astype(float)\n",
    "df['sacks_2'] = df['sacks_2'].astype(float)\n",
    "\n",
    "for i in range(len(df)):\n",
    "    if df['sacks_2'].iloc[i] != 0:\n",
    "        df['sacks'].iloc[i] = df['sacks_1'].iloc[i] / df['sacks_2'].iloc[i]\n",
    "    else: df['sacks'].iloc[i] = 0"
   ]
  },
  {
   "cell_type": "code",
   "execution_count": 57,
   "metadata": {},
   "outputs": [],
   "source": [
    "df['pass_completion']=df.pass_completion.apply(lambda x : float(x))\n",
    "df['sacks']=df.sacks.apply(lambda x : float(x))"
   ]
  },
  {
   "cell_type": "code",
   "execution_count": 59,
   "metadata": {},
   "outputs": [],
   "source": [
    "df['qbr']=df.sacks.apply(lambda x : float(x))"
   ]
  },
  {
   "cell_type": "code",
   "execution_count": 60,
   "metadata": {},
   "outputs": [
    {
     "name": "stdout",
     "output_type": "stream",
     "text": [
      "<class 'pandas.core.frame.DataFrame'>\n",
      "RangeIndex: 79606 entries, 0 to 79605\n",
      "Data columns (total 61 columns):\n",
      " #   Column             Non-Null Count  Dtype  \n",
      "---  ------             --------------  -----  \n",
      " 0   game_id            79606 non-null  int64  \n",
      " 1   team               79606 non-null  object \n",
      " 2   player_name        79606 non-null  object \n",
      " 3   player_url         79606 non-null  object \n",
      " 4   pass_completion    79606 non-null  float64\n",
      " 5   pass_yds           79606 non-null  float64\n",
      " 6   pass_avg           79606 non-null  float64\n",
      " 7   pass_td            79606 non-null  float64\n",
      " 8   pass_int           79606 non-null  float64\n",
      " 9   sacks              79606 non-null  float64\n",
      " 10  qbr                79606 non-null  float64\n",
      " 11  rtg                79606 non-null  float64\n",
      " 12  rush_car           79606 non-null  float64\n",
      " 13  rush_yds           79606 non-null  float64\n",
      " 14  rush_avg           79606 non-null  float64\n",
      " 15  rush_td            79606 non-null  float64\n",
      " 16  rush_long          79606 non-null  float64\n",
      " 17  receptions         79606 non-null  float64\n",
      " 18  rec_yds            79606 non-null  float64\n",
      " 19  rec_avg            79606 non-null  float64\n",
      " 20  rec_td             79606 non-null  float64\n",
      " 21  rec_long           79606 non-null  float64\n",
      " 22  rec_tgs            79606 non-null  float64\n",
      " 23  fumbles            79606 non-null  float64\n",
      " 24  fumbles_lost       79606 non-null  float64\n",
      " 25  fumbles_rec        79606 non-null  float64\n",
      " 26  defense_tot        79606 non-null  float64\n",
      " 27  defense_solo       79606 non-null  float64\n",
      " 28  defense_sacks      79606 non-null  float64\n",
      " 29  defense_tfl        79606 non-null  float64\n",
      " 30  defense_pd         79606 non-null  float64\n",
      " 31  defense_qb_hits    79606 non-null  float64\n",
      " 32  defense_td         79606 non-null  float64\n",
      " 33  interceptions      79606 non-null  float64\n",
      " 34  interceptions_yds  79606 non-null  float64\n",
      " 35  interceptions_td   79606 non-null  float64\n",
      " 36  kicks_return_no    79606 non-null  float64\n",
      " 37  kicks_return_yds   79606 non-null  float64\n",
      " 38  kicks_return_avg   79606 non-null  float64\n",
      " 39  kicks_return_long  79606 non-null  float64\n",
      " 40  kicks_return_td    79606 non-null  float64\n",
      " 41  punt_return_no     79606 non-null  float64\n",
      " 42  punt_return_yds    79606 non-null  float64\n",
      " 43  punt_return_avg    79606 non-null  float64\n",
      " 44  punt_return_long   79606 non-null  float64\n",
      " 45  punt_return_td     79606 non-null  float64\n",
      " 46  kicking_fg         79606 non-null  object \n",
      " 47  kicking_pct        79606 non-null  float64\n",
      " 48  kicking_long       79606 non-null  float64\n",
      " 49  kicking_xp         79606 non-null  object \n",
      " 50  kicking_pts        79606 non-null  float64\n",
      " 51  punting_no         79606 non-null  float64\n",
      " 52  punting_yds        79606 non-null  float64\n",
      " 53  punting_avg        79606 non-null  float64\n",
      " 54  punting_tb         79606 non-null  float64\n",
      " 55  punting_in_20      79606 non-null  float64\n",
      " 56  punting_long       79606 non-null  float64\n",
      " 57  pc_1               79606 non-null  float64\n",
      " 58  pc_2               79606 non-null  float64\n",
      " 59  sacks_1            79606 non-null  float64\n",
      " 60  sacks_2            79606 non-null  float64\n",
      "dtypes: float64(55), int64(1), object(5)\n",
      "memory usage: 37.0+ MB\n"
     ]
    }
   ],
   "source": [
    "#Check of the global datatypes\n",
    "df.info()"
   ]
  },
  {
   "cell_type": "code",
   "execution_count": 61,
   "metadata": {},
   "outputs": [],
   "source": [
    "#Drop useless preprocessing columns (pc_1, pc_2, sacks_1, sacks_2)\n",
    "df = df.drop(columns=['pc_1', 'pc_2', 'sacks_1', 'sacks_2'], axis=1)"
   ]
  },
  {
   "cell_type": "markdown",
   "metadata": {},
   "source": [
    "##### Total metrics by player"
   ]
  },
  {
   "cell_type": "code",
   "execution_count": 62,
   "metadata": {},
   "outputs": [
    {
     "name": "stderr",
     "output_type": "stream",
     "text": [
      "C:\\Users\\alice\\AppData\\Local\\Temp\\ipykernel_7752\\3987183445.py:16: FutureWarning: Dropping of nuisance columns in DataFrame reductions (with 'numeric_only=None') is deprecated; in a future version this will raise TypeError.  Select only valid columns before calling the reduction.\n",
      "  df['rating_player'] = df[metrics].sum(axis=1)\n"
     ]
    },
    {
     "data": {
      "text/html": [
       "<div>\n",
       "<style scoped>\n",
       "    .dataframe tbody tr th:only-of-type {\n",
       "        vertical-align: middle;\n",
       "    }\n",
       "\n",
       "    .dataframe tbody tr th {\n",
       "        vertical-align: top;\n",
       "    }\n",
       "\n",
       "    .dataframe thead th {\n",
       "        text-align: right;\n",
       "    }\n",
       "</style>\n",
       "<table border=\"1\" class=\"dataframe\">\n",
       "  <thead>\n",
       "    <tr style=\"text-align: right;\">\n",
       "      <th></th>\n",
       "      <th>game_id</th>\n",
       "      <th>team</th>\n",
       "      <th>player_name</th>\n",
       "      <th>player_url</th>\n",
       "      <th>pass_completion</th>\n",
       "      <th>pass_yds</th>\n",
       "      <th>pass_avg</th>\n",
       "      <th>pass_td</th>\n",
       "      <th>pass_int</th>\n",
       "      <th>sacks</th>\n",
       "      <th>...</th>\n",
       "      <th>kicking_long</th>\n",
       "      <th>kicking_xp</th>\n",
       "      <th>kicking_pts</th>\n",
       "      <th>punting_no</th>\n",
       "      <th>punting_yds</th>\n",
       "      <th>punting_avg</th>\n",
       "      <th>punting_tb</th>\n",
       "      <th>punting_in_20</th>\n",
       "      <th>punting_long</th>\n",
       "      <th>rating_player</th>\n",
       "    </tr>\n",
       "  </thead>\n",
       "  <tbody>\n",
       "    <tr>\n",
       "      <th>0</th>\n",
       "      <td>401220131</td>\n",
       "      <td>Dolphins</td>\n",
       "      <td>Zach Sieler</td>\n",
       "      <td>https://www.espn.com/nfl/player/_/id/3057956/z...</td>\n",
       "      <td>0.0</td>\n",
       "      <td>0.0</td>\n",
       "      <td>0.0</td>\n",
       "      <td>0.0</td>\n",
       "      <td>0.0</td>\n",
       "      <td>0.0</td>\n",
       "      <td>...</td>\n",
       "      <td>0.0</td>\n",
       "      <td>0</td>\n",
       "      <td>0.0</td>\n",
       "      <td>0.0</td>\n",
       "      <td>0.0</td>\n",
       "      <td>0.0</td>\n",
       "      <td>0.0</td>\n",
       "      <td>0.0</td>\n",
       "      <td>0.0</td>\n",
       "      <td>1.0</td>\n",
       "    </tr>\n",
       "    <tr>\n",
       "      <th>1</th>\n",
       "      <td>401220131</td>\n",
       "      <td>Dolphins</td>\n",
       "      <td>Patrick Laird</td>\n",
       "      <td>https://www.espn.com/nfl/player/_/id/3127211/p...</td>\n",
       "      <td>0.0</td>\n",
       "      <td>0.0</td>\n",
       "      <td>0.0</td>\n",
       "      <td>0.0</td>\n",
       "      <td>0.0</td>\n",
       "      <td>0.0</td>\n",
       "      <td>...</td>\n",
       "      <td>0.0</td>\n",
       "      <td>0</td>\n",
       "      <td>0.0</td>\n",
       "      <td>0.0</td>\n",
       "      <td>0.0</td>\n",
       "      <td>0.0</td>\n",
       "      <td>0.0</td>\n",
       "      <td>0.0</td>\n",
       "      <td>0.0</td>\n",
       "      <td>23.5</td>\n",
       "    </tr>\n",
       "    <tr>\n",
       "      <th>2</th>\n",
       "      <td>401220313</td>\n",
       "      <td>Seahawks</td>\n",
       "      <td>Chris Carson</td>\n",
       "      <td>https://www.espn.com/nfl/player/_/id/3919596/c...</td>\n",
       "      <td>0.0</td>\n",
       "      <td>0.0</td>\n",
       "      <td>0.0</td>\n",
       "      <td>0.0</td>\n",
       "      <td>0.0</td>\n",
       "      <td>0.0</td>\n",
       "      <td>...</td>\n",
       "      <td>0.0</td>\n",
       "      <td>0</td>\n",
       "      <td>0.0</td>\n",
       "      <td>0.0</td>\n",
       "      <td>0.0</td>\n",
       "      <td>0.0</td>\n",
       "      <td>0.0</td>\n",
       "      <td>0.0</td>\n",
       "      <td>0.0</td>\n",
       "      <td>127.0</td>\n",
       "    </tr>\n",
       "    <tr>\n",
       "      <th>3</th>\n",
       "      <td>401220131</td>\n",
       "      <td>Dolphins</td>\n",
       "      <td>Jerome Baker</td>\n",
       "      <td>https://www.espn.com/nfl/player/_/id/3915507/j...</td>\n",
       "      <td>0.0</td>\n",
       "      <td>0.0</td>\n",
       "      <td>0.0</td>\n",
       "      <td>0.0</td>\n",
       "      <td>0.0</td>\n",
       "      <td>0.0</td>\n",
       "      <td>...</td>\n",
       "      <td>0.0</td>\n",
       "      <td>0</td>\n",
       "      <td>0.0</td>\n",
       "      <td>0.0</td>\n",
       "      <td>0.0</td>\n",
       "      <td>0.0</td>\n",
       "      <td>0.0</td>\n",
       "      <td>0.0</td>\n",
       "      <td>0.0</td>\n",
       "      <td>31.0</td>\n",
       "    </tr>\n",
       "    <tr>\n",
       "      <th>4</th>\n",
       "      <td>401220225</td>\n",
       "      <td>Texans</td>\n",
       "      <td>Randall Cobb</td>\n",
       "      <td>https://www.espn.com/nfl/player/_/id/14053/ran...</td>\n",
       "      <td>0.0</td>\n",
       "      <td>0.0</td>\n",
       "      <td>0.0</td>\n",
       "      <td>0.0</td>\n",
       "      <td>0.0</td>\n",
       "      <td>0.0</td>\n",
       "      <td>...</td>\n",
       "      <td>0.0</td>\n",
       "      <td>0</td>\n",
       "      <td>0.0</td>\n",
       "      <td>0.0</td>\n",
       "      <td>0.0</td>\n",
       "      <td>0.0</td>\n",
       "      <td>0.0</td>\n",
       "      <td>0.0</td>\n",
       "      <td>0.0</td>\n",
       "      <td>56.5</td>\n",
       "    </tr>\n",
       "  </tbody>\n",
       "</table>\n",
       "<p>5 rows × 58 columns</p>\n",
       "</div>"
      ],
      "text/plain": [
       "     game_id      team    player_name  \\\n",
       "0  401220131  Dolphins    Zach Sieler   \n",
       "1  401220131  Dolphins  Patrick Laird   \n",
       "2  401220313  Seahawks   Chris Carson   \n",
       "3  401220131  Dolphins   Jerome Baker   \n",
       "4  401220225    Texans   Randall Cobb   \n",
       "\n",
       "                                          player_url  pass_completion  \\\n",
       "0  https://www.espn.com/nfl/player/_/id/3057956/z...              0.0   \n",
       "1  https://www.espn.com/nfl/player/_/id/3127211/p...              0.0   \n",
       "2  https://www.espn.com/nfl/player/_/id/3919596/c...              0.0   \n",
       "3  https://www.espn.com/nfl/player/_/id/3915507/j...              0.0   \n",
       "4  https://www.espn.com/nfl/player/_/id/14053/ran...              0.0   \n",
       "\n",
       "   pass_yds  pass_avg  pass_td  pass_int  sacks  ...  kicking_long  \\\n",
       "0       0.0       0.0      0.0       0.0    0.0  ...           0.0   \n",
       "1       0.0       0.0      0.0       0.0    0.0  ...           0.0   \n",
       "2       0.0       0.0      0.0       0.0    0.0  ...           0.0   \n",
       "3       0.0       0.0      0.0       0.0    0.0  ...           0.0   \n",
       "4       0.0       0.0      0.0       0.0    0.0  ...           0.0   \n",
       "\n",
       "   kicking_xp  kicking_pts  punting_no  punting_yds  punting_avg  punting_tb  \\\n",
       "0           0          0.0         0.0          0.0          0.0         0.0   \n",
       "1           0          0.0         0.0          0.0          0.0         0.0   \n",
       "2           0          0.0         0.0          0.0          0.0         0.0   \n",
       "3           0          0.0         0.0          0.0          0.0         0.0   \n",
       "4           0          0.0         0.0          0.0          0.0         0.0   \n",
       "\n",
       "   punting_in_20  punting_long  rating_player  \n",
       "0            0.0           0.0            1.0  \n",
       "1            0.0           0.0           23.5  \n",
       "2            0.0           0.0          127.0  \n",
       "3            0.0           0.0           31.0  \n",
       "4            0.0           0.0           56.5  \n",
       "\n",
       "[5 rows x 58 columns]"
      ]
     },
     "execution_count": 62,
     "metadata": {},
     "output_type": "execute_result"
    }
   ],
   "source": [
    "#Create a new column with the sum of all available metrics per player\n",
    "metrics = ['pass_completion',\n",
    "       'pass_yds', 'pass_avg', 'pass_td', 'pass_int', 'sacks', 'qbr', 'rtg',\n",
    "       'rush_car', 'rush_yds', 'rush_avg', 'rush_td', 'rush_long',\n",
    "       'receptions', 'rec_yds', 'rec_avg', 'rec_td', 'rec_long', 'rec_tgs',\n",
    "       'fumbles', 'fumbles_lost', 'fumbles_rec', 'defense_tot', 'defense_solo',\n",
    "       'defense_sacks', 'defense_tfl', 'defense_pd', 'defense_qb_hits',\n",
    "       'defense_td', 'interceptions', 'interceptions_yds', 'interceptions_td',\n",
    "       'kicks_return_no', 'kicks_return_yds', 'kicks_return_avg',\n",
    "       'kicks_return_long', 'kicks_return_td', 'punt_return_no',\n",
    "       'punt_return_yds', 'punt_return_avg', 'punt_return_long',\n",
    "       'punt_return_td', 'kicking_fg', 'kicking_pct', 'kicking_long',\n",
    "       'kicking_xp', 'kicking_pts', 'punting_no', 'punting_yds', 'punting_avg',\n",
    "       'punting_tb', 'punting_in_20', 'punting_long']\n",
    "\n",
    "df['rating_player'] = df[metrics].sum(axis=1)\n",
    "df.head()"
   ]
  },
  {
   "cell_type": "markdown",
   "metadata": {},
   "source": [
    "##### RATING FUNCTION"
   ]
  },
  {
   "cell_type": "markdown",
   "metadata": {},
   "source": [
    "#### First thing first: a rating taking into account all the metrics"
   ]
  },
  {
   "cell_type": "code",
   "execution_count": 67,
   "metadata": {},
   "outputs": [],
   "source": [
    "#Define a function to calculate a rating per team\n",
    "def calculate_rating_team(idgame, team):\n",
    "    df_game=df[df['game_id'] == idgame]\n",
    "    df_team=df_game[df_game['team'] == team]\n",
    "    rating_team = df_team['rating_player'].sum()\n",
    "    return team, rating_team"
   ]
  },
  {
   "cell_type": "markdown",
   "metadata": {},
   "source": [
    "###### Test of the function with one game id"
   ]
  },
  {
   "cell_type": "code",
   "execution_count": 71,
   "metadata": {},
   "outputs": [
    {
     "data": {
      "text/plain": [
       "array(['Dolphins', 'Patriots'], dtype=object)"
      ]
     },
     "execution_count": 71,
     "metadata": {},
     "output_type": "execute_result"
    }
   ],
   "source": [
    "test1 = df[df['game_id'] == 401220131]\n",
    "test1['team'].unique()"
   ]
  },
  {
   "cell_type": "code",
   "execution_count": 68,
   "metadata": {},
   "outputs": [
    {
     "data": {
      "text/plain": [
       "('Dolphins', 1364.9888888888888)"
      ]
     },
     "execution_count": 68,
     "metadata": {},
     "output_type": "execute_result"
    }
   ],
   "source": [
    "calculate_rating_team(401220131, 'Dolphins')"
   ]
  },
  {
   "cell_type": "code",
   "execution_count": 72,
   "metadata": {},
   "outputs": [
    {
     "data": {
      "text/plain": [
       "('Patriots', 1346.5561403508773)"
      ]
     },
     "execution_count": 72,
     "metadata": {},
     "output_type": "execute_result"
    }
   ],
   "source": [
    "calculate_rating_team(401220131, 'Patriots')"
   ]
  },
  {
   "cell_type": "markdown",
   "metadata": {},
   "source": [
    "###### Looks like it is working, youpi ! Let's industrialize now !"
   ]
  },
  {
   "cell_type": "markdown",
   "metadata": {},
   "source": [
    "#### A rating per metric"
   ]
  },
  {
   "cell_type": "code",
   "execution_count": 77,
   "metadata": {},
   "outputs": [
    {
     "data": {
      "text/plain": [
       "53"
      ]
     },
     "execution_count": 77,
     "metadata": {},
     "output_type": "execute_result"
    }
   ],
   "source": [
    "len(metrics) # The number of rating we will have at the end"
   ]
  },
  {
   "cell_type": "code",
   "execution_count": null,
   "metadata": {},
   "outputs": [],
   "source": []
  }
 ],
 "metadata": {
  "kernelspec": {
   "display_name": "Python 3.10.6 64-bit (windows store)",
   "language": "python",
   "name": "python3"
  },
  "language_info": {
   "codemirror_mode": {
    "name": "ipython",
    "version": 3
   },
   "file_extension": ".py",
   "mimetype": "text/x-python",
   "name": "python",
   "nbconvert_exporter": "python",
   "pygments_lexer": "ipython3",
   "version": "3.10.6"
  },
  "orig_nbformat": 4,
  "vscode": {
   "interpreter": {
    "hash": "b0f83c99e3f58fcb45df72ba14dd4c5dca51a52ef6a1364f65bf6ca14e4a1196"
   }
  }
 },
 "nbformat": 4,
 "nbformat_minor": 2
}
